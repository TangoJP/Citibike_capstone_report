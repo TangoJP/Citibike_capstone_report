{
 "cells": [
  {
   "cell_type": "markdown",
   "metadata": {},
   "source": [
    "<a id='sec0'></a>\n",
    "# UserType Classification without gender field imbalance\n",
    "- Initial test on user type classification with 'birth year' column removed from the analysis\n",
    "- Demonstrating large imbalance in the dataset\n",
    "- This time, all data from 2013 were used\n",
    "- Test with Multinomial Naive Bayes, Decision Tree, and Random Forest classifiers"
   ]
  },
  {
   "cell_type": "code",
   "execution_count": 1,
   "metadata": {
    "collapsed": true
   },
   "outputs": [],
   "source": [
    "import numpy as np\n",
    "import pandas as pd\n",
    "import matplotlib.pyplot as plt\n",
    "from sklearn.model_selection import train_test_split#, GridSearchCV\n",
    "from sklearn.naive_bayes import MultinomialNB\n",
    "from sklearn.tree import DecisionTreeClassifier\n",
    "from sklearn.ensemble import RandomForestClassifier\n",
    "#from imblearn.under_sampling import TomekLinks, RandomUnderSampler\n",
    "from collections import Counter\n",
    "\n",
    "import my_scoring_functions as msf\n",
    "\n",
    "%matplotlib inline"
   ]
  },
  {
   "cell_type": "markdown",
   "metadata": {},
   "source": [
    "# Setting up Data (This time tried to label subscriber as 0)"
   ]
  },
  {
   "cell_type": "code",
   "execution_count": 2,
   "metadata": {
    "collapsed": true
   },
   "outputs": [],
   "source": [
    "d2013 = pd.read_csv('../data/for_predictions/2013_membership_pred.csv')\n",
    "d2014 = pd.read_csv('../data/for_predictions/2014_membership_pred.csv')\n",
    "d2015 = pd.read_csv('../data/for_predictions/2015_membership_pred.csv')\n",
    "d2016 = pd.read_csv('../data/for_predictions/2016_membership_pred.csv')\n",
    "d2017 = pd.read_csv('../data/for_predictions/2017_membership_pred.csv')"
   ]
  },
  {
   "cell_type": "code",
   "execution_count": 3,
   "metadata": {
    "collapsed": true
   },
   "outputs": [],
   "source": [
    "all_data = [d2013, d2014, d2015, d2016, d2017]"
   ]
  },
  {
   "cell_type": "code",
   "execution_count": 4,
   "metadata": {},
   "outputs": [
    {
     "name": "stdout",
     "output_type": "stream",
     "text": [
      "# Non-subscriber Entries in 2013 = 666940\n",
      "# Non-subscriber Entries in 2014 = 793495\n",
      "# Non-subscriber Entries in 2015 = 1311331\n",
      "# Non-subscriber Entries in 2016 = 1508073\n",
      "# Non-subscriber Entries in 2017 = 92711\n",
      "Total # Non-subscriber Entries = 4372550 (out of 39096233)\n",
      "% of Non-subscriber Entries = 11.184070\n"
     ]
    }
   ],
   "source": [
    "# Obtained the fraction of non-subscribers\n",
    "total = 0\n",
    "total_nonsub = 0\n",
    "for i in range(len(all_data)):\n",
    "    year = i + 2013\n",
    "    d = all_data[i]\n",
    "    nonsubs_num = len(d[d['usertype'] == 'Customer'])\n",
    "    total += len(d)\n",
    "    total_nonsub += nonsubs_num\n",
    "    print('# Non-subscriber Entries in %d = %d' % (year, nonsubs_num))\n",
    "print('Total # Non-subscriber Entries = %d (out of %d)' % (total_nonsub, total))\n",
    "print('%% of Non-subscriber Entries = %f' % (100 * total_nonsub / total))"
   ]
  },
  {
   "cell_type": "code",
   "execution_count": 5,
   "metadata": {
    "collapsed": true
   },
   "outputs": [],
   "source": [
    "all_data = None"
   ]
  },
  {
   "cell_type": "code",
   "execution_count": 6,
   "metadata": {
    "collapsed": true
   },
   "outputs": [],
   "source": [
    "# create dataset for classification\n",
    "data = pd.concat([d2013, d2014, d2015, d2016, d2017], axis=0)\n",
    "data = data.dropna()"
   ]
  },
  {
   "cell_type": "code",
   "execution_count": 7,
   "metadata": {},
   "outputs": [
    {
     "data": {
      "text/plain": [
       "Index(['tripduration', 'start station latitude', 'start station longitude',\n",
       "       'end station latitude', 'end station longitude', 'start_year',\n",
       "       'start_month', 'start_day', 'start_hour', 'start_dayofweek', 'gender',\n",
       "       'usertype'],\n",
       "      dtype='object')"
      ]
     },
     "execution_count": 7,
     "metadata": {},
     "output_type": "execute_result"
    }
   ],
   "source": [
    "# This time, birth year was not included\n",
    "data.columns"
   ]
  },
  {
   "cell_type": "code",
   "execution_count": 8,
   "metadata": {},
   "outputs": [
    {
     "data": {
      "text/html": [
       "<div>\n",
       "<style>\n",
       "    .dataframe thead tr:only-child th {\n",
       "        text-align: right;\n",
       "    }\n",
       "\n",
       "    .dataframe thead th {\n",
       "        text-align: left;\n",
       "    }\n",
       "\n",
       "    .dataframe tbody tr th {\n",
       "        vertical-align: top;\n",
       "    }\n",
       "</style>\n",
       "<table border=\"1\" class=\"dataframe\">\n",
       "  <thead>\n",
       "    <tr style=\"text-align: right;\">\n",
       "      <th></th>\n",
       "      <th>tripduration</th>\n",
       "      <th>start station latitude</th>\n",
       "      <th>start station longitude</th>\n",
       "      <th>end station latitude</th>\n",
       "      <th>end station longitude</th>\n",
       "      <th>start_year</th>\n",
       "      <th>start_month</th>\n",
       "      <th>start_day</th>\n",
       "      <th>start_hour</th>\n",
       "      <th>start_dayofweek</th>\n",
       "      <th>gender</th>\n",
       "      <th>usertype</th>\n",
       "    </tr>\n",
       "  </thead>\n",
       "  <tbody>\n",
       "    <tr>\n",
       "      <th>0</th>\n",
       "      <td>634</td>\n",
       "      <td>40.753231</td>\n",
       "      <td>-73.970325</td>\n",
       "      <td>40.732219</td>\n",
       "      <td>-73.981656</td>\n",
       "      <td>2013</td>\n",
       "      <td>7</td>\n",
       "      <td>1</td>\n",
       "      <td>0</td>\n",
       "      <td>0</td>\n",
       "      <td>0</td>\n",
       "      <td>Customer</td>\n",
       "    </tr>\n",
       "    <tr>\n",
       "      <th>1</th>\n",
       "      <td>1547</td>\n",
       "      <td>40.749718</td>\n",
       "      <td>-74.002950</td>\n",
       "      <td>40.746745</td>\n",
       "      <td>-74.007756</td>\n",
       "      <td>2013</td>\n",
       "      <td>7</td>\n",
       "      <td>1</td>\n",
       "      <td>0</td>\n",
       "      <td>0</td>\n",
       "      <td>0</td>\n",
       "      <td>Customer</td>\n",
       "    </tr>\n",
       "    <tr>\n",
       "      <th>2</th>\n",
       "      <td>178</td>\n",
       "      <td>40.730287</td>\n",
       "      <td>-73.990765</td>\n",
       "      <td>40.730473</td>\n",
       "      <td>-73.986724</td>\n",
       "      <td>2013</td>\n",
       "      <td>7</td>\n",
       "      <td>1</td>\n",
       "      <td>0</td>\n",
       "      <td>0</td>\n",
       "      <td>2</td>\n",
       "      <td>Subscriber</td>\n",
       "    </tr>\n",
       "    <tr>\n",
       "      <th>3</th>\n",
       "      <td>1580</td>\n",
       "      <td>40.718939</td>\n",
       "      <td>-73.992663</td>\n",
       "      <td>40.769155</td>\n",
       "      <td>-73.981918</td>\n",
       "      <td>2013</td>\n",
       "      <td>7</td>\n",
       "      <td>1</td>\n",
       "      <td>0</td>\n",
       "      <td>0</td>\n",
       "      <td>0</td>\n",
       "      <td>Customer</td>\n",
       "    </tr>\n",
       "    <tr>\n",
       "      <th>4</th>\n",
       "      <td>757</td>\n",
       "      <td>40.734927</td>\n",
       "      <td>-73.992005</td>\n",
       "      <td>40.720664</td>\n",
       "      <td>-73.985180</td>\n",
       "      <td>2013</td>\n",
       "      <td>7</td>\n",
       "      <td>1</td>\n",
       "      <td>0</td>\n",
       "      <td>0</td>\n",
       "      <td>1</td>\n",
       "      <td>Subscriber</td>\n",
       "    </tr>\n",
       "  </tbody>\n",
       "</table>\n",
       "</div>"
      ],
      "text/plain": [
       "   tripduration  start station latitude  start station longitude  \\\n",
       "0           634               40.753231               -73.970325   \n",
       "1          1547               40.749718               -74.002950   \n",
       "2           178               40.730287               -73.990765   \n",
       "3          1580               40.718939               -73.992663   \n",
       "4           757               40.734927               -73.992005   \n",
       "\n",
       "   end station latitude  end station longitude  start_year  start_month  \\\n",
       "0             40.732219             -73.981656        2013            7   \n",
       "1             40.746745             -74.007756        2013            7   \n",
       "2             40.730473             -73.986724        2013            7   \n",
       "3             40.769155             -73.981918        2013            7   \n",
       "4             40.720664             -73.985180        2013            7   \n",
       "\n",
       "   start_day  start_hour  start_dayofweek  gender    usertype  \n",
       "0          1           0                0       0    Customer  \n",
       "1          1           0                0       0    Customer  \n",
       "2          1           0                0       2  Subscriber  \n",
       "3          1           0                0       0    Customer  \n",
       "4          1           0                0       1  Subscriber  "
      ]
     },
     "execution_count": 8,
     "metadata": {},
     "output_type": "execute_result"
    }
   ],
   "source": [
    "data.head()"
   ]
  },
  {
   "cell_type": "code",
   "execution_count": 9,
   "metadata": {
    "scrolled": true
   },
   "outputs": [
    {
     "data": {
      "text/html": [
       "<div>\n",
       "<style>\n",
       "    .dataframe thead tr:only-child th {\n",
       "        text-align: right;\n",
       "    }\n",
       "\n",
       "    .dataframe thead th {\n",
       "        text-align: left;\n",
       "    }\n",
       "\n",
       "    .dataframe tbody tr th {\n",
       "        vertical-align: top;\n",
       "    }\n",
       "</style>\n",
       "<table border=\"1\" class=\"dataframe\">\n",
       "  <thead>\n",
       "    <tr style=\"text-align: right;\">\n",
       "      <th></th>\n",
       "      <th>tripduration</th>\n",
       "      <th>start station latitude</th>\n",
       "      <th>start station longitude</th>\n",
       "      <th>end station latitude</th>\n",
       "      <th>end station longitude</th>\n",
       "      <th>start_year</th>\n",
       "      <th>start_month</th>\n",
       "      <th>start_day</th>\n",
       "      <th>start_hour</th>\n",
       "      <th>start_dayofweek</th>\n",
       "      <th>gender</th>\n",
       "    </tr>\n",
       "  </thead>\n",
       "  <tbody>\n",
       "    <tr>\n",
       "      <th>count</th>\n",
       "      <td>39096233.0</td>\n",
       "      <td>39096233.0</td>\n",
       "      <td>39096233.0</td>\n",
       "      <td>39096233.0</td>\n",
       "      <td>39096233.0</td>\n",
       "      <td>39096233.0</td>\n",
       "      <td>39096233.0</td>\n",
       "      <td>39096233.0</td>\n",
       "      <td>39096233.0</td>\n",
       "      <td>39096233.0</td>\n",
       "      <td>39096233.0</td>\n",
       "    </tr>\n",
       "    <tr>\n",
       "      <th>mean</th>\n",
       "      <td>920.0</td>\n",
       "      <td>41.0</td>\n",
       "      <td>-74.0</td>\n",
       "      <td>41.0</td>\n",
       "      <td>-74.0</td>\n",
       "      <td>2015.0</td>\n",
       "      <td>7.0</td>\n",
       "      <td>16.0</td>\n",
       "      <td>14.0</td>\n",
       "      <td>3.0</td>\n",
       "      <td>1.0</td>\n",
       "    </tr>\n",
       "    <tr>\n",
       "      <th>std</th>\n",
       "      <td>7616.0</td>\n",
       "      <td>0.0</td>\n",
       "      <td>0.0</td>\n",
       "      <td>0.0</td>\n",
       "      <td>0.0</td>\n",
       "      <td>1.0</td>\n",
       "      <td>3.0</td>\n",
       "      <td>9.0</td>\n",
       "      <td>5.0</td>\n",
       "      <td>2.0</td>\n",
       "      <td>1.0</td>\n",
       "    </tr>\n",
       "    <tr>\n",
       "      <th>min</th>\n",
       "      <td>60.0</td>\n",
       "      <td>0.0</td>\n",
       "      <td>-74.0</td>\n",
       "      <td>0.0</td>\n",
       "      <td>-74.0</td>\n",
       "      <td>2013.0</td>\n",
       "      <td>1.0</td>\n",
       "      <td>1.0</td>\n",
       "      <td>0.0</td>\n",
       "      <td>0.0</td>\n",
       "      <td>0.0</td>\n",
       "    </tr>\n",
       "    <tr>\n",
       "      <th>25%</th>\n",
       "      <td>385.0</td>\n",
       "      <td>41.0</td>\n",
       "      <td>-74.0</td>\n",
       "      <td>41.0</td>\n",
       "      <td>-74.0</td>\n",
       "      <td>2014.0</td>\n",
       "      <td>5.0</td>\n",
       "      <td>8.0</td>\n",
       "      <td>10.0</td>\n",
       "      <td>1.0</td>\n",
       "      <td>1.0</td>\n",
       "    </tr>\n",
       "    <tr>\n",
       "      <th>50%</th>\n",
       "      <td>623.0</td>\n",
       "      <td>41.0</td>\n",
       "      <td>-74.0</td>\n",
       "      <td>41.0</td>\n",
       "      <td>-74.0</td>\n",
       "      <td>2015.0</td>\n",
       "      <td>8.0</td>\n",
       "      <td>16.0</td>\n",
       "      <td>15.0</td>\n",
       "      <td>3.0</td>\n",
       "      <td>1.0</td>\n",
       "    </tr>\n",
       "    <tr>\n",
       "      <th>75%</th>\n",
       "      <td>1042.0</td>\n",
       "      <td>41.0</td>\n",
       "      <td>-74.0</td>\n",
       "      <td>41.0</td>\n",
       "      <td>-74.0</td>\n",
       "      <td>2016.0</td>\n",
       "      <td>10.0</td>\n",
       "      <td>23.0</td>\n",
       "      <td>18.0</td>\n",
       "      <td>4.0</td>\n",
       "      <td>1.0</td>\n",
       "    </tr>\n",
       "    <tr>\n",
       "      <th>max</th>\n",
       "      <td>8933552.0</td>\n",
       "      <td>41.0</td>\n",
       "      <td>0.0</td>\n",
       "      <td>41.0</td>\n",
       "      <td>0.0</td>\n",
       "      <td>2017.0</td>\n",
       "      <td>12.0</td>\n",
       "      <td>31.0</td>\n",
       "      <td>23.0</td>\n",
       "      <td>6.0</td>\n",
       "      <td>2.0</td>\n",
       "    </tr>\n",
       "  </tbody>\n",
       "</table>\n",
       "</div>"
      ],
      "text/plain": [
       "       tripduration  start station latitude  start station longitude  \\\n",
       "count    39096233.0              39096233.0               39096233.0   \n",
       "mean          920.0                    41.0                    -74.0   \n",
       "std          7616.0                     0.0                      0.0   \n",
       "min            60.0                     0.0                    -74.0   \n",
       "25%           385.0                    41.0                    -74.0   \n",
       "50%           623.0                    41.0                    -74.0   \n",
       "75%          1042.0                    41.0                    -74.0   \n",
       "max       8933552.0                    41.0                      0.0   \n",
       "\n",
       "       end station latitude  end station longitude  start_year  start_month  \\\n",
       "count            39096233.0             39096233.0  39096233.0   39096233.0   \n",
       "mean                   41.0                  -74.0      2015.0          7.0   \n",
       "std                     0.0                    0.0         1.0          3.0   \n",
       "min                     0.0                  -74.0      2013.0          1.0   \n",
       "25%                    41.0                  -74.0      2014.0          5.0   \n",
       "50%                    41.0                  -74.0      2015.0          8.0   \n",
       "75%                    41.0                  -74.0      2016.0         10.0   \n",
       "max                    41.0                    0.0      2017.0         12.0   \n",
       "\n",
       "        start_day  start_hour  start_dayofweek      gender  \n",
       "count  39096233.0  39096233.0       39096233.0  39096233.0  \n",
       "mean         16.0        14.0              3.0         1.0  \n",
       "std           9.0         5.0              2.0         1.0  \n",
       "min           1.0         0.0              0.0         0.0  \n",
       "25%           8.0        10.0              1.0         1.0  \n",
       "50%          16.0        15.0              3.0         1.0  \n",
       "75%          23.0        18.0              4.0         1.0  \n",
       "max          31.0        23.0              6.0         2.0  "
      ]
     },
     "execution_count": 9,
     "metadata": {},
     "output_type": "execute_result"
    }
   ],
   "source": [
    "data.describe().round(0)"
   ]
  },
  {
   "cell_type": "code",
   "execution_count": 10,
   "metadata": {
    "collapsed": true
   },
   "outputs": [],
   "source": [
    "# Store name of the features for later use\n",
    "feature_labels = data.columns[:-1]"
   ]
  },
  {
   "cell_type": "code",
   "execution_count": 11,
   "metadata": {
    "collapsed": true
   },
   "outputs": [],
   "source": [
    "# Create X and y for sklearn\n",
    "X = data[data.columns[:-1]].astype(np.float)\n",
    "y = (data['usertype'] == 'Customer').values.astype(np.int)"
   ]
  },
  {
   "cell_type": "code",
   "execution_count": 12,
   "metadata": {
    "collapsed": true
   },
   "outputs": [],
   "source": [
    "# Clear memory\n",
    "data = None"
   ]
  },
  {
   "cell_type": "markdown",
   "metadata": {},
   "source": [
    "<b>Class frequency in the original dataset</b>"
   ]
  },
  {
   "cell_type": "code",
   "execution_count": 13,
   "metadata": {},
   "outputs": [
    {
     "name": "stdout",
     "output_type": "stream",
     "text": [
      "==== Original Dataset ====\n",
      "Total number of Rides: 39096233\n",
      "Total number of Rides by Subscribers: 34723683 (88.82% of total rides)\n",
      "Total number of Rides by Non-subscribers: 4372550 (11.18% of total rides)\n"
     ]
    }
   ],
   "source": [
    "print('==== Original Dataset ====')\n",
    "total_number_rides = len(y)\n",
    "total_number_subscribers = Counter(y)[0]\n",
    "total_number_nonsubscribers = Counter(y)[1]\n",
    "subs_perc = 100*total_number_subscribers / total_number_rides\n",
    "nonsubs_perc = 100*total_number_nonsubscribers / total_number_rides\n",
    "original_stats = {'total': total_number_rides, \n",
    "                              'numbers': [total_number_subscribers, total_number_nonsubscribers],\n",
    "                              'percentages': [subs_perc, nonsubs_perc]}\n",
    "print('Total number of Rides: %d' % total_number_rides)\n",
    "print('Total number of Rides by Subscribers: %d (%.2f%% of total rides)' % (total_number_subscribers, subs_perc))\n",
    "print('Total number of Rides by Non-subscribers: %d (%.2f%% of total rides)' % (total_number_nonsubscribers, nonsubs_perc))"
   ]
  },
  {
   "cell_type": "markdown",
   "metadata": {},
   "source": [
    "# Initial classification with NaiveBayes, DecisionTree, and RandomForest"
   ]
  },
  {
   "cell_type": "code",
   "execution_count": 14,
   "metadata": {
    "collapsed": true
   },
   "outputs": [],
   "source": [
    "X_train, X_test, y_train, y_test = train_test_split(X, y, test_size=0.4)"
   ]
  },
  {
   "cell_type": "code",
   "execution_count": 15,
   "metadata": {},
   "outputs": [
    {
     "name": "stdout",
     "output_type": "stream",
     "text": [
      "CPU times: user 7.14 s, sys: 7.56 s, total: 14.7 s\n",
      "Wall time: 17.1 s\n"
     ]
    }
   ],
   "source": [
    "%%time\n",
    "Xnbc_train = X_train.copy()\n",
    "Xnbc_test = X_test.copy()\n",
    "Xnbc_train.iloc[:, [2, 4]] = np.abs(Xnbc_train.iloc[:, [2, 4]])\n",
    "Xnbc_test.iloc[:, [2, 4]] = np.abs(Xnbc_test.iloc[:, [2, 4]])\n",
    "\n",
    "nbc = MultinomialNB()\n",
    "nbc.fit(Xnbc_train, y_train)"
   ]
  },
  {
   "cell_type": "code",
   "execution_count": 16,
   "metadata": {},
   "outputs": [
    {
     "name": "stdout",
     "output_type": "stream",
     "text": [
      "CPU times: user 5min 59s, sys: 4.24 s, total: 6min 3s\n",
      "Wall time: 6min 4s\n"
     ]
    }
   ],
   "source": [
    "%%time\n",
    "dtc = DecisionTreeClassifier()\n",
    "dtc.fit(X_train, y_train)"
   ]
  },
  {
   "cell_type": "code",
   "execution_count": 17,
   "metadata": {},
   "outputs": [
    {
     "name": "stdout",
     "output_type": "stream",
     "text": [
      "CPU times: user 30min 15s, sys: 26 s, total: 30min 41s\n",
      "Wall time: 9min 31s\n"
     ]
    }
   ],
   "source": [
    "%%time\n",
    "rfc = RandomForestClassifier(n_jobs=4)\n",
    "rfc.fit(X_train, y_train)"
   ]
  },
  {
   "cell_type": "code",
   "execution_count": 18,
   "metadata": {},
   "outputs": [
    {
     "name": "stdout",
     "output_type": "stream",
     "text": [
      "CPU times: user 1min 51s, sys: 25.2 s, total: 2min 17s\n",
      "Wall time: 2min 6s\n"
     ]
    }
   ],
   "source": [
    "%%time\n",
    "nbc_results = msf.score_clf2(nbc, Xnbc_test, y_test, X_train=Xnbc_train, y_train=y_train)"
   ]
  },
  {
   "cell_type": "code",
   "execution_count": 19,
   "metadata": {},
   "outputs": [
    {
     "name": "stdout",
     "output_type": "stream",
     "text": [
      "CPU times: user 1min 22s, sys: 16.4 s, total: 1min 39s\n",
      "Wall time: 1min 39s\n"
     ]
    }
   ],
   "source": [
    "%%time\n",
    "dtc_results = msf.score_clf2(dtc, X_test, y_test, X_train=X_train, y_train=y_train)"
   ]
  },
  {
   "cell_type": "code",
   "execution_count": 20,
   "metadata": {},
   "outputs": [
    {
     "name": "stdout",
     "output_type": "stream",
     "text": [
      "CPU times: user 3min 59s, sys: 27.9 s, total: 4min 27s\n",
      "Wall time: 2min 27s\n"
     ]
    }
   ],
   "source": [
    "%%time\n",
    "rfc_results = msf.score_clf2(rfc, X_test, y_test, X_train=X_train, y_train=y_train)"
   ]
  },
  {
   "cell_type": "code",
   "execution_count": 22,
   "metadata": {
    "scrolled": false
   },
   "outputs": [
    {
     "name": "stdout",
     "output_type": "stream",
     "text": [
      "==== Naive Bayes Metrics on Test Set ====\n",
      "Accuracy: 0.820022\n",
      "Precision: 0.310895\n",
      "Recall: 0.500652\n",
      "F-Score: 0.383589\n",
      "Brier Score: 0.179452\n",
      "Average Precision Score: 0.429860\n",
      "Confusion Matrix:  [[11948153  1941119]\n",
      " [  873471   875751]]\n",
      "==== Naive Bayes Metrics on Train Set ====\n",
      "Accuracy: 0.820206\n",
      "Precision: 0.311279\n",
      "Recall: 0.501185\n",
      "F-Score: 0.384037\n",
      "Brier Score: 0.179275\n",
      "Average Precision Score: 0.430186\n",
      "Confusion Matrix:  [[17925404  2909007]\n",
      " [ 1308556  1314772]]\n",
      "\n",
      "\n",
      "==== Decision Tree Metrics on Test Set ====\n",
      "Accuracy: 0.993209\n",
      "Precision: 0.969353\n",
      "Recall: 0.969956\n",
      "F-Score: 0.969655\n",
      "Brier Score: 0.006790\n",
      "Average Precision Score: 0.971336\n",
      "Confusion Matrix:  [[13835631    53641]\n",
      " [   52553  1696669]]\n",
      "==== Decision Tree Metrics on Train Set ====\n",
      "Accuracy: 0.999999\n",
      "Precision: 1.000000\n",
      "Recall: 0.999995\n",
      "F-Score: 0.999997\n",
      "Brier Score: 0.000000\n",
      "Average Precision Score: 1.000000\n",
      "Confusion Matrix:  [[20834411        0]\n",
      " [      14  2623314]]\n",
      "--------------- Feature Importances ---------------\n",
      " 1) gender               0.945235\n",
      " 2) tripduration         0.010853\n",
      " 3) start station latitude 0.007537\n",
      " 4) end station latitude 0.006720\n",
      " 5) start station longitude 0.006466\n",
      " 6) end station longitude 0.006250\n",
      " 7) start_hour           0.004542\n",
      " 8) start_day            0.003928\n",
      " 9) start_year           0.003291\n",
      "10) start_month          0.002828\n",
      "11) start_dayofweek      0.002351\n",
      "\n",
      "\n",
      "\n",
      "\n",
      "==== Random Forest Metrics on Test Set ====\n",
      "Accuracy: 0.995639\n",
      "Precision: 0.976536\n",
      "Recall: 0.984670\n",
      "F-Score: 0.980586\n",
      "Brier Score: 0.003652\n",
      "Average Precision Score: 0.993474\n",
      "Confusion Matrix:  [[13847887    41385]\n",
      " [   26816  1722406]]\n",
      "==== Random Forest Metrics on Train Set ====\n",
      "Accuracy: 0.999669\n",
      "Precision: 0.998828\n",
      "Recall: 0.998208\n",
      "F-Score: 0.998518\n",
      "Brier Score: 0.000655\n",
      "Average Precision Score: 0.999989\n",
      "Confusion Matrix:  [[20831339     3072]\n",
      " [    4701  2618627]]\n",
      "--------------- Feature Importances ---------------\n",
      " 1) gender               0.882454\n",
      " 2) tripduration         0.041797\n",
      " 3) start_dayofweek      0.013975\n",
      " 4) start_hour           0.013280\n",
      " 5) start station latitude 0.010715\n",
      " 6) end station latitude 0.010183\n",
      " 7) end station longitude 0.007386\n",
      " 8) start station longitude 0.006956\n",
      " 9) start_month          0.005433\n",
      "10) start_day            0.004114\n",
      "11) start_year           0.003708\n",
      "\n",
      "\n",
      "\n",
      "\n"
     ]
    },
    {
     "data": {
      "text/plain": [
       "<matplotlib.legend.Legend at 0x10d5ec3c8>"
      ]
     },
     "execution_count": 22,
     "metadata": {},
     "output_type": "execute_result"
    },
    {
     "data": {
      "image/png": "[encoded data removed]",
      "text/plain": [
       "<matplotlib.figure.Figure at 0x10d0f7940>"
      ]
     },
     "metadata": {},
     "output_type": "display_data"
    }
   ],
   "source": [
    "# With newer version with precision-recall curve implemnented\n",
    "clf_names = ['Naive Bayes', 'Decision Tree', 'Random Forest']\n",
    "results = [nbc_results, dtc_results, rfc_results]\n",
    "\n",
    "fig, (ax1, ax2) = plt.subplots(1, 2, figsize=(11, 5))\n",
    "\n",
    "for i in range(len(clf_names)):\n",
    "    if clf_names[i] == 'Naive Bayes':\n",
    "        msf.print_clf_scores2(results[i], trainset=True, clf_name=clf_names[i])\n",
    "    else:\n",
    "        msf.print_clf_scores2(results[i], trainset=True, clf_name=clf_names[i], feature_labels=feature_labels)\n",
    "    print('\\n')\n",
    "                               \n",
    "    fpr = results[i]['scores']['roc_curve'][0]\n",
    "    tpr = results[i]['scores']['roc_curve'][1]\n",
    "    roc_auc = results[i]['scores']['roc_auc']\n",
    "    ax1.plot(fpr, tpr, ls='-', label='%s (ROC AUC = %0.2f)' % (clf_names[i], roc_auc))\n",
    "    \n",
    "    # Precision-Recall Curve to be implemented here\n",
    "    prec = results[i]['scores']['pr_curve'][0]\n",
    "    rec = results[i]['scores']['pr_curve'][1]      \n",
    "    ax2.plot(prec, rec, label='%s' % clf_names[i])\n",
    "\n",
    "x = np.linspace(0, 1, 10)\n",
    "y = np.linspace(0, 1, 10)                               \n",
    "ax1.plot(x, y, ls='--')\n",
    "ax1.set_title('ROC Curves', fontsize=16)\n",
    "ax1.set_xlabel('False Positive Rate', fontsize=14)\n",
    "ax1.set_ylabel('True Positive Rate', fontsize=14)\n",
    "ax1.legend(loc='lower right')\n",
    "\n",
    "ax2.set_title('Precision-Recall Curve', fontsize=16)\n",
    "ax2.set_xlabel('Precision', fontsize=14)\n",
    "ax2.set_ylabel('Recall', fontsize=14)\n",
    "ax2.legend(loc='lower left')                             "
   ]
  },
  {
   "cell_type": "code",
   "execution_count": 23,
   "metadata": {
    "collapsed": true
   },
   "outputs": [],
   "source": [
    "# Create a table fo summarize the results\n",
    "data_summary = [nbc_results['scores_train'], nbc_results['scores'], \n",
    "                                dtc_results['scores_train'], dtc_results['scores'], \n",
    "                                rfc_results['scores_train'], rfc_results['scores']]\n",
    "summary = pd.DataFrame(data_summary)\n",
    "summary['Classifier'] = ['Multinomial Naive Bayes', 'Multinomial Naive Bayes',\n",
    "                                           'Decision Tree', 'Decision Tree',\n",
    "                                           'Rando Forest', 'Rando Forest']\n",
    "summary['dataset type'] = ['train', 'test', 'train', 'test', 'train', 'test',]\n",
    "summary = summary[['Classifier', 'dataset type', 'accuracy', 'precision', 'recall', 'f1', \n",
    "                                               'average_precision_score', 'brier']]"
   ]
  },
  {
   "cell_type": "code",
   "execution_count": 24,
   "metadata": {},
   "outputs": [
    {
     "name": "stdout",
     "output_type": "stream",
     "text": [
      "==== Performance of Classifiers ====\n"
     ]
    },
    {
     "data": {
      "text/html": [
       "<div>\n",
       "<style>\n",
       "    .dataframe thead tr:only-child th {\n",
       "        text-align: right;\n",
       "    }\n",
       "\n",
       "    .dataframe thead th {\n",
       "        text-align: left;\n",
       "    }\n",
       "\n",
       "    .dataframe tbody tr th {\n",
       "        vertical-align: top;\n",
       "    }\n",
       "</style>\n",
       "<table border=\"1\" class=\"dataframe\">\n",
       "  <thead>\n",
       "    <tr style=\"text-align: right;\">\n",
       "      <th></th>\n",
       "      <th>Classifier</th>\n",
       "      <th>dataset type</th>\n",
       "      <th>accuracy</th>\n",
       "      <th>precision</th>\n",
       "      <th>recall</th>\n",
       "      <th>f1</th>\n",
       "      <th>average_precision_score</th>\n",
       "      <th>brier</th>\n",
       "    </tr>\n",
       "  </thead>\n",
       "  <tbody>\n",
       "    <tr>\n",
       "      <th>0</th>\n",
       "      <td>Multinomial Naive Bayes</td>\n",
       "      <td>train</td>\n",
       "      <td>0.820206</td>\n",
       "      <td>0.311279</td>\n",
       "      <td>0.501185</td>\n",
       "      <td>0.384037</td>\n",
       "      <td>0.430186</td>\n",
       "      <td>1.792751e-01</td>\n",
       "    </tr>\n",
       "    <tr>\n",
       "      <th>1</th>\n",
       "      <td>Multinomial Naive Bayes</td>\n",
       "      <td>test</td>\n",
       "      <td>0.820022</td>\n",
       "      <td>0.310895</td>\n",
       "      <td>0.500652</td>\n",
       "      <td>0.383589</td>\n",
       "      <td>0.429860</td>\n",
       "      <td>1.794515e-01</td>\n",
       "    </tr>\n",
       "    <tr>\n",
       "      <th>2</th>\n",
       "      <td>Decision Tree</td>\n",
       "      <td>train</td>\n",
       "      <td>0.999999</td>\n",
       "      <td>1.000000</td>\n",
       "      <td>0.999995</td>\n",
       "      <td>0.999997</td>\n",
       "      <td>1.000000</td>\n",
       "      <td>2.984090e-07</td>\n",
       "    </tr>\n",
       "    <tr>\n",
       "      <th>3</th>\n",
       "      <td>Decision Tree</td>\n",
       "      <td>test</td>\n",
       "      <td>0.993209</td>\n",
       "      <td>0.969353</td>\n",
       "      <td>0.969956</td>\n",
       "      <td>0.969655</td>\n",
       "      <td>0.971336</td>\n",
       "      <td>6.790472e-03</td>\n",
       "    </tr>\n",
       "    <tr>\n",
       "      <th>4</th>\n",
       "      <td>Rando Forest</td>\n",
       "      <td>train</td>\n",
       "      <td>0.999669</td>\n",
       "      <td>0.998828</td>\n",
       "      <td>0.998208</td>\n",
       "      <td>0.998518</td>\n",
       "      <td>0.999989</td>\n",
       "      <td>6.545077e-04</td>\n",
       "    </tr>\n",
       "    <tr>\n",
       "      <th>5</th>\n",
       "      <td>Rando Forest</td>\n",
       "      <td>test</td>\n",
       "      <td>0.995639</td>\n",
       "      <td>0.976536</td>\n",
       "      <td>0.984670</td>\n",
       "      <td>0.980586</td>\n",
       "      <td>0.993474</td>\n",
       "      <td>3.652144e-03</td>\n",
       "    </tr>\n",
       "  </tbody>\n",
       "</table>\n",
       "</div>"
      ],
      "text/plain": [
       "                Classifier dataset type  accuracy  precision    recall  \\\n",
       "0  Multinomial Naive Bayes        train  0.820206   0.311279  0.501185   \n",
       "1  Multinomial Naive Bayes         test  0.820022   0.310895  0.500652   \n",
       "2            Decision Tree        train  0.999999   1.000000  0.999995   \n",
       "3            Decision Tree         test  0.993209   0.969353  0.969956   \n",
       "4             Rando Forest        train  0.999669   0.998828  0.998208   \n",
       "5             Rando Forest         test  0.995639   0.976536  0.984670   \n",
       "\n",
       "         f1  average_precision_score         brier  \n",
       "0  0.384037                 0.430186  1.792751e-01  \n",
       "1  0.383589                 0.429860  1.794515e-01  \n",
       "2  0.999997                 1.000000  2.984090e-07  \n",
       "3  0.969655                 0.971336  6.790472e-03  \n",
       "4  0.998518                 0.999989  6.545077e-04  \n",
       "5  0.980586                 0.993474  3.652144e-03  "
      ]
     },
     "execution_count": 24,
     "metadata": {},
     "output_type": "execute_result"
    }
   ],
   "source": [
    "print('==== Performance of Classifiers ====')\n",
    "summary"
   ]
  },
  {
   "cell_type": "markdown",
   "metadata": {
    "collapsed": true
   },
   "source": [
    "<b>The reason for near perfect classification by gender is because ~96% of non-subscribers have gender = unknown! Other things only help further refine the classification...</b>"
   ]
  },
  {
   "cell_type": "code",
   "execution_count": null,
   "metadata": {
    "collapsed": true
   },
   "outputs": [],
   "source": []
  }
 ],
 "metadata": {
  "kernelspec": {
   "display_name": "Python 3",
   "language": "python",
   "name": "python3"
  },
  "language_info": {
   "codemirror_mode": {
    "name": "ipython",
    "version": 3
   },
   "file_extension": ".py",
   "mimetype": "text/x-python",
   "name": "python",
   "nbconvert_exporter": "python",
   "pygments_lexer": "ipython3",
   "version": "3.6.1"
  }
 },
 "nbformat": 4,
 "nbformat_minor": 2
}
