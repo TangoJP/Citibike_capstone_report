{
 "cells": [
  {
   "cell_type": "markdown",
   "metadata": {},
   "source": [
    "<a id='sec0'></a>\n",
    "# Gender Type Distribution in the dataset used for classification"
   ]
  },
  {
   "cell_type": "code",
   "execution_count": 1,
   "metadata": {
    "collapsed": true
   },
   "outputs": [],
   "source": [
    "import numpy as np\n",
    "import pandas as pd\n",
    "import matplotlib.pyplot as plt\n",
    "from sklearn.model_selection import train_test_split#, GridSearchCV\n",
    "from sklearn.naive_bayes import MultinomialNB\n",
    "from sklearn.tree import DecisionTreeClassifier\n",
    "from sklearn.ensemble import RandomForestClassifier\n",
    "#from imblearn.under_sampling import TomekLinks, RandomUnderSampler\n",
    "from collections import Counter\n",
    "\n",
    "import my_scoring_functions as msf\n",
    "\n",
    "%matplotlib inline"
   ]
  },
  {
   "cell_type": "markdown",
   "metadata": {},
   "source": [
    "# Setting up Data (This time tried to label subscriber as 0)"
   ]
  },
  {
   "cell_type": "code",
   "execution_count": 2,
   "metadata": {
    "collapsed": true
   },
   "outputs": [],
   "source": [
    "d2013 = pd.read_csv('../data/for_predictions/2013_membership_pred.csv')\n",
    "d2014 = pd.read_csv('../data/for_predictions/2014_membership_pred.csv')\n",
    "d2015 = pd.read_csv('../data/for_predictions/2015_membership_pred.csv')\n",
    "d2016 = pd.read_csv('../data/for_predictions/2016_membership_pred.csv')\n",
    "d2017 = pd.read_csv('../data/for_predictions/2017_membership_pred.csv')"
   ]
  },
  {
   "cell_type": "code",
   "execution_count": 3,
   "metadata": {
    "collapsed": true
   },
   "outputs": [],
   "source": [
    "all_data = [d2013, d2014, d2015, d2016, d2017]"
   ]
  },
  {
   "cell_type": "code",
   "execution_count": 4,
   "metadata": {},
   "outputs": [
    {
     "name": "stdout",
     "output_type": "stream",
     "text": [
      "# Non-subscriber Entries in 2013 = 666940\n",
      "# Non-subscriber Entries in 2014 = 793495\n",
      "# Non-subscriber Entries in 2015 = 1311331\n",
      "# Non-subscriber Entries in 2016 = 1508073\n",
      "# Non-subscriber Entries in 2017 = 92711\n",
      "Total # Non-subscriber Entries = 4372550 (out of 39096233)\n",
      "% of Non-subscriber Entries = 11.184070\n"
     ]
    }
   ],
   "source": [
    "# Get the overall fraction of the non-subscribers in the whole dataset\n",
    "total = 0\n",
    "total_nonsub = 0\n",
    "for i in range(len(all_data)):\n",
    "    year = i + 2013\n",
    "    d = all_data[i]\n",
    "    nonsubs_num = len(d[d['usertype'] == 'Customer'])\n",
    "    total += len(d)\n",
    "    total_nonsub += nonsubs_num\n",
    "    print('# Non-subscriber Entries in %d = %d' % (year, nonsubs_num))\n",
    "print('Total # Non-subscriber Entries = %d (out of %d)' % (total_nonsub, total))\n",
    "print('%% of Non-subscriber Entries = %f' % (100 * total_nonsub / total))"
   ]
  },
  {
   "cell_type": "code",
   "execution_count": 5,
   "metadata": {
    "collapsed": true
   },
   "outputs": [],
   "source": [
    "all_data = None"
   ]
  },
  {
   "cell_type": "code",
   "execution_count": 6,
   "metadata": {
    "collapsed": true
   },
   "outputs": [],
   "source": [
    "# create a dataset for the analysis\n",
    "data = pd.concat([d2013, d2014, d2015, d2016, d2017], axis=0)\n",
    "data = data.dropna()\n",
    "#del data['gender']"
   ]
  },
  {
   "cell_type": "code",
   "execution_count": 7,
   "metadata": {},
   "outputs": [
    {
     "data": {
      "text/plain": [
       "Index(['tripduration', 'start station latitude', 'start station longitude',\n",
       "       'end station latitude', 'end station longitude', 'start_year',\n",
       "       'start_month', 'start_day', 'start_hour', 'start_dayofweek', 'gender',\n",
       "       'usertype'],\n",
       "      dtype='object')"
      ]
     },
     "execution_count": 7,
     "metadata": {},
     "output_type": "execute_result"
    }
   ],
   "source": [
    "# this time birth year was removed\n",
    "data.columns"
   ]
  },
  {
   "cell_type": "code",
   "execution_count": 8,
   "metadata": {},
   "outputs": [
    {
     "data": {
      "text/html": [
       "<div>\n",
       "<style>\n",
       "    .dataframe thead tr:only-child th {\n",
       "        text-align: right;\n",
       "    }\n",
       "\n",
       "    .dataframe thead th {\n",
       "        text-align: left;\n",
       "    }\n",
       "\n",
       "    .dataframe tbody tr th {\n",
       "        vertical-align: top;\n",
       "    }\n",
       "</style>\n",
       "<table border=\"1\" class=\"dataframe\">\n",
       "  <thead>\n",
       "    <tr style=\"text-align: right;\">\n",
       "      <th></th>\n",
       "      <th>tripduration</th>\n",
       "      <th>start station latitude</th>\n",
       "      <th>start station longitude</th>\n",
       "      <th>end station latitude</th>\n",
       "      <th>end station longitude</th>\n",
       "      <th>start_year</th>\n",
       "      <th>start_month</th>\n",
       "      <th>start_day</th>\n",
       "      <th>start_hour</th>\n",
       "      <th>start_dayofweek</th>\n",
       "      <th>gender</th>\n",
       "      <th>usertype</th>\n",
       "    </tr>\n",
       "  </thead>\n",
       "  <tbody>\n",
       "    <tr>\n",
       "      <th>0</th>\n",
       "      <td>634</td>\n",
       "      <td>40.753231</td>\n",
       "      <td>-73.970325</td>\n",
       "      <td>40.732219</td>\n",
       "      <td>-73.981656</td>\n",
       "      <td>2013</td>\n",
       "      <td>7</td>\n",
       "      <td>1</td>\n",
       "      <td>0</td>\n",
       "      <td>0</td>\n",
       "      <td>0</td>\n",
       "      <td>Customer</td>\n",
       "    </tr>\n",
       "    <tr>\n",
       "      <th>1</th>\n",
       "      <td>1547</td>\n",
       "      <td>40.749718</td>\n",
       "      <td>-74.002950</td>\n",
       "      <td>40.746745</td>\n",
       "      <td>-74.007756</td>\n",
       "      <td>2013</td>\n",
       "      <td>7</td>\n",
       "      <td>1</td>\n",
       "      <td>0</td>\n",
       "      <td>0</td>\n",
       "      <td>0</td>\n",
       "      <td>Customer</td>\n",
       "    </tr>\n",
       "    <tr>\n",
       "      <th>2</th>\n",
       "      <td>178</td>\n",
       "      <td>40.730287</td>\n",
       "      <td>-73.990765</td>\n",
       "      <td>40.730473</td>\n",
       "      <td>-73.986724</td>\n",
       "      <td>2013</td>\n",
       "      <td>7</td>\n",
       "      <td>1</td>\n",
       "      <td>0</td>\n",
       "      <td>0</td>\n",
       "      <td>2</td>\n",
       "      <td>Subscriber</td>\n",
       "    </tr>\n",
       "    <tr>\n",
       "      <th>3</th>\n",
       "      <td>1580</td>\n",
       "      <td>40.718939</td>\n",
       "      <td>-73.992663</td>\n",
       "      <td>40.769155</td>\n",
       "      <td>-73.981918</td>\n",
       "      <td>2013</td>\n",
       "      <td>7</td>\n",
       "      <td>1</td>\n",
       "      <td>0</td>\n",
       "      <td>0</td>\n",
       "      <td>0</td>\n",
       "      <td>Customer</td>\n",
       "    </tr>\n",
       "    <tr>\n",
       "      <th>4</th>\n",
       "      <td>757</td>\n",
       "      <td>40.734927</td>\n",
       "      <td>-73.992005</td>\n",
       "      <td>40.720664</td>\n",
       "      <td>-73.985180</td>\n",
       "      <td>2013</td>\n",
       "      <td>7</td>\n",
       "      <td>1</td>\n",
       "      <td>0</td>\n",
       "      <td>0</td>\n",
       "      <td>1</td>\n",
       "      <td>Subscriber</td>\n",
       "    </tr>\n",
       "  </tbody>\n",
       "</table>\n",
       "</div>"
      ],
      "text/plain": [
       "   tripduration  start station latitude  start station longitude  \\\n",
       "0           634               40.753231               -73.970325   \n",
       "1          1547               40.749718               -74.002950   \n",
       "2           178               40.730287               -73.990765   \n",
       "3          1580               40.718939               -73.992663   \n",
       "4           757               40.734927               -73.992005   \n",
       "\n",
       "   end station latitude  end station longitude  start_year  start_month  \\\n",
       "0             40.732219             -73.981656        2013            7   \n",
       "1             40.746745             -74.007756        2013            7   \n",
       "2             40.730473             -73.986724        2013            7   \n",
       "3             40.769155             -73.981918        2013            7   \n",
       "4             40.720664             -73.985180        2013            7   \n",
       "\n",
       "   start_day  start_hour  start_dayofweek  gender    usertype  \n",
       "0          1           0                0       0    Customer  \n",
       "1          1           0                0       0    Customer  \n",
       "2          1           0                0       2  Subscriber  \n",
       "3          1           0                0       0    Customer  \n",
       "4          1           0                0       1  Subscriber  "
      ]
     },
     "execution_count": 8,
     "metadata": {},
     "output_type": "execute_result"
    }
   ],
   "source": [
    "data.head()"
   ]
  },
  {
   "cell_type": "code",
   "execution_count": 9,
   "metadata": {
    "scrolled": true
   },
   "outputs": [
    {
     "data": {
      "text/html": [
       "<div>\n",
       "<style>\n",
       "    .dataframe thead tr:only-child th {\n",
       "        text-align: right;\n",
       "    }\n",
       "\n",
       "    .dataframe thead th {\n",
       "        text-align: left;\n",
       "    }\n",
       "\n",
       "    .dataframe tbody tr th {\n",
       "        vertical-align: top;\n",
       "    }\n",
       "</style>\n",
       "<table border=\"1\" class=\"dataframe\">\n",
       "  <thead>\n",
       "    <tr style=\"text-align: right;\">\n",
       "      <th></th>\n",
       "      <th>tripduration</th>\n",
       "      <th>start station latitude</th>\n",
       "      <th>start station longitude</th>\n",
       "      <th>end station latitude</th>\n",
       "      <th>end station longitude</th>\n",
       "      <th>start_year</th>\n",
       "      <th>start_month</th>\n",
       "      <th>start_day</th>\n",
       "      <th>start_hour</th>\n",
       "      <th>start_dayofweek</th>\n",
       "      <th>gender</th>\n",
       "    </tr>\n",
       "  </thead>\n",
       "  <tbody>\n",
       "    <tr>\n",
       "      <th>count</th>\n",
       "      <td>39096233.0</td>\n",
       "      <td>39096233.0</td>\n",
       "      <td>39096233.0</td>\n",
       "      <td>39096233.0</td>\n",
       "      <td>39096233.0</td>\n",
       "      <td>39096233.0</td>\n",
       "      <td>39096233.0</td>\n",
       "      <td>39096233.0</td>\n",
       "      <td>39096233.0</td>\n",
       "      <td>39096233.0</td>\n",
       "      <td>39096233.0</td>\n",
       "    </tr>\n",
       "    <tr>\n",
       "      <th>mean</th>\n",
       "      <td>920.0</td>\n",
       "      <td>41.0</td>\n",
       "      <td>-74.0</td>\n",
       "      <td>41.0</td>\n",
       "      <td>-74.0</td>\n",
       "      <td>2015.0</td>\n",
       "      <td>7.0</td>\n",
       "      <td>16.0</td>\n",
       "      <td>14.0</td>\n",
       "      <td>3.0</td>\n",
       "      <td>1.0</td>\n",
       "    </tr>\n",
       "    <tr>\n",
       "      <th>std</th>\n",
       "      <td>7616.0</td>\n",
       "      <td>0.0</td>\n",
       "      <td>0.0</td>\n",
       "      <td>0.0</td>\n",
       "      <td>0.0</td>\n",
       "      <td>1.0</td>\n",
       "      <td>3.0</td>\n",
       "      <td>9.0</td>\n",
       "      <td>5.0</td>\n",
       "      <td>2.0</td>\n",
       "      <td>1.0</td>\n",
       "    </tr>\n",
       "    <tr>\n",
       "      <th>min</th>\n",
       "      <td>60.0</td>\n",
       "      <td>0.0</td>\n",
       "      <td>-74.0</td>\n",
       "      <td>0.0</td>\n",
       "      <td>-74.0</td>\n",
       "      <td>2013.0</td>\n",
       "      <td>1.0</td>\n",
       "      <td>1.0</td>\n",
       "      <td>0.0</td>\n",
       "      <td>0.0</td>\n",
       "      <td>0.0</td>\n",
       "    </tr>\n",
       "    <tr>\n",
       "      <th>25%</th>\n",
       "      <td>385.0</td>\n",
       "      <td>41.0</td>\n",
       "      <td>-74.0</td>\n",
       "      <td>41.0</td>\n",
       "      <td>-74.0</td>\n",
       "      <td>2014.0</td>\n",
       "      <td>5.0</td>\n",
       "      <td>8.0</td>\n",
       "      <td>10.0</td>\n",
       "      <td>1.0</td>\n",
       "      <td>1.0</td>\n",
       "    </tr>\n",
       "    <tr>\n",
       "      <th>50%</th>\n",
       "      <td>623.0</td>\n",
       "      <td>41.0</td>\n",
       "      <td>-74.0</td>\n",
       "      <td>41.0</td>\n",
       "      <td>-74.0</td>\n",
       "      <td>2015.0</td>\n",
       "      <td>8.0</td>\n",
       "      <td>16.0</td>\n",
       "      <td>15.0</td>\n",
       "      <td>3.0</td>\n",
       "      <td>1.0</td>\n",
       "    </tr>\n",
       "    <tr>\n",
       "      <th>75%</th>\n",
       "      <td>1042.0</td>\n",
       "      <td>41.0</td>\n",
       "      <td>-74.0</td>\n",
       "      <td>41.0</td>\n",
       "      <td>-74.0</td>\n",
       "      <td>2016.0</td>\n",
       "      <td>10.0</td>\n",
       "      <td>23.0</td>\n",
       "      <td>18.0</td>\n",
       "      <td>4.0</td>\n",
       "      <td>1.0</td>\n",
       "    </tr>\n",
       "    <tr>\n",
       "      <th>max</th>\n",
       "      <td>8933552.0</td>\n",
       "      <td>41.0</td>\n",
       "      <td>0.0</td>\n",
       "      <td>41.0</td>\n",
       "      <td>0.0</td>\n",
       "      <td>2017.0</td>\n",
       "      <td>12.0</td>\n",
       "      <td>31.0</td>\n",
       "      <td>23.0</td>\n",
       "      <td>6.0</td>\n",
       "      <td>2.0</td>\n",
       "    </tr>\n",
       "  </tbody>\n",
       "</table>\n",
       "</div>"
      ],
      "text/plain": [
       "       tripduration  start station latitude  start station longitude  \\\n",
       "count    39096233.0              39096233.0               39096233.0   \n",
       "mean          920.0                    41.0                    -74.0   \n",
       "std          7616.0                     0.0                      0.0   \n",
       "min            60.0                     0.0                    -74.0   \n",
       "25%           385.0                    41.0                    -74.0   \n",
       "50%           623.0                    41.0                    -74.0   \n",
       "75%          1042.0                    41.0                    -74.0   \n",
       "max       8933552.0                    41.0                      0.0   \n",
       "\n",
       "       end station latitude  end station longitude  start_year  start_month  \\\n",
       "count            39096233.0             39096233.0  39096233.0   39096233.0   \n",
       "mean                   41.0                  -74.0      2015.0          7.0   \n",
       "std                     0.0                    0.0         1.0          3.0   \n",
       "min                     0.0                  -74.0      2013.0          1.0   \n",
       "25%                    41.0                  -74.0      2014.0          5.0   \n",
       "50%                    41.0                  -74.0      2015.0          8.0   \n",
       "75%                    41.0                  -74.0      2016.0         10.0   \n",
       "max                    41.0                    0.0      2017.0         12.0   \n",
       "\n",
       "        start_day  start_hour  start_dayofweek      gender  \n",
       "count  39096233.0  39096233.0       39096233.0  39096233.0  \n",
       "mean         16.0        14.0              3.0         1.0  \n",
       "std           9.0         5.0              2.0         1.0  \n",
       "min           1.0         0.0              0.0         0.0  \n",
       "25%           8.0        10.0              1.0         1.0  \n",
       "50%          16.0        15.0              3.0         1.0  \n",
       "75%          23.0        18.0              4.0         1.0  \n",
       "max          31.0        23.0              6.0         2.0  "
      ]
     },
     "execution_count": 9,
     "metadata": {},
     "output_type": "execute_result"
    }
   ],
   "source": [
    "data.describe().round(0)"
   ]
  },
  {
   "cell_type": "code",
   "execution_count": 11,
   "metadata": {
    "collapsed": true
   },
   "outputs": [],
   "source": [
    "customer = data[data.usertype == 'Customer']\n",
    "subs = data[data.usertype == 'Subscriber']"
   ]
  },
  {
   "cell_type": "code",
   "execution_count": 14,
   "metadata": {},
   "outputs": [
    {
     "data": {
      "text/plain": [
       "gender\n",
       "0    4337379\n",
       "1      21332\n",
       "2      13839\n",
       "dtype: int64"
      ]
     },
     "execution_count": 14,
     "metadata": {},
     "output_type": "execute_result"
    }
   ],
   "source": [
    "customer.groupby('gender').size()"
   ]
  },
  {
   "cell_type": "code",
   "execution_count": 15,
   "metadata": {},
   "outputs": [
    {
     "data": {
      "text/plain": [
       "gender\n",
       "0      186815\n",
       "1    26412258\n",
       "2     8124610\n",
       "dtype: int64"
      ]
     },
     "execution_count": 15,
     "metadata": {},
     "output_type": "execute_result"
    }
   ],
   "source": [
    "subs.groupby('gender').size()"
   ]
  },
  {
   "cell_type": "markdown",
   "metadata": {},
   "source": [
    "<b>This confirms that most non-subscriber data do not contain gender information and therefore it becomes the highest predictor.</b>"
   ]
  },
  {
   "cell_type": "code",
   "execution_count": 16,
   "metadata": {},
   "outputs": [
    {
     "name": "stdout",
     "output_type": "stream",
     "text": [
      "==== Gender Distribution of Subscribers ====\n",
      "Males: 76.1%\n",
      "Females: 23.4%\n",
      "Unknown: 0.5%\n",
      "\n",
      "\n",
      "==== Gender Distribution of Non-Subscribers ====\n",
      "Males: 0.5%\n",
      "Females: 0.3%\n",
      "Unknown: 99.2%\n"
     ]
    }
   ],
   "source": [
    "# Calculate and print the gender distribution for subscribers and non-subscribers\n",
    "subs_gender = [186815, 26412258, 8124610]\n",
    "cust_gender = [4337379, 21332, 13839]\n",
    "\n",
    "subs_total = np.sum(subs_gender)\n",
    "cust_total = np.sum(cust_gender)\n",
    "print('==== Gender Distribution of Subscribers ====')\n",
    "print('Males: %.1f%%' % (100*subs_gender[1]/subs_total))\n",
    "print('Females: %.1f%%' % (100*subs_gender[2]/subs_total))\n",
    "print('Unknown: %.1f%%' % (100*subs_gender[0]/subs_total))\n",
    "print('\\n')\n",
    "print('==== Gender Distribution of Non-Subscribers ====')\n",
    "print('Males: %.1f%%' % (100*cust_gender[1]/cust_total))\n",
    "print('Females: %.1f%%' % (100*cust_gender[2]/cust_total))\n",
    "print('Unknown: %.1f%%' % (100*cust_gender[0]/cust_total))"
   ]
  },
  {
   "cell_type": "code",
   "execution_count": 17,
   "metadata": {},
   "outputs": [
    {
     "name": "stdout",
     "output_type": "stream",
     "text": [
      "% of non-subscribers among riders whose gender are unknown: 95.9%\n"
     ]
    }
   ],
   "source": [
    "# Calculate fraction of non-subscribers among riders whose genders are unknown\n",
    "unknown_total = subs_gender[0] + cust_gender[0]\n",
    "print('%% of non-subscribers among riders whose gender are unknown: %.1f%%' % (100*cust_gender[0]/unknown_total))"
   ]
  },
  {
   "cell_type": "markdown",
   "metadata": {},
   "source": [
    "<b>So if the gender of the rider is unknown, there's a 96% chance that the rider is a customer!!!</b>"
   ]
  },
  {
   "cell_type": "code",
   "execution_count": null,
   "metadata": {
    "collapsed": true
   },
   "outputs": [],
   "source": []
  },
  {
   "cell_type": "code",
   "execution_count": null,
   "metadata": {
    "collapsed": true
   },
   "outputs": [],
   "source": []
  }
 ],
 "metadata": {
  "kernelspec": {
   "display_name": "Python 3",
   "language": "python",
   "name": "python3"
  },
  "language_info": {
   "codemirror_mode": {
    "name": "ipython",
    "version": 3
   },
   "file_extension": ".py",
   "mimetype": "text/x-python",
   "name": "python",
   "nbconvert_exporter": "python",
   "pygments_lexer": "ipython3",
   "version": "3.6.1"
  }
 },
 "nbformat": 4,
 "nbformat_minor": 2
}
