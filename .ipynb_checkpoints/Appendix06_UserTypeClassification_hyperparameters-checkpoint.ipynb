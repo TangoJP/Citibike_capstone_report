{
 "cells": [
  {
   "cell_type": "markdown",
   "metadata": {},
   "source": [
    "<a id='sec0'></a>\n",
    "# Optimizing RandomForest on Gender-imbalanced dataset\n",
    "- New Hyper Parameters used"
   ]
  },
  {
   "cell_type": "code",
   "execution_count": 1,
   "metadata": {
    "collapsed": true
   },
   "outputs": [],
   "source": [
    "import numpy as np\n",
    "import pandas as pd\n",
    "import matplotlib.pyplot as plt\n",
    "from sklearn.model_selection import train_test_split, GridSearchCV\n",
    "from sklearn.ensemble import RandomForestClassifier\n",
    "from collections import Counter\n",
    "\n",
    "import my_scoring_functions as msf\n",
    "\n",
    "%matplotlib inline"
   ]
  },
  {
   "cell_type": "markdown",
   "metadata": {},
   "source": [
    "# Setting up Data (This time tried to label subscriber as 0)"
   ]
  },
  {
   "cell_type": "code",
   "execution_count": 2,
   "metadata": {
    "collapsed": true
   },
   "outputs": [],
   "source": [
    "d2013 = pd.read_csv('../data/for_predictions/2013_membership_pred.csv')\n",
    "d2014 = pd.read_csv('../data/for_predictions/2014_membership_pred.csv')\n",
    "d2015 = pd.read_csv('../data/for_predictions/2015_membership_pred.csv')\n",
    "d2016 = pd.read_csv('../data/for_predictions/2016_membership_pred.csv')\n",
    "d2017 = pd.read_csv('../data/for_predictions/2017_membership_pred.csv')"
   ]
  },
  {
   "cell_type": "code",
   "execution_count": 3,
   "metadata": {
    "collapsed": true
   },
   "outputs": [],
   "source": [
    "all_data = [d2013, d2014, d2015, d2016, d2017]"
   ]
  },
  {
   "cell_type": "code",
   "execution_count": 4,
   "metadata": {},
   "outputs": [
    {
     "name": "stdout",
     "output_type": "stream",
     "text": [
      "# Non-subscriber Entries in 2013 = 666940\n",
      "# Non-subscriber Entries in 2014 = 793495\n",
      "# Non-subscriber Entries in 2015 = 1311331\n",
      "# Non-subscriber Entries in 2016 = 1508073\n",
      "# Non-subscriber Entries in 2017 = 92711\n",
      "Total # Non-subscriber Entries = 4372550 (out of 39096233)\n",
      "% of Non-subscriber Entries = 11.184070\n"
     ]
    }
   ],
   "source": [
    "total = 0\n",
    "total_nonsub = 0\n",
    "for i in range(len(all_data)):\n",
    "    year = i + 2013\n",
    "    d = all_data[i]\n",
    "    nonsubs_num = len(d[d['usertype'] == 'Customer'])\n",
    "    total += len(d)\n",
    "    total_nonsub += nonsubs_num\n",
    "    print('# Non-subscriber Entries in %d = %d' % (year, nonsubs_num))\n",
    "print('Total # Non-subscriber Entries = %d (out of %d)' % (total_nonsub, total))\n",
    "print('%% of Non-subscriber Entries = %f' % (100 * total_nonsub / total))"
   ]
  },
  {
   "cell_type": "code",
   "execution_count": 5,
   "metadata": {
    "collapsed": true
   },
   "outputs": [],
   "source": [
    "all_data = None"
   ]
  },
  {
   "cell_type": "code",
   "execution_count": 6,
   "metadata": {
    "collapsed": true
   },
   "outputs": [],
   "source": [
    "#data = pd.concat([d2015, d2016, d2017], axis=0)\n",
    "data = pd.concat([d2013, d2014, d2015, d2016, d2017], axis=0)\n",
    "data = data.dropna()"
   ]
  },
  {
   "cell_type": "code",
   "execution_count": 7,
   "metadata": {},
   "outputs": [
    {
     "data": {
      "text/plain": [
       "Index(['tripduration', 'start station latitude', 'start station longitude',\n",
       "       'end station latitude', 'end station longitude', 'start_year',\n",
       "       'start_month', 'start_day', 'start_hour', 'start_dayofweek', 'gender',\n",
       "       'usertype'],\n",
       "      dtype='object')"
      ]
     },
     "execution_count": 7,
     "metadata": {},
     "output_type": "execute_result"
    }
   ],
   "source": [
    "data.columns"
   ]
  },
  {
   "cell_type": "code",
   "execution_count": 8,
   "metadata": {},
   "outputs": [
    {
     "data": {
      "text/html": [
       "<div>\n",
       "<style>\n",
       "    .dataframe thead tr:only-child th {\n",
       "        text-align: right;\n",
       "    }\n",
       "\n",
       "    .dataframe thead th {\n",
       "        text-align: left;\n",
       "    }\n",
       "\n",
       "    .dataframe tbody tr th {\n",
       "        vertical-align: top;\n",
       "    }\n",
       "</style>\n",
       "<table border=\"1\" class=\"dataframe\">\n",
       "  <thead>\n",
       "    <tr style=\"text-align: right;\">\n",
       "      <th></th>\n",
       "      <th>tripduration</th>\n",
       "      <th>start station latitude</th>\n",
       "      <th>start station longitude</th>\n",
       "      <th>end station latitude</th>\n",
       "      <th>end station longitude</th>\n",
       "      <th>start_year</th>\n",
       "      <th>start_month</th>\n",
       "      <th>start_day</th>\n",
       "      <th>start_hour</th>\n",
       "      <th>start_dayofweek</th>\n",
       "      <th>gender</th>\n",
       "      <th>usertype</th>\n",
       "    </tr>\n",
       "  </thead>\n",
       "  <tbody>\n",
       "    <tr>\n",
       "      <th>0</th>\n",
       "      <td>634</td>\n",
       "      <td>40.753231</td>\n",
       "      <td>-73.970325</td>\n",
       "      <td>40.732219</td>\n",
       "      <td>-73.981656</td>\n",
       "      <td>2013</td>\n",
       "      <td>7</td>\n",
       "      <td>1</td>\n",
       "      <td>0</td>\n",
       "      <td>0</td>\n",
       "      <td>0</td>\n",
       "      <td>Customer</td>\n",
       "    </tr>\n",
       "    <tr>\n",
       "      <th>1</th>\n",
       "      <td>1547</td>\n",
       "      <td>40.749718</td>\n",
       "      <td>-74.002950</td>\n",
       "      <td>40.746745</td>\n",
       "      <td>-74.007756</td>\n",
       "      <td>2013</td>\n",
       "      <td>7</td>\n",
       "      <td>1</td>\n",
       "      <td>0</td>\n",
       "      <td>0</td>\n",
       "      <td>0</td>\n",
       "      <td>Customer</td>\n",
       "    </tr>\n",
       "    <tr>\n",
       "      <th>2</th>\n",
       "      <td>178</td>\n",
       "      <td>40.730287</td>\n",
       "      <td>-73.990765</td>\n",
       "      <td>40.730473</td>\n",
       "      <td>-73.986724</td>\n",
       "      <td>2013</td>\n",
       "      <td>7</td>\n",
       "      <td>1</td>\n",
       "      <td>0</td>\n",
       "      <td>0</td>\n",
       "      <td>2</td>\n",
       "      <td>Subscriber</td>\n",
       "    </tr>\n",
       "    <tr>\n",
       "      <th>3</th>\n",
       "      <td>1580</td>\n",
       "      <td>40.718939</td>\n",
       "      <td>-73.992663</td>\n",
       "      <td>40.769155</td>\n",
       "      <td>-73.981918</td>\n",
       "      <td>2013</td>\n",
       "      <td>7</td>\n",
       "      <td>1</td>\n",
       "      <td>0</td>\n",
       "      <td>0</td>\n",
       "      <td>0</td>\n",
       "      <td>Customer</td>\n",
       "    </tr>\n",
       "    <tr>\n",
       "      <th>4</th>\n",
       "      <td>757</td>\n",
       "      <td>40.734927</td>\n",
       "      <td>-73.992005</td>\n",
       "      <td>40.720664</td>\n",
       "      <td>-73.985180</td>\n",
       "      <td>2013</td>\n",
       "      <td>7</td>\n",
       "      <td>1</td>\n",
       "      <td>0</td>\n",
       "      <td>0</td>\n",
       "      <td>1</td>\n",
       "      <td>Subscriber</td>\n",
       "    </tr>\n",
       "  </tbody>\n",
       "</table>\n",
       "</div>"
      ],
      "text/plain": [
       "   tripduration  start station latitude  start station longitude  \\\n",
       "0           634               40.753231               -73.970325   \n",
       "1          1547               40.749718               -74.002950   \n",
       "2           178               40.730287               -73.990765   \n",
       "3          1580               40.718939               -73.992663   \n",
       "4           757               40.734927               -73.992005   \n",
       "\n",
       "   end station latitude  end station longitude  start_year  start_month  \\\n",
       "0             40.732219             -73.981656        2013            7   \n",
       "1             40.746745             -74.007756        2013            7   \n",
       "2             40.730473             -73.986724        2013            7   \n",
       "3             40.769155             -73.981918        2013            7   \n",
       "4             40.720664             -73.985180        2013            7   \n",
       "\n",
       "   start_day  start_hour  start_dayofweek  gender    usertype  \n",
       "0          1           0                0       0    Customer  \n",
       "1          1           0                0       0    Customer  \n",
       "2          1           0                0       2  Subscriber  \n",
       "3          1           0                0       0    Customer  \n",
       "4          1           0                0       1  Subscriber  "
      ]
     },
     "execution_count": 8,
     "metadata": {},
     "output_type": "execute_result"
    }
   ],
   "source": [
    "data.head()"
   ]
  },
  {
   "cell_type": "code",
   "execution_count": 9,
   "metadata": {
    "scrolled": true
   },
   "outputs": [
    {
     "data": {
      "text/html": [
       "<div>\n",
       "<style>\n",
       "    .dataframe thead tr:only-child th {\n",
       "        text-align: right;\n",
       "    }\n",
       "\n",
       "    .dataframe thead th {\n",
       "        text-align: left;\n",
       "    }\n",
       "\n",
       "    .dataframe tbody tr th {\n",
       "        vertical-align: top;\n",
       "    }\n",
       "</style>\n",
       "<table border=\"1\" class=\"dataframe\">\n",
       "  <thead>\n",
       "    <tr style=\"text-align: right;\">\n",
       "      <th></th>\n",
       "      <th>tripduration</th>\n",
       "      <th>start station latitude</th>\n",
       "      <th>start station longitude</th>\n",
       "      <th>end station latitude</th>\n",
       "      <th>end station longitude</th>\n",
       "      <th>start_year</th>\n",
       "      <th>start_month</th>\n",
       "      <th>start_day</th>\n",
       "      <th>start_hour</th>\n",
       "      <th>start_dayofweek</th>\n",
       "      <th>gender</th>\n",
       "    </tr>\n",
       "  </thead>\n",
       "  <tbody>\n",
       "    <tr>\n",
       "      <th>count</th>\n",
       "      <td>39096233.0</td>\n",
       "      <td>39096233.0</td>\n",
       "      <td>39096233.0</td>\n",
       "      <td>39096233.0</td>\n",
       "      <td>39096233.0</td>\n",
       "      <td>39096233.0</td>\n",
       "      <td>39096233.0</td>\n",
       "      <td>39096233.0</td>\n",
       "      <td>39096233.0</td>\n",
       "      <td>39096233.0</td>\n",
       "      <td>39096233.0</td>\n",
       "    </tr>\n",
       "    <tr>\n",
       "      <th>mean</th>\n",
       "      <td>920.0</td>\n",
       "      <td>41.0</td>\n",
       "      <td>-74.0</td>\n",
       "      <td>41.0</td>\n",
       "      <td>-74.0</td>\n",
       "      <td>2015.0</td>\n",
       "      <td>7.0</td>\n",
       "      <td>16.0</td>\n",
       "      <td>14.0</td>\n",
       "      <td>3.0</td>\n",
       "      <td>1.0</td>\n",
       "    </tr>\n",
       "    <tr>\n",
       "      <th>std</th>\n",
       "      <td>7616.0</td>\n",
       "      <td>0.0</td>\n",
       "      <td>0.0</td>\n",
       "      <td>0.0</td>\n",
       "      <td>0.0</td>\n",
       "      <td>1.0</td>\n",
       "      <td>3.0</td>\n",
       "      <td>9.0</td>\n",
       "      <td>5.0</td>\n",
       "      <td>2.0</td>\n",
       "      <td>1.0</td>\n",
       "    </tr>\n",
       "    <tr>\n",
       "      <th>min</th>\n",
       "      <td>60.0</td>\n",
       "      <td>0.0</td>\n",
       "      <td>-74.0</td>\n",
       "      <td>0.0</td>\n",
       "      <td>-74.0</td>\n",
       "      <td>2013.0</td>\n",
       "      <td>1.0</td>\n",
       "      <td>1.0</td>\n",
       "      <td>0.0</td>\n",
       "      <td>0.0</td>\n",
       "      <td>0.0</td>\n",
       "    </tr>\n",
       "    <tr>\n",
       "      <th>25%</th>\n",
       "      <td>385.0</td>\n",
       "      <td>41.0</td>\n",
       "      <td>-74.0</td>\n",
       "      <td>41.0</td>\n",
       "      <td>-74.0</td>\n",
       "      <td>2014.0</td>\n",
       "      <td>5.0</td>\n",
       "      <td>8.0</td>\n",
       "      <td>10.0</td>\n",
       "      <td>1.0</td>\n",
       "      <td>1.0</td>\n",
       "    </tr>\n",
       "    <tr>\n",
       "      <th>50%</th>\n",
       "      <td>623.0</td>\n",
       "      <td>41.0</td>\n",
       "      <td>-74.0</td>\n",
       "      <td>41.0</td>\n",
       "      <td>-74.0</td>\n",
       "      <td>2015.0</td>\n",
       "      <td>8.0</td>\n",
       "      <td>16.0</td>\n",
       "      <td>15.0</td>\n",
       "      <td>3.0</td>\n",
       "      <td>1.0</td>\n",
       "    </tr>\n",
       "    <tr>\n",
       "      <th>75%</th>\n",
       "      <td>1042.0</td>\n",
       "      <td>41.0</td>\n",
       "      <td>-74.0</td>\n",
       "      <td>41.0</td>\n",
       "      <td>-74.0</td>\n",
       "      <td>2016.0</td>\n",
       "      <td>10.0</td>\n",
       "      <td>23.0</td>\n",
       "      <td>18.0</td>\n",
       "      <td>4.0</td>\n",
       "      <td>1.0</td>\n",
       "    </tr>\n",
       "    <tr>\n",
       "      <th>max</th>\n",
       "      <td>8933552.0</td>\n",
       "      <td>41.0</td>\n",
       "      <td>0.0</td>\n",
       "      <td>41.0</td>\n",
       "      <td>0.0</td>\n",
       "      <td>2017.0</td>\n",
       "      <td>12.0</td>\n",
       "      <td>31.0</td>\n",
       "      <td>23.0</td>\n",
       "      <td>6.0</td>\n",
       "      <td>2.0</td>\n",
       "    </tr>\n",
       "  </tbody>\n",
       "</table>\n",
       "</div>"
      ],
      "text/plain": [
       "       tripduration  start station latitude  start station longitude  \\\n",
       "count    39096233.0              39096233.0               39096233.0   \n",
       "mean          920.0                    41.0                    -74.0   \n",
       "std          7616.0                     0.0                      0.0   \n",
       "min            60.0                     0.0                    -74.0   \n",
       "25%           385.0                    41.0                    -74.0   \n",
       "50%           623.0                    41.0                    -74.0   \n",
       "75%          1042.0                    41.0                    -74.0   \n",
       "max       8933552.0                    41.0                      0.0   \n",
       "\n",
       "       end station latitude  end station longitude  start_year  start_month  \\\n",
       "count            39096233.0             39096233.0  39096233.0   39096233.0   \n",
       "mean                   41.0                  -74.0      2015.0          7.0   \n",
       "std                     0.0                    0.0         1.0          3.0   \n",
       "min                     0.0                  -74.0      2013.0          1.0   \n",
       "25%                    41.0                  -74.0      2014.0          5.0   \n",
       "50%                    41.0                  -74.0      2015.0          8.0   \n",
       "75%                    41.0                  -74.0      2016.0         10.0   \n",
       "max                    41.0                    0.0      2017.0         12.0   \n",
       "\n",
       "        start_day  start_hour  start_dayofweek      gender  \n",
       "count  39096233.0  39096233.0       39096233.0  39096233.0  \n",
       "mean         16.0        14.0              3.0         1.0  \n",
       "std           9.0         5.0              2.0         1.0  \n",
       "min           1.0         0.0              0.0         0.0  \n",
       "25%           8.0        10.0              1.0         1.0  \n",
       "50%          16.0        15.0              3.0         1.0  \n",
       "75%          23.0        18.0              4.0         1.0  \n",
       "max          31.0        23.0              6.0         2.0  "
      ]
     },
     "execution_count": 9,
     "metadata": {},
     "output_type": "execute_result"
    }
   ],
   "source": [
    "data.describe().round(0)"
   ]
  },
  {
   "cell_type": "code",
   "execution_count": 10,
   "metadata": {
    "collapsed": true
   },
   "outputs": [],
   "source": [
    "# Store name of the features for later use\n",
    "feature_labels = data.columns[:-1]"
   ]
  },
  {
   "cell_type": "code",
   "execution_count": 11,
   "metadata": {
    "collapsed": true
   },
   "outputs": [],
   "source": [
    "# Create X and y for sklearn\n",
    "X = data[data.columns[:-1]].astype(np.float)\n",
    "y = (data['usertype'] == 'Customer').values.astype(np.int)"
   ]
  },
  {
   "cell_type": "code",
   "execution_count": 12,
   "metadata": {
    "collapsed": true
   },
   "outputs": [],
   "source": [
    "# Clear memory\n",
    "data = None"
   ]
  },
  {
   "cell_type": "markdown",
   "metadata": {},
   "source": [
    "# RandomForest with New Hyperparameters"
   ]
  },
  {
   "cell_type": "code",
   "execution_count": 14,
   "metadata": {
    "collapsed": true
   },
   "outputs": [],
   "source": [
    "X_train, X_test, y_train, y_test = train_test_split(X, y, test_size=0.4)"
   ]
  },
  {
   "cell_type": "code",
   "execution_count": 15,
   "metadata": {},
   "outputs": [
    {
     "name": "stdout",
     "output_type": "stream",
     "text": [
      "CPU times: user 2h 34min 46s, sys: 1min 24s, total: 2h 36min 10s\n",
      "Wall time: 40min 48s\n"
     ]
    }
   ],
   "source": [
    "%%time\n",
    "clf = RandomForestClassifier(n_jobs=4, max_depth=40, n_estimators=50)\n",
    "clf.fit(X_train, y_train)"
   ]
  },
  {
   "cell_type": "code",
   "execution_count": 16,
   "metadata": {},
   "outputs": [
    {
     "name": "stdout",
     "output_type": "stream",
     "text": [
      "CPU times: user 15min 31s, sys: 2min 40s, total: 18min 12s\n",
      "Wall time: 8min 4s\n"
     ]
    }
   ],
   "source": [
    "%%time\n",
    "results = msf.score_clf2(clf, X_test, y_test, X_train=X_train, y_train=y_train)"
   ]
  },
  {
   "cell_type": "code",
   "execution_count": 19,
   "metadata": {
    "scrolled": false
   },
   "outputs": [
    {
     "name": "stdout",
     "output_type": "stream",
     "text": [
      "==== Random Forest Metrics on Test Set ====\n",
      "Accuracy: 0.995951\n",
      "Precision: 0.975130\n",
      "Recall: 0.989000\n",
      "F-Score: 0.982016\n",
      "Brier Score: 0.003305\n",
      "Average Precision Score: 0.996264\n",
      "Confusion Matrix:  [[13846332    44092]\n",
      " [   19228  1728842]]\n",
      "==== Random Forest Metrics on Train Set ====\n",
      "Accuracy: 0.999974\n",
      "Precision: 0.999905\n",
      "Recall: 0.999863\n",
      "F-Score: 0.999884\n",
      "Brier Score: 0.000489\n",
      "Average Precision Score: 1.000000\n",
      "Confusion Matrix:  [[20833009      250]\n",
      " [     359  2624121]]\n",
      "--------------- Feature Importances ---------------\n",
      " 1) gender               0.884744\n",
      " 2) tripduration         0.049038\n",
      " 3) start_dayofweek      0.010930\n",
      " 4) end station latitude 0.009484\n",
      " 5) start station latitude 0.009442\n",
      " 6) start_hour           0.008201\n",
      " 7) start station longitude 0.007763\n",
      " 8) end station longitude 0.007703\n",
      " 9) start_month          0.004759\n",
      "10) start_day            0.004087\n",
      "11) start_year           0.003850\n",
      "\n",
      "\n"
     ]
    },
    {
     "data": {
      "text/plain": [
       "<matplotlib.legend.Legend at 0x10dab99b0>"
      ]
     },
     "execution_count": 19,
     "metadata": {},
     "output_type": "execute_result"
    },
    {
     "data": {
      "image/png": "[encoded data removed]",
      "text/plain": [
       "<matplotlib.figure.Figure at 0x105187a58>"
      ]
     },
     "metadata": {},
     "output_type": "display_data"
    }
   ],
   "source": [
    "clf_name = 'Random Forest'\n",
    "\n",
    "msf.print_clf_scores2(results, trainset=True, clf_name=clf_name, feature_labels=feature_labels)\n",
    "\n",
    "# Get ROCC_curve data\n",
    "fpr = results['scores']['roc_curve'][0]\n",
    "tpr = results['scores']['roc_curve'][1]\n",
    "roc_auc = results['scores']['roc_auc']\n",
    "\n",
    "# Precision-Recall Curve to be implemented here\n",
    "prec = results['scores']['pr_curve'][0]\n",
    "rec = results['scores']['pr_curve'][1]      \n",
    "\n",
    "fig, (ax1, ax2) = plt.subplots(1, 2, figsize=(11, 5))\n",
    "\n",
    "x = np.linspace(0, 1, 10)\n",
    "y = np.linspace(0, 1, 10)  \n",
    "ax1.plot(fpr, tpr, ls='-', label='%s (ROC AUC = %0.2f)' % (clf_name, roc_auc))\n",
    "ax1.plot(x, y, ls='--')\n",
    "ax1.set_title('ROC Curves', fontsize=16)\n",
    "ax1.set_xlabel('False Positive Rate', fontsize=14)\n",
    "ax1.set_ylabel('True Positive Rate', fontsize=14)\n",
    "ax1.legend(loc='lower right')\n",
    "\n",
    "ax2.plot(prec, rec, label='%s' % clf_name)\n",
    "ax2.set_title('Precision-Recall Curve', fontsize=16)\n",
    "ax2.set_xlabel('Precision', fontsize=14)\n",
    "ax2.set_ylabel('Recall', fontsize=14)\n",
    "ax2.legend(loc='lower left')                             "
   ]
  }
 ],
 "metadata": {
  "kernelspec": {
   "display_name": "Python 3",
   "language": "python",
   "name": "python3"
  },
  "language_info": {
   "codemirror_mode": {
    "name": "ipython",
    "version": 3
   },
   "file_extension": ".py",
   "mimetype": "text/x-python",
   "name": "python",
   "nbconvert_exporter": "python",
   "pygments_lexer": "ipython3",
   "version": "3.6.1"
  }
 },
 "nbformat": 4,
 "nbformat_minor": 2
}
