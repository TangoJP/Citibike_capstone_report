{
 "cells": [
  {
   "cell_type": "markdown",
   "metadata": {},
   "source": [
    "<a id='sec0'></a>\n",
    "# Evaluating RandomForest using SMOTE oversampled dataset"
   ]
  },
  {
   "cell_type": "markdown",
   "metadata": {},
   "source": [
    "- Use RandomForestClassifier with max_depth=40\n",
    "- Train the model on oversample set and test it on the imbalanced set with the original class ratio\n",
    "- Do the above with multiple rounds of oversampling to make sure the results are similar\n",
    "- Only 2016 data was used to keep the sample size manageable for computing"
   ]
  },
  {
   "cell_type": "code",
   "execution_count": 1,
   "metadata": {
    "collapsed": true
   },
   "outputs": [],
   "source": [
    "import numpy as np\n",
    "import pandas as pd\n",
    "import matplotlib.pyplot as plt\n",
    "from sklearn.model_selection import train_test_split, GridSearchCV\n",
    "from sklearn.metrics import precision_recall_curve\n",
    "from sklearn.tree import DecisionTreeClassifier\n",
    "from sklearn.ensemble import RandomForestClassifier\n",
    "from imblearn.over_sampling import SMOTE\n",
    "from collections import Counter\n",
    "\n",
    "import my_scoring_functions as msf\n",
    "\n",
    "%matplotlib inline"
   ]
  },
  {
   "cell_type": "markdown",
   "metadata": {},
   "source": [
    "# Setting up Data (This time tried to label subscriber as 0)"
   ]
  },
  {
   "cell_type": "code",
   "execution_count": 2,
   "metadata": {
    "collapsed": true
   },
   "outputs": [],
   "source": [
    "data = pd.read_csv('../data/for_predictions/dataset_2016_membership_pred.csv')"
   ]
  },
  {
   "cell_type": "code",
   "execution_count": 3,
   "metadata": {},
   "outputs": [
    {
     "data": {
      "text/html": [
       "<div>\n",
       "<style>\n",
       "    .dataframe thead tr:only-child th {\n",
       "        text-align: right;\n",
       "    }\n",
       "\n",
       "    .dataframe thead th {\n",
       "        text-align: left;\n",
       "    }\n",
       "\n",
       "    .dataframe tbody tr th {\n",
       "        vertical-align: top;\n",
       "    }\n",
       "</style>\n",
       "<table border=\"1\" class=\"dataframe\">\n",
       "  <thead>\n",
       "    <tr style=\"text-align: right;\">\n",
       "      <th></th>\n",
       "      <th>tripduration</th>\n",
       "      <th>start station latitude</th>\n",
       "      <th>start station longitude</th>\n",
       "      <th>end station latitude</th>\n",
       "      <th>end station longitude</th>\n",
       "      <th>start_year</th>\n",
       "      <th>start_month</th>\n",
       "      <th>start_day</th>\n",
       "      <th>start_hour</th>\n",
       "      <th>start_dayofweek</th>\n",
       "      <th>gender</th>\n",
       "      <th>birth year</th>\n",
       "      <th>usertype</th>\n",
       "    </tr>\n",
       "  </thead>\n",
       "  <tbody>\n",
       "    <tr>\n",
       "      <th>0</th>\n",
       "      <td>923</td>\n",
       "      <td>40.719105</td>\n",
       "      <td>-73.999733</td>\n",
       "      <td>40.711512</td>\n",
       "      <td>-74.015756</td>\n",
       "      <td>2016</td>\n",
       "      <td>1</td>\n",
       "      <td>1</td>\n",
       "      <td>0</td>\n",
       "      <td>4</td>\n",
       "      <td>1</td>\n",
       "      <td>1958.0</td>\n",
       "      <td>Subscriber</td>\n",
       "    </tr>\n",
       "    <tr>\n",
       "      <th>1</th>\n",
       "      <td>379</td>\n",
       "      <td>40.743943</td>\n",
       "      <td>-73.979661</td>\n",
       "      <td>40.748549</td>\n",
       "      <td>-73.988084</td>\n",
       "      <td>2016</td>\n",
       "      <td>1</td>\n",
       "      <td>1</td>\n",
       "      <td>0</td>\n",
       "      <td>4</td>\n",
       "      <td>1</td>\n",
       "      <td>1969.0</td>\n",
       "      <td>Subscriber</td>\n",
       "    </tr>\n",
       "    <tr>\n",
       "      <th>2</th>\n",
       "      <td>589</td>\n",
       "      <td>40.750664</td>\n",
       "      <td>-74.001768</td>\n",
       "      <td>40.739017</td>\n",
       "      <td>-74.002638</td>\n",
       "      <td>2016</td>\n",
       "      <td>1</td>\n",
       "      <td>1</td>\n",
       "      <td>0</td>\n",
       "      <td>4</td>\n",
       "      <td>2</td>\n",
       "      <td>1982.0</td>\n",
       "      <td>Subscriber</td>\n",
       "    </tr>\n",
       "    <tr>\n",
       "      <th>3</th>\n",
       "      <td>889</td>\n",
       "      <td>40.719105</td>\n",
       "      <td>-73.999733</td>\n",
       "      <td>40.711512</td>\n",
       "      <td>-74.015756</td>\n",
       "      <td>2016</td>\n",
       "      <td>1</td>\n",
       "      <td>1</td>\n",
       "      <td>0</td>\n",
       "      <td>4</td>\n",
       "      <td>2</td>\n",
       "      <td>1961.0</td>\n",
       "      <td>Subscriber</td>\n",
       "    </tr>\n",
       "    <tr>\n",
       "      <th>4</th>\n",
       "      <td>1480</td>\n",
       "      <td>40.765909</td>\n",
       "      <td>-73.976342</td>\n",
       "      <td>40.765909</td>\n",
       "      <td>-73.976342</td>\n",
       "      <td>2016</td>\n",
       "      <td>1</td>\n",
       "      <td>1</td>\n",
       "      <td>0</td>\n",
       "      <td>4</td>\n",
       "      <td>1</td>\n",
       "      <td>1952.0</td>\n",
       "      <td>Subscriber</td>\n",
       "    </tr>\n",
       "  </tbody>\n",
       "</table>\n",
       "</div>"
      ],
      "text/plain": [
       "   tripduration  start station latitude  start station longitude  \\\n",
       "0           923               40.719105               -73.999733   \n",
       "1           379               40.743943               -73.979661   \n",
       "2           589               40.750664               -74.001768   \n",
       "3           889               40.719105               -73.999733   \n",
       "4          1480               40.765909               -73.976342   \n",
       "\n",
       "   end station latitude  end station longitude  start_year  start_month  \\\n",
       "0             40.711512             -74.015756        2016            1   \n",
       "1             40.748549             -73.988084        2016            1   \n",
       "2             40.739017             -74.002638        2016            1   \n",
       "3             40.711512             -74.015756        2016            1   \n",
       "4             40.765909             -73.976342        2016            1   \n",
       "\n",
       "   start_day  start_hour  start_dayofweek  gender  birth year    usertype  \n",
       "0          1           0                4       1      1958.0  Subscriber  \n",
       "1          1           0                4       1      1969.0  Subscriber  \n",
       "2          1           0                4       2      1982.0  Subscriber  \n",
       "3          1           0                4       2      1961.0  Subscriber  \n",
       "4          1           0                4       1      1952.0  Subscriber  "
      ]
     },
     "execution_count": 3,
     "metadata": {},
     "output_type": "execute_result"
    }
   ],
   "source": [
    "data.head()"
   ]
  },
  {
   "cell_type": "code",
   "execution_count": 4,
   "metadata": {},
   "outputs": [
    {
     "data": {
      "text/html": [
       "<div>\n",
       "<style>\n",
       "    .dataframe thead tr:only-child th {\n",
       "        text-align: right;\n",
       "    }\n",
       "\n",
       "    .dataframe thead th {\n",
       "        text-align: left;\n",
       "    }\n",
       "\n",
       "    .dataframe tbody tr th {\n",
       "        vertical-align: top;\n",
       "    }\n",
       "</style>\n",
       "<table border=\"1\" class=\"dataframe\">\n",
       "  <thead>\n",
       "    <tr style=\"text-align: right;\">\n",
       "      <th></th>\n",
       "      <th>tripduration</th>\n",
       "      <th>start station latitude</th>\n",
       "      <th>start station longitude</th>\n",
       "      <th>end station latitude</th>\n",
       "      <th>end station longitude</th>\n",
       "      <th>start_year</th>\n",
       "      <th>start_month</th>\n",
       "      <th>start_day</th>\n",
       "      <th>start_hour</th>\n",
       "      <th>start_dayofweek</th>\n",
       "      <th>gender</th>\n",
       "      <th>birth year</th>\n",
       "    </tr>\n",
       "  </thead>\n",
       "  <tbody>\n",
       "    <tr>\n",
       "      <th>count</th>\n",
       "      <td>12222976</td>\n",
       "      <td>12222976</td>\n",
       "      <td>12222976</td>\n",
       "      <td>12222976</td>\n",
       "      <td>12222976</td>\n",
       "      <td>12222976</td>\n",
       "      <td>12222976</td>\n",
       "      <td>12222976</td>\n",
       "      <td>12222976</td>\n",
       "      <td>12222976</td>\n",
       "      <td>12222976</td>\n",
       "      <td>12222976</td>\n",
       "    </tr>\n",
       "    <tr>\n",
       "      <th>mean</th>\n",
       "      <td>819</td>\n",
       "      <td>40</td>\n",
       "      <td>-73</td>\n",
       "      <td>40</td>\n",
       "      <td>-73</td>\n",
       "      <td>2016</td>\n",
       "      <td>7</td>\n",
       "      <td>15</td>\n",
       "      <td>13</td>\n",
       "      <td>2</td>\n",
       "      <td>1</td>\n",
       "      <td>1977</td>\n",
       "    </tr>\n",
       "    <tr>\n",
       "      <th>std</th>\n",
       "      <td>7586</td>\n",
       "      <td>0</td>\n",
       "      <td>0</td>\n",
       "      <td>0</td>\n",
       "      <td>0</td>\n",
       "      <td>0</td>\n",
       "      <td>3</td>\n",
       "      <td>8</td>\n",
       "      <td>4</td>\n",
       "      <td>1</td>\n",
       "      <td>0</td>\n",
       "      <td>11</td>\n",
       "    </tr>\n",
       "    <tr>\n",
       "      <th>min</th>\n",
       "      <td>61</td>\n",
       "      <td>0</td>\n",
       "      <td>-74</td>\n",
       "      <td>0</td>\n",
       "      <td>-74</td>\n",
       "      <td>2016</td>\n",
       "      <td>1</td>\n",
       "      <td>1</td>\n",
       "      <td>0</td>\n",
       "      <td>0</td>\n",
       "      <td>0</td>\n",
       "      <td>1885</td>\n",
       "    </tr>\n",
       "    <tr>\n",
       "      <th>25%</th>\n",
       "      <td>362</td>\n",
       "      <td>40</td>\n",
       "      <td>-73</td>\n",
       "      <td>40</td>\n",
       "      <td>-73</td>\n",
       "      <td>2016</td>\n",
       "      <td>5</td>\n",
       "      <td>8</td>\n",
       "      <td>9</td>\n",
       "      <td>1</td>\n",
       "      <td>1</td>\n",
       "      <td>1970</td>\n",
       "    </tr>\n",
       "    <tr>\n",
       "      <th>50%</th>\n",
       "      <td>582</td>\n",
       "      <td>40</td>\n",
       "      <td>-73</td>\n",
       "      <td>40</td>\n",
       "      <td>-73</td>\n",
       "      <td>2016</td>\n",
       "      <td>7</td>\n",
       "      <td>16</td>\n",
       "      <td>15</td>\n",
       "      <td>3</td>\n",
       "      <td>1</td>\n",
       "      <td>1980</td>\n",
       "    </tr>\n",
       "    <tr>\n",
       "      <th>75%</th>\n",
       "      <td>956</td>\n",
       "      <td>40</td>\n",
       "      <td>-73</td>\n",
       "      <td>40</td>\n",
       "      <td>-73</td>\n",
       "      <td>2016</td>\n",
       "      <td>10</td>\n",
       "      <td>23</td>\n",
       "      <td>18</td>\n",
       "      <td>4</td>\n",
       "      <td>1</td>\n",
       "      <td>1987</td>\n",
       "    </tr>\n",
       "    <tr>\n",
       "      <th>max</th>\n",
       "      <td>8933552</td>\n",
       "      <td>40</td>\n",
       "      <td>0</td>\n",
       "      <td>40</td>\n",
       "      <td>0</td>\n",
       "      <td>2016</td>\n",
       "      <td>12</td>\n",
       "      <td>31</td>\n",
       "      <td>23</td>\n",
       "      <td>6</td>\n",
       "      <td>2</td>\n",
       "      <td>2000</td>\n",
       "    </tr>\n",
       "  </tbody>\n",
       "</table>\n",
       "</div>"
      ],
      "text/plain": [
       "       tripduration  start station latitude  start station longitude  \\\n",
       "count      12222976                12222976                 12222976   \n",
       "mean            819                      40                      -73   \n",
       "std            7586                       0                        0   \n",
       "min              61                       0                      -74   \n",
       "25%             362                      40                      -73   \n",
       "50%             582                      40                      -73   \n",
       "75%             956                      40                      -73   \n",
       "max         8933552                      40                        0   \n",
       "\n",
       "       end station latitude  end station longitude  start_year  start_month  \\\n",
       "count              12222976               12222976    12222976     12222976   \n",
       "mean                     40                    -73        2016            7   \n",
       "std                       0                      0           0            3   \n",
       "min                       0                    -74        2016            1   \n",
       "25%                      40                    -73        2016            5   \n",
       "50%                      40                    -73        2016            7   \n",
       "75%                      40                    -73        2016           10   \n",
       "max                      40                      0        2016           12   \n",
       "\n",
       "       start_day  start_hour  start_dayofweek    gender  birth year  \n",
       "count   12222976    12222976         12222976  12222976    12222976  \n",
       "mean          15          13                2         1        1977  \n",
       "std            8           4                1         0          11  \n",
       "min            1           0                0         0        1885  \n",
       "25%            8           9                1         1        1970  \n",
       "50%           16          15                3         1        1980  \n",
       "75%           23          18                4         1        1987  \n",
       "max           31          23                6         2        2000  "
      ]
     },
     "execution_count": 4,
     "metadata": {},
     "output_type": "execute_result"
    }
   ],
   "source": [
    "data.describe().astype(int)"
   ]
  },
  {
   "cell_type": "code",
   "execution_count": 5,
   "metadata": {
    "collapsed": true
   },
   "outputs": [],
   "source": [
    "# Create X and y for sklearn with non-subscriber as class=1.0\n",
    "X = data[data.columns[:-1]].astype(np.float)\n",
    "y = (data['usertype'] != 'Subscriber').values.astype(np.int)"
   ]
  },
  {
   "cell_type": "code",
   "execution_count": 6,
   "metadata": {},
   "outputs": [
    {
     "data": {
      "text/plain": [
       "(12222976, 12)"
      ]
     },
     "execution_count": 6,
     "metadata": {},
     "output_type": "execute_result"
    }
   ],
   "source": [
    "X.shape"
   ]
  },
  {
   "cell_type": "code",
   "execution_count": 7,
   "metadata": {},
   "outputs": [
    {
     "data": {
      "text/plain": [
       "(12222976,)"
      ]
     },
     "execution_count": 7,
     "metadata": {},
     "output_type": "execute_result"
    }
   ],
   "source": [
    "y.shape"
   ]
  },
  {
   "cell_type": "markdown",
   "metadata": {},
   "source": [
    "# SMOTE Demonstration"
   ]
  },
  {
   "cell_type": "markdown",
   "metadata": {},
   "source": [
    "<b>Class frequency in the original dataset</b>"
   ]
  },
  {
   "cell_type": "code",
   "execution_count": 8,
   "metadata": {},
   "outputs": [
    {
     "name": "stdout",
     "output_type": "stream",
     "text": [
      "==== Before SMOTE ====\n",
      "Total number of Rides: 12222976\n",
      "Total number of Rides by Subscribers: 12188588 (99.72% of total rides)\n",
      "Total number of Rides by Non-subscribers: 34388 (0.28% of total rides)\n"
     ]
    }
   ],
   "source": [
    "print('==== Before SMOTE ====')\n",
    "total_number_rides = len(y)\n",
    "total_number_subscribers = Counter(y)[0]\n",
    "total_number_nonsubscribers = Counter(y)[1]\n",
    "subs_perc = 100*total_number_subscribers / total_number_rides\n",
    "nonsubs_perc = 100*total_number_nonsubscribers / total_number_rides\n",
    "print('Total number of Rides: %d' % total_number_rides)\n",
    "print('Total number of Rides by Subscribers: %d (%.2f%% of total rides)' % (total_number_subscribers, subs_perc))\n",
    "print('Total number of Rides by Non-subscribers: %d (%.2f%% of total rides)' % (total_number_nonsubscribers, nonsubs_perc))"
   ]
  },
  {
   "cell_type": "markdown",
   "metadata": {},
   "source": [
    "<b>Class frequency in after SMOTE</b>"
   ]
  },
  {
   "cell_type": "code",
   "execution_count": 9,
   "metadata": {},
   "outputs": [
    {
     "name": "stdout",
     "output_type": "stream",
     "text": [
      "CPU times: user 1min 46s, sys: 2.2 s, total: 1min 49s\n",
      "Wall time: 1min 49s\n"
     ]
    }
   ],
   "source": [
    "%%time\n",
    "# run SMOTE algorithm\n",
    "sm = SMOTE()\n",
    "X_res, y_res = sm.fit_sample(X, y)"
   ]
  },
  {
   "cell_type": "code",
   "execution_count": 10,
   "metadata": {},
   "outputs": [
    {
     "name": "stdout",
     "output_type": "stream",
     "text": [
      "==== After SMOTE ====\n",
      "Total number of Rides: 24377176\n",
      "Total number of Rides by Subscribers: 12188588 (50.00% of total rides)\n",
      "Total number of Rides by Non-subscribers: 12188588 (50.00% of total rides)\n"
     ]
    }
   ],
   "source": [
    "print('==== After SMOTE ====')\n",
    "total_number_rides = len(y_res)\n",
    "total_number_subscribers = Counter(y_res)[0]\n",
    "total_number_nonsubscribers = Counter(y_res)[1]\n",
    "subs_perc = 100*total_number_subscribers / total_number_rides\n",
    "nonsubs_perc = 100*total_number_nonsubscribers / total_number_rides\n",
    "print('Total number of Rides: %d' % total_number_rides)\n",
    "print('Total number of Rides by Subscribers: %d (%.2f%% of total rides)' % (total_number_subscribers, subs_perc))\n",
    "print('Total number of Rides by Non-subscribers: %d (%.2f%% of total rides)' % (total_number_nonsubscribers, nonsubs_perc))"
   ]
  },
  {
   "cell_type": "markdown",
   "metadata": {},
   "source": [
    "# Train on oversampled set, test on regular set (multiple rounds)\n",
    "- First, split the dataset into train and test sets\n",
    "- Oversample the minority by SMOTE on the train set only\n",
    "- Train the classifier on the oversampled train set, test on the imbalanced test set"
   ]
  },
  {
   "cell_type": "code",
   "execution_count": 11,
   "metadata": {},
   "outputs": [
    {
     "name": "stdout",
     "output_type": "stream",
     "text": [
      "Average accuracy: 0.996889 +/- 0.000033 (n=3)\n",
      "Average AP Score: 0.099403 +/- 0.002113 (n=3)\n",
      "CPU times: user 1h 4min 16s, sys: 56.4 s, total: 1h 5min 12s\n",
      "Wall time: 22min 57s\n"
     ]
    },
    {
     "data": {
      "image/png": "[encoded data removed]",
      "text/plain": [
       "<matplotlib.figure.Figure at 0x10519b6a0>"
      ]
     },
     "metadata": {},
     "output_type": "display_data"
    }
   ],
   "source": [
    "%%time\n",
    "\n",
    "# Set up basic parameters and data containers\n",
    "n = 3\n",
    "test_size = 0.4\n",
    "accuracies = []\n",
    "aps = []\n",
    "\n",
    "fig, (ax1, ax2) = plt.subplots(1, 2, figsize=(10, 4.5))\n",
    "\n",
    "# Split the sample first\n",
    "X_train, X_test, y_train, y_test = train_test_split(X, y, test_size=test_size)\n",
    "\n",
    "for i in range(n):\n",
    "    \n",
    "    # Undersample the majority for train set only\n",
    "    sm = SMOTE()\n",
    "    X_res, y_res = sm.fit_sample(X_train, y_train)\n",
    "    \n",
    "    # Train RandomForest on Undersampled train set\n",
    "    clf = RandomForestClassifier(max_depth=40, n_jobs=4)\n",
    "    clf.fit(X_res, y_res)\n",
    "    \n",
    "    # Predict/score on X_test and y_test\n",
    "    result = msf.score_clf(clf, X_test, y_test, X_train=X_res, y_train=y_res)\n",
    "    accuracies.append(result['scores']['accuracy'])\n",
    "    aps.append(result['scores']['average_precision_score'])\n",
    "    \n",
    "    # Plot ROC curve\n",
    "    fpr = result['scores']['roc_curve'][0]\n",
    "    tpr = result['scores']['roc_curve'][1]\n",
    "    ax1.plot(fpr, tpr)\n",
    "    ax1.set_xlabel('False Positive Rate')\n",
    "    ax1.set_ylabel('True Positive Rate')\n",
    "    ax1.set_title('ROC Curve')\n",
    "    \n",
    "    # Plot Precision-Recall Curve\n",
    "    precision, recall, _ = precision_recall_curve(y_test, clf.predict_proba(X_test)[:, 1])\n",
    "\n",
    "    ax2.plot(recall, precision)\n",
    "    ax2.set_xlabel('Recall')\n",
    "    ax2.set_ylabel('Precision')\n",
    "    ax2.set_title('Precision-Recall')\n",
    "\n",
    "print('Average accuracy: %f +/- %f (n=%d)' % (np.mean(accuracies), np.std(accuracies), n))\n",
    "print('Average AP Score: %f +/- %f (n=%d)' % (np.mean(aps), np.std(aps), n))"
   ]
  },
  {
   "cell_type": "code",
   "execution_count": 12,
   "metadata": {
    "collapsed": true
   },
   "outputs": [],
   "source": [
    "result = msf.score_clf2(clf, X_test, y_test)"
   ]
  },
  {
   "cell_type": "code",
   "execution_count": 13,
   "metadata": {},
   "outputs": [
    {
     "name": "stdout",
     "output_type": "stream",
     "text": [
      "==== Classifier Metrics on Test Set ====\n",
      "Accuracy: 0.996935\n",
      "Precision: 0.302592\n",
      "Recall: 0.065088\n",
      "F-Score: 0.107132\n",
      "Brier Score: 0.003246\n",
      "Average Precision Score: 0.102387\n",
      "Confusion Matrix:  [[4873307    2072]\n",
      " [  12913     899]]\n",
      "--------------- Feature Importances ---------------\n",
      " 1) start_month          0.417815\n",
      " 2) start_dayofweek      0.143318\n",
      " 3) gender               0.124208\n",
      " 4) tripduration         0.109225\n",
      " 5) start_hour           0.100156\n",
      " 6) birth year           0.033727\n",
      " 7) start_day            0.031869\n",
      " 8) end station longitude 0.011647\n",
      " 9) start station longitude 0.009770\n",
      "10) end station latitude 0.009576\n",
      "11) start station latitude 0.008688\n",
      "12) start_year           0.000000\n",
      "\n",
      "\n"
     ]
    }
   ],
   "source": [
    "feature_labels = data.columns[:-1]\n",
    "msf.print_clf_scores2(result, trainset=False, feature_labels=feature_labels)"
   ]
  },
  {
   "cell_type": "code",
   "execution_count": null,
   "metadata": {
    "collapsed": true
   },
   "outputs": [],
   "source": []
  }
 ],
 "metadata": {
  "kernelspec": {
   "display_name": "Python 3",
   "language": "python",
   "name": "python3"
  },
  "language_info": {
   "codemirror_mode": {
    "name": "ipython",
    "version": 3
   },
   "file_extension": ".py",
   "mimetype": "text/x-python",
   "name": "python",
   "nbconvert_exporter": "python",
   "pygments_lexer": "ipython3",
   "version": "3.6.1"
  }
 },
 "nbformat": 4,
 "nbformat_minor": 2
}
