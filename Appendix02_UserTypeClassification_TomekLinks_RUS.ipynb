{
 "cells": [
  {
   "cell_type": "markdown",
   "metadata": {},
   "source": [
    "<a id='sec0'></a>\n",
    "# TomekLinks-RandomUnderSampling (TL-RUS)\n",
    "- Test Tomek Links combined with Undersampling to make sure the imbalance is removed"
   ]
  },
  {
   "cell_type": "code",
   "execution_count": 1,
   "metadata": {
    "collapsed": true
   },
   "outputs": [],
   "source": [
    "import numpy as np\n",
    "import pandas as pd\n",
    "import matplotlib.pyplot as plt\n",
    "from sklearn.model_selection import train_test_split, GridSearchCV\n",
    "from sklearn.tree import DecisionTreeClassifier\n",
    "from sklearn.ensemble import RandomForestClassifier\n",
    "from imblearn.under_sampling import TomekLinks, RandomUnderSampler\n",
    "from collections import Counter\n",
    "\n",
    "import my_scoring_functions as msf\n",
    "\n",
    "%matplotlib inline"
   ]
  },
  {
   "cell_type": "markdown",
   "metadata": {},
   "source": [
    "<a id='sec2'></a>\n",
    "# Import data (only 2016 data used)"
   ]
  },
  {
   "cell_type": "code",
   "execution_count": 2,
   "metadata": {
    "collapsed": true
   },
   "outputs": [],
   "source": [
    "data = pd.read_csv('../data/for_predictions/dataset_2016_membership_pred.csv')"
   ]
  },
  {
   "cell_type": "code",
   "execution_count": 3,
   "metadata": {},
   "outputs": [
    {
     "data": {
      "text/html": [
       "<div>\n",
       "<style>\n",
       "    .dataframe thead tr:only-child th {\n",
       "        text-align: right;\n",
       "    }\n",
       "\n",
       "    .dataframe thead th {\n",
       "        text-align: left;\n",
       "    }\n",
       "\n",
       "    .dataframe tbody tr th {\n",
       "        vertical-align: top;\n",
       "    }\n",
       "</style>\n",
       "<table border=\"1\" class=\"dataframe\">\n",
       "  <thead>\n",
       "    <tr style=\"text-align: right;\">\n",
       "      <th></th>\n",
       "      <th>Trip Duration</th>\n",
       "      <th>Start Station Latitude</th>\n",
       "      <th>Start Station Longitude</th>\n",
       "      <th>End Station Latitude</th>\n",
       "      <th>End Station Longitude</th>\n",
       "      <th>start_month</th>\n",
       "      <th>start_day</th>\n",
       "      <th>start_hour</th>\n",
       "      <th>start_dayofweek</th>\n",
       "      <th>stop_hour</th>\n",
       "      <th>Gender</th>\n",
       "      <th>Birth Year</th>\n",
       "      <th>User Type</th>\n",
       "    </tr>\n",
       "  </thead>\n",
       "  <tbody>\n",
       "    <tr>\n",
       "      <th>0</th>\n",
       "      <td>496</td>\n",
       "      <td>40.735324</td>\n",
       "      <td>-73.998004</td>\n",
       "      <td>40.728419</td>\n",
       "      <td>-73.987140</td>\n",
       "      <td>4</td>\n",
       "      <td>1</td>\n",
       "      <td>0</td>\n",
       "      <td>4</td>\n",
       "      <td>0</td>\n",
       "      <td>1</td>\n",
       "      <td>1984.0</td>\n",
       "      <td>Subscriber</td>\n",
       "    </tr>\n",
       "    <tr>\n",
       "      <th>1</th>\n",
       "      <td>104</td>\n",
       "      <td>40.717227</td>\n",
       "      <td>-73.988021</td>\n",
       "      <td>40.715595</td>\n",
       "      <td>-73.987030</td>\n",
       "      <td>4</td>\n",
       "      <td>1</td>\n",
       "      <td>0</td>\n",
       "      <td>4</td>\n",
       "      <td>0</td>\n",
       "      <td>1</td>\n",
       "      <td>1970.0</td>\n",
       "      <td>Subscriber</td>\n",
       "    </tr>\n",
       "    <tr>\n",
       "      <th>2</th>\n",
       "      <td>128</td>\n",
       "      <td>40.696820</td>\n",
       "      <td>-73.937569</td>\n",
       "      <td>40.693398</td>\n",
       "      <td>-73.939877</td>\n",
       "      <td>4</td>\n",
       "      <td>1</td>\n",
       "      <td>0</td>\n",
       "      <td>4</td>\n",
       "      <td>0</td>\n",
       "      <td>1</td>\n",
       "      <td>1986.0</td>\n",
       "      <td>Subscriber</td>\n",
       "    </tr>\n",
       "    <tr>\n",
       "      <th>3</th>\n",
       "      <td>1197</td>\n",
       "      <td>40.766638</td>\n",
       "      <td>-73.953483</td>\n",
       "      <td>40.751551</td>\n",
       "      <td>-73.993934</td>\n",
       "      <td>4</td>\n",
       "      <td>1</td>\n",
       "      <td>0</td>\n",
       "      <td>4</td>\n",
       "      <td>0</td>\n",
       "      <td>1</td>\n",
       "      <td>1981.0</td>\n",
       "      <td>Subscriber</td>\n",
       "    </tr>\n",
       "    <tr>\n",
       "      <th>4</th>\n",
       "      <td>419</td>\n",
       "      <td>40.741776</td>\n",
       "      <td>-74.001497</td>\n",
       "      <td>40.739323</td>\n",
       "      <td>-74.008119</td>\n",
       "      <td>4</td>\n",
       "      <td>1</td>\n",
       "      <td>0</td>\n",
       "      <td>4</td>\n",
       "      <td>0</td>\n",
       "      <td>2</td>\n",
       "      <td>1982.0</td>\n",
       "      <td>Subscriber</td>\n",
       "    </tr>\n",
       "  </tbody>\n",
       "</table>\n",
       "</div>"
      ],
      "text/plain": [
       "   Trip Duration  Start Station Latitude  Start Station Longitude  \\\n",
       "0            496               40.735324               -73.998004   \n",
       "1            104               40.717227               -73.988021   \n",
       "2            128               40.696820               -73.937569   \n",
       "3           1197               40.766638               -73.953483   \n",
       "4            419               40.741776               -74.001497   \n",
       "\n",
       "   End Station Latitude  End Station Longitude  start_month  start_day  \\\n",
       "0             40.728419             -73.987140            4          1   \n",
       "1             40.715595             -73.987030            4          1   \n",
       "2             40.693398             -73.939877            4          1   \n",
       "3             40.751551             -73.993934            4          1   \n",
       "4             40.739323             -74.008119            4          1   \n",
       "\n",
       "   start_hour  start_dayofweek  stop_hour  Gender  Birth Year   User Type  \n",
       "0           0                4          0       1      1984.0  Subscriber  \n",
       "1           0                4          0       1      1970.0  Subscriber  \n",
       "2           0                4          0       1      1986.0  Subscriber  \n",
       "3           0                4          0       1      1981.0  Subscriber  \n",
       "4           0                4          0       2      1982.0  Subscriber  "
      ]
     },
     "execution_count": 3,
     "metadata": {},
     "output_type": "execute_result"
    }
   ],
   "source": [
    "data.head()"
   ]
  },
  {
   "cell_type": "code",
   "execution_count": 4,
   "metadata": {
    "scrolled": true
   },
   "outputs": [
    {
     "data": {
      "text/html": [
       "<div>\n",
       "<style>\n",
       "    .dataframe thead tr:only-child th {\n",
       "        text-align: right;\n",
       "    }\n",
       "\n",
       "    .dataframe thead th {\n",
       "        text-align: left;\n",
       "    }\n",
       "\n",
       "    .dataframe tbody tr th {\n",
       "        vertical-align: top;\n",
       "    }\n",
       "</style>\n",
       "<table border=\"1\" class=\"dataframe\">\n",
       "  <thead>\n",
       "    <tr style=\"text-align: right;\">\n",
       "      <th></th>\n",
       "      <th>Trip Duration</th>\n",
       "      <th>Start Station Latitude</th>\n",
       "      <th>Start Station Longitude</th>\n",
       "      <th>End Station Latitude</th>\n",
       "      <th>End Station Longitude</th>\n",
       "      <th>start_month</th>\n",
       "      <th>start_day</th>\n",
       "      <th>start_hour</th>\n",
       "      <th>start_dayofweek</th>\n",
       "      <th>stop_hour</th>\n",
       "      <th>Gender</th>\n",
       "      <th>Birth Year</th>\n",
       "    </tr>\n",
       "  </thead>\n",
       "  <tbody>\n",
       "    <tr>\n",
       "      <th>count</th>\n",
       "      <td>12499176.0</td>\n",
       "      <td>12499176.0</td>\n",
       "      <td>12499176.0</td>\n",
       "      <td>12499176.0</td>\n",
       "      <td>12499176.0</td>\n",
       "      <td>12499176.0</td>\n",
       "      <td>12499176.0</td>\n",
       "      <td>12499176.0</td>\n",
       "      <td>12499176.0</td>\n",
       "      <td>12499176.0</td>\n",
       "      <td>12499176.0</td>\n",
       "      <td>12499176.0</td>\n",
       "    </tr>\n",
       "    <tr>\n",
       "      <th>mean</th>\n",
       "      <td>806.0</td>\n",
       "      <td>41.0</td>\n",
       "      <td>-74.0</td>\n",
       "      <td>41.0</td>\n",
       "      <td>-74.0</td>\n",
       "      <td>7.0</td>\n",
       "      <td>16.0</td>\n",
       "      <td>14.0</td>\n",
       "      <td>3.0</td>\n",
       "      <td>14.0</td>\n",
       "      <td>1.0</td>\n",
       "      <td>1978.0</td>\n",
       "    </tr>\n",
       "    <tr>\n",
       "      <th>std</th>\n",
       "      <td>7540.0</td>\n",
       "      <td>0.0</td>\n",
       "      <td>0.0</td>\n",
       "      <td>0.0</td>\n",
       "      <td>0.0</td>\n",
       "      <td>3.0</td>\n",
       "      <td>9.0</td>\n",
       "      <td>5.0</td>\n",
       "      <td>2.0</td>\n",
       "      <td>5.0</td>\n",
       "      <td>0.0</td>\n",
       "      <td>12.0</td>\n",
       "    </tr>\n",
       "    <tr>\n",
       "      <th>min</th>\n",
       "      <td>61.0</td>\n",
       "      <td>0.0</td>\n",
       "      <td>-74.0</td>\n",
       "      <td>0.0</td>\n",
       "      <td>-74.0</td>\n",
       "      <td>1.0</td>\n",
       "      <td>1.0</td>\n",
       "      <td>0.0</td>\n",
       "      <td>0.0</td>\n",
       "      <td>0.0</td>\n",
       "      <td>0.0</td>\n",
       "      <td>1885.0</td>\n",
       "    </tr>\n",
       "    <tr>\n",
       "      <th>25%</th>\n",
       "      <td>360.0</td>\n",
       "      <td>41.0</td>\n",
       "      <td>-74.0</td>\n",
       "      <td>41.0</td>\n",
       "      <td>-74.0</td>\n",
       "      <td>5.0</td>\n",
       "      <td>8.0</td>\n",
       "      <td>9.0</td>\n",
       "      <td>1.0</td>\n",
       "      <td>9.0</td>\n",
       "      <td>1.0</td>\n",
       "      <td>1970.0</td>\n",
       "    </tr>\n",
       "    <tr>\n",
       "      <th>50%</th>\n",
       "      <td>580.0</td>\n",
       "      <td>41.0</td>\n",
       "      <td>-74.0</td>\n",
       "      <td>41.0</td>\n",
       "      <td>-74.0</td>\n",
       "      <td>7.0</td>\n",
       "      <td>16.0</td>\n",
       "      <td>15.0</td>\n",
       "      <td>3.0</td>\n",
       "      <td>15.0</td>\n",
       "      <td>1.0</td>\n",
       "      <td>1981.0</td>\n",
       "    </tr>\n",
       "    <tr>\n",
       "      <th>75%</th>\n",
       "      <td>955.0</td>\n",
       "      <td>41.0</td>\n",
       "      <td>-74.0</td>\n",
       "      <td>41.0</td>\n",
       "      <td>-74.0</td>\n",
       "      <td>10.0</td>\n",
       "      <td>23.0</td>\n",
       "      <td>18.0</td>\n",
       "      <td>4.0</td>\n",
       "      <td>18.0</td>\n",
       "      <td>1.0</td>\n",
       "      <td>1987.0</td>\n",
       "    </tr>\n",
       "    <tr>\n",
       "      <th>max</th>\n",
       "      <td>8933552.0</td>\n",
       "      <td>41.0</td>\n",
       "      <td>0.0</td>\n",
       "      <td>41.0</td>\n",
       "      <td>0.0</td>\n",
       "      <td>12.0</td>\n",
       "      <td>31.0</td>\n",
       "      <td>23.0</td>\n",
       "      <td>6.0</td>\n",
       "      <td>23.0</td>\n",
       "      <td>2.0</td>\n",
       "      <td>2001.0</td>\n",
       "    </tr>\n",
       "  </tbody>\n",
       "</table>\n",
       "</div>"
      ],
      "text/plain": [
       "       Trip Duration  Start Station Latitude  Start Station Longitude  \\\n",
       "count     12499176.0              12499176.0               12499176.0   \n",
       "mean           806.0                    41.0                    -74.0   \n",
       "std           7540.0                     0.0                      0.0   \n",
       "min             61.0                     0.0                    -74.0   \n",
       "25%            360.0                    41.0                    -74.0   \n",
       "50%            580.0                    41.0                    -74.0   \n",
       "75%            955.0                    41.0                    -74.0   \n",
       "max        8933552.0                    41.0                      0.0   \n",
       "\n",
       "       End Station Latitude  End Station Longitude  start_month   start_day  \\\n",
       "count            12499176.0             12499176.0   12499176.0  12499176.0   \n",
       "mean                   41.0                  -74.0          7.0        16.0   \n",
       "std                     0.0                    0.0          3.0         9.0   \n",
       "min                     0.0                  -74.0          1.0         1.0   \n",
       "25%                    41.0                  -74.0          5.0         8.0   \n",
       "50%                    41.0                  -74.0          7.0        16.0   \n",
       "75%                    41.0                  -74.0         10.0        23.0   \n",
       "max                    41.0                    0.0         12.0        31.0   \n",
       "\n",
       "       start_hour  start_dayofweek   stop_hour      Gender  Birth Year  \n",
       "count  12499176.0       12499176.0  12499176.0  12499176.0  12499176.0  \n",
       "mean         14.0              3.0        14.0         1.0      1978.0  \n",
       "std           5.0              2.0         5.0         0.0        12.0  \n",
       "min           0.0              0.0         0.0         0.0      1885.0  \n",
       "25%           9.0              1.0         9.0         1.0      1970.0  \n",
       "50%          15.0              3.0        15.0         1.0      1981.0  \n",
       "75%          18.0              4.0        18.0         1.0      1987.0  \n",
       "max          23.0              6.0        23.0         2.0      2001.0  "
      ]
     },
     "execution_count": 4,
     "metadata": {},
     "output_type": "execute_result"
    }
   ],
   "source": [
    "data.describe().round(0)"
   ]
  },
  {
   "cell_type": "markdown",
   "metadata": {},
   "source": [
    "# Setting up Data (label subscriber as class=0)"
   ]
  },
  {
   "cell_type": "code",
   "execution_count": 5,
   "metadata": {
    "collapsed": true
   },
   "outputs": [],
   "source": [
    "# Create X and y for sklearn\n",
    "X = data[data.columns[:-1]].astype(np.float)\n",
    "y = (data['User Type'] != 'Subscriber').values.astype(np.int)"
   ]
  },
  {
   "cell_type": "markdown",
   "metadata": {},
   "source": [
    "<b>Class frequency in the original dataset</b>"
   ]
  },
  {
   "cell_type": "code",
   "execution_count": 6,
   "metadata": {},
   "outputs": [
    {
     "name": "stdout",
     "output_type": "stream",
     "text": [
      "==== Before EditedNearestNeighbours ====\n",
      "Total number of Rides: 12499176\n",
      "Total number of Rides by Subscribers: 12463924 (99.72% of total rides)\n",
      "Total number of Rides by Non-subscribers: 35252 (0.28% of total rides)\n"
     ]
    }
   ],
   "source": [
    "print('==== Before EditedNearestNeighbours ====')\n",
    "total_number_rides = len(y)\n",
    "total_number_subscribers = Counter(y)[0]\n",
    "total_number_nonsubscribers = Counter(y)[1]\n",
    "subs_perc = 100*total_number_subscribers / total_number_rides\n",
    "nonsubs_perc = 100*total_number_nonsubscribers / total_number_rides\n",
    "print('Total number of Rides: %d' % total_number_rides)\n",
    "print('Total number of Rides by Subscribers: %d (%.2f%% of total rides)' % (total_number_subscribers, subs_perc))\n",
    "print('Total number of Rides by Non-subscribers: %d (%.2f%% of total rides)' % (total_number_nonsubscribers, nonsubs_perc))"
   ]
  },
  {
   "cell_type": "markdown",
   "metadata": {},
   "source": [
    "<b>Class frequency in after TomekLinks</b>"
   ]
  },
  {
   "cell_type": "code",
   "execution_count": 7,
   "metadata": {},
   "outputs": [
    {
     "name": "stdout",
     "output_type": "stream",
     "text": [
      "CPU times: user 53min 30s, sys: 7.87 s, total: 53min 38s\n",
      "Wall time: 18min 12s\n"
     ]
    }
   ],
   "source": [
    "%%time\n",
    "tl = TomekLinks(n_jobs=4, ratio='majority')\n",
    "X_res, y_res = tl.fit_sample(X, y)"
   ]
  },
  {
   "cell_type": "code",
   "execution_count": 8,
   "metadata": {},
   "outputs": [
    {
     "name": "stdout",
     "output_type": "stream",
     "text": [
      "==== After EditedNearestNeighbours ====\n",
      "Total number of Rides: 12481462\n",
      "Total number of Rides by Subscribers: 12446210 (99.72% of total rides)\n",
      "Total number of Rides by Non-subscribers: 35252 (0.28% of total rides)\n"
     ]
    }
   ],
   "source": [
    "print('==== After EditedNearestNeighbours ====')\n",
    "total_number_rides = len(y_res)\n",
    "total_number_subscribers = Counter(y_res)[0]\n",
    "total_number_nonsubscribers = Counter(y_res)[1]\n",
    "subs_perc = 100*total_number_subscribers / total_number_rides\n",
    "nonsubs_perc = 100*total_number_nonsubscribers / total_number_rides\n",
    "print('Total number of Rides: %d' % total_number_rides)\n",
    "print('Total number of Rides by Subscribers: %d (%.2f%% of total rides)' % (total_number_subscribers, subs_perc))\n",
    "print('Total number of Rides by Non-subscribers: %d (%.2f%% of total rides)' % (total_number_nonsubscribers, nonsubs_perc))"
   ]
  },
  {
   "cell_type": "markdown",
   "metadata": {},
   "source": [
    "<b>Further data reduction by random undersampling</b>"
   ]
  },
  {
   "cell_type": "code",
   "execution_count": 9,
   "metadata": {},
   "outputs": [
    {
     "name": "stdout",
     "output_type": "stream",
     "text": [
      "CPU times: user 6.07 s, sys: 1.1 s, total: 7.16 s\n",
      "Wall time: 7.21 s\n"
     ]
    }
   ],
   "source": [
    "%%time\n",
    "rus = RandomUnderSampler(ratio='majority')\n",
    "X_res2, y_res2 = rus.fit_sample(X_res, y_res)"
   ]
  },
  {
   "cell_type": "code",
   "execution_count": 10,
   "metadata": {},
   "outputs": [
    {
     "name": "stdout",
     "output_type": "stream",
     "text": [
      "==== After EditedNearestNeighbours ====\n",
      "Total number of Rides: 70504\n",
      "Total number of Rides by Subscribers: 35252 (50.00% of total rides)\n",
      "Total number of Rides by Non-subscribers: 35252 (50.00% of total rides)\n"
     ]
    }
   ],
   "source": [
    "print('==== After EditedNearestNeighbours ====')\n",
    "total_number_rides = len(y_res2)\n",
    "total_number_subscribers = Counter(y_res2)[0]\n",
    "total_number_nonsubscribers = Counter(y_res2)[1]\n",
    "subs_perc = 100*total_number_subscribers / total_number_rides\n",
    "nonsubs_perc = 100*total_number_nonsubscribers / total_number_rides\n",
    "print('Total number of Rides: %d' % total_number_rides)\n",
    "print('Total number of Rides by Subscribers: %d (%.2f%% of total rides)' % (total_number_subscribers, subs_perc))\n",
    "print('Total number of Rides by Non-subscribers: %d (%.2f%% of total rides)' % (total_number_nonsubscribers, nonsubs_perc))"
   ]
  },
  {
   "cell_type": "code",
   "execution_count": null,
   "metadata": {
    "collapsed": true
   },
   "outputs": [],
   "source": []
  },
  {
   "cell_type": "code",
   "execution_count": null,
   "metadata": {
    "collapsed": true
   },
   "outputs": [],
   "source": []
  }
 ],
 "metadata": {
  "kernelspec": {
   "display_name": "Python 3",
   "language": "python",
   "name": "python3"
  },
  "language_info": {
   "codemirror_mode": {
    "name": "ipython",
    "version": 3
   },
   "file_extension": ".py",
   "mimetype": "text/x-python",
   "name": "python",
   "nbconvert_exporter": "python",
   "pygments_lexer": "ipython3",
   "version": "3.6.1"
  }
 },
 "nbformat": 4,
 "nbformat_minor": 2
}
