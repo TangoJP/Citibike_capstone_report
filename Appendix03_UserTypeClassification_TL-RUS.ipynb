{
 "cells": [
  {
   "cell_type": "markdown",
   "metadata": {},
   "source": [
    "<a id='sec0'></a>\n",
    "# Evaluating RandomForest using TL-RUS undersampled dataset"
   ]
  },
  {
   "cell_type": "markdown",
   "metadata": {},
   "source": [
    "- Use RandomForestClassifier with max_depth=40\n",
    "- Train the model on undersampled set and test it on the imbalanced set with the original class ratio\n",
    "- Do the above with multiple rounds of undersampling and test to make sure results are similar"
   ]
  },
  {
   "cell_type": "code",
   "execution_count": 1,
   "metadata": {
    "collapsed": true
   },
   "outputs": [],
   "source": [
    "import numpy as np\n",
    "import pandas as pd\n",
    "import matplotlib.pyplot as plt\n",
    "from sklearn.model_selection import train_test_split, GridSearchCV\n",
    "from sklearn.metrics import precision_recall_curve\n",
    "from sklearn.tree import DecisionTreeClassifier\n",
    "from sklearn.ensemble import RandomForestClassifier\n",
    "from imblearn.under_sampling import TomekLinks, RandomUnderSampler\n",
    "from collections import Counter\n",
    "\n",
    "import my_scoring_functions as msf\n",
    "\n",
    "%matplotlib inline"
   ]
  },
  {
   "cell_type": "markdown",
   "metadata": {},
   "source": [
    "# Setting up Data (This time tried to label subscriber as 0)"
   ]
  },
  {
   "cell_type": "code",
   "execution_count": 2,
   "metadata": {
    "collapsed": true
   },
   "outputs": [],
   "source": [
    "data = pd.read_csv('../data/for_predictions/2015-2017_usertype_tomeklinks.csv')"
   ]
  },
  {
   "cell_type": "code",
   "execution_count": 3,
   "metadata": {
    "collapsed": true
   },
   "outputs": [],
   "source": [
    "data = data.dropna()\n",
    "del data['Unnamed: 0']"
   ]
  },
  {
   "cell_type": "code",
   "execution_count": 4,
   "metadata": {},
   "outputs": [
    {
     "data": {
      "text/html": [
       "<div>\n",
       "<style>\n",
       "    .dataframe thead tr:only-child th {\n",
       "        text-align: right;\n",
       "    }\n",
       "\n",
       "    .dataframe thead th {\n",
       "        text-align: left;\n",
       "    }\n",
       "\n",
       "    .dataframe tbody tr th {\n",
       "        vertical-align: top;\n",
       "    }\n",
       "</style>\n",
       "<table border=\"1\" class=\"dataframe\">\n",
       "  <thead>\n",
       "    <tr style=\"text-align: right;\">\n",
       "      <th></th>\n",
       "      <th>tripduration</th>\n",
       "      <th>start station latitude</th>\n",
       "      <th>start station longitude</th>\n",
       "      <th>end station latitude</th>\n",
       "      <th>end station longitude</th>\n",
       "      <th>start_year</th>\n",
       "      <th>start_month</th>\n",
       "      <th>start_day</th>\n",
       "      <th>start_hour</th>\n",
       "      <th>start_dayofweek</th>\n",
       "      <th>birth year</th>\n",
       "      <th>gender</th>\n",
       "      <th>usertype</th>\n",
       "    </tr>\n",
       "  </thead>\n",
       "  <tbody>\n",
       "    <tr>\n",
       "      <th>0</th>\n",
       "      <td>1346.0</td>\n",
       "      <td>40.750020</td>\n",
       "      <td>-73.969053</td>\n",
       "      <td>40.722293</td>\n",
       "      <td>-73.991475</td>\n",
       "      <td>2015.0</td>\n",
       "      <td>1.0</td>\n",
       "      <td>1.0</td>\n",
       "      <td>0.0</td>\n",
       "      <td>3.0</td>\n",
       "      <td>1960.0</td>\n",
       "      <td>2.0</td>\n",
       "      <td>0</td>\n",
       "    </tr>\n",
       "    <tr>\n",
       "      <th>1</th>\n",
       "      <td>363.0</td>\n",
       "      <td>40.743174</td>\n",
       "      <td>-74.003664</td>\n",
       "      <td>40.739355</td>\n",
       "      <td>-73.999318</td>\n",
       "      <td>2015.0</td>\n",
       "      <td>1.0</td>\n",
       "      <td>1.0</td>\n",
       "      <td>0.0</td>\n",
       "      <td>3.0</td>\n",
       "      <td>1963.0</td>\n",
       "      <td>1.0</td>\n",
       "      <td>0</td>\n",
       "    </tr>\n",
       "    <tr>\n",
       "      <th>2</th>\n",
       "      <td>346.0</td>\n",
       "      <td>40.740964</td>\n",
       "      <td>-73.986022</td>\n",
       "      <td>40.749013</td>\n",
       "      <td>-73.988484</td>\n",
       "      <td>2015.0</td>\n",
       "      <td>1.0</td>\n",
       "      <td>1.0</td>\n",
       "      <td>0.0</td>\n",
       "      <td>3.0</td>\n",
       "      <td>1974.0</td>\n",
       "      <td>1.0</td>\n",
       "      <td>0</td>\n",
       "    </tr>\n",
       "    <tr>\n",
       "      <th>3</th>\n",
       "      <td>182.0</td>\n",
       "      <td>40.683178</td>\n",
       "      <td>-73.965964</td>\n",
       "      <td>40.688515</td>\n",
       "      <td>-73.964763</td>\n",
       "      <td>2015.0</td>\n",
       "      <td>1.0</td>\n",
       "      <td>1.0</td>\n",
       "      <td>0.0</td>\n",
       "      <td>3.0</td>\n",
       "      <td>1969.0</td>\n",
       "      <td>1.0</td>\n",
       "      <td>0</td>\n",
       "    </tr>\n",
       "    <tr>\n",
       "      <th>4</th>\n",
       "      <td>969.0</td>\n",
       "      <td>40.745168</td>\n",
       "      <td>-73.986831</td>\n",
       "      <td>40.726218</td>\n",
       "      <td>-73.983799</td>\n",
       "      <td>2015.0</td>\n",
       "      <td>1.0</td>\n",
       "      <td>1.0</td>\n",
       "      <td>0.0</td>\n",
       "      <td>3.0</td>\n",
       "      <td>1977.0</td>\n",
       "      <td>1.0</td>\n",
       "      <td>0</td>\n",
       "    </tr>\n",
       "  </tbody>\n",
       "</table>\n",
       "</div>"
      ],
      "text/plain": [
       "   tripduration  start station latitude  start station longitude  \\\n",
       "0        1346.0               40.750020               -73.969053   \n",
       "1         363.0               40.743174               -74.003664   \n",
       "2         346.0               40.740964               -73.986022   \n",
       "3         182.0               40.683178               -73.965964   \n",
       "4         969.0               40.745168               -73.986831   \n",
       "\n",
       "   end station latitude  end station longitude  start_year  start_month  \\\n",
       "0             40.722293             -73.991475      2015.0          1.0   \n",
       "1             40.739355             -73.999318      2015.0          1.0   \n",
       "2             40.749013             -73.988484      2015.0          1.0   \n",
       "3             40.688515             -73.964763      2015.0          1.0   \n",
       "4             40.726218             -73.983799      2015.0          1.0   \n",
       "\n",
       "   start_day  start_hour  start_dayofweek  birth year  gender  usertype  \n",
       "0        1.0         0.0              3.0      1960.0     2.0         0  \n",
       "1        1.0         0.0              3.0      1963.0     1.0         0  \n",
       "2        1.0         0.0              3.0      1974.0     1.0         0  \n",
       "3        1.0         0.0              3.0      1969.0     1.0         0  \n",
       "4        1.0         0.0              3.0      1977.0     1.0         0  "
      ]
     },
     "execution_count": 4,
     "metadata": {},
     "output_type": "execute_result"
    }
   ],
   "source": [
    "data.head()"
   ]
  },
  {
   "cell_type": "code",
   "execution_count": 5,
   "metadata": {},
   "outputs": [
    {
     "data": {
      "text/html": [
       "<div>\n",
       "<style>\n",
       "    .dataframe thead tr:only-child th {\n",
       "        text-align: right;\n",
       "    }\n",
       "\n",
       "    .dataframe thead th {\n",
       "        text-align: left;\n",
       "    }\n",
       "\n",
       "    .dataframe tbody tr th {\n",
       "        vertical-align: top;\n",
       "    }\n",
       "</style>\n",
       "<table border=\"1\" class=\"dataframe\">\n",
       "  <thead>\n",
       "    <tr style=\"text-align: right;\">\n",
       "      <th></th>\n",
       "      <th>tripduration</th>\n",
       "      <th>start station latitude</th>\n",
       "      <th>start station longitude</th>\n",
       "      <th>end station latitude</th>\n",
       "      <th>end station longitude</th>\n",
       "      <th>start_year</th>\n",
       "      <th>start_month</th>\n",
       "      <th>start_day</th>\n",
       "      <th>start_hour</th>\n",
       "      <th>start_dayofweek</th>\n",
       "      <th>birth year</th>\n",
       "      <th>gender</th>\n",
       "      <th>usertype</th>\n",
       "    </tr>\n",
       "  </thead>\n",
       "  <tbody>\n",
       "    <tr>\n",
       "      <th>count</th>\n",
       "      <td>22950465</td>\n",
       "      <td>22950465</td>\n",
       "      <td>22950465</td>\n",
       "      <td>22950465</td>\n",
       "      <td>22950465</td>\n",
       "      <td>22950465</td>\n",
       "      <td>22950465</td>\n",
       "      <td>22950465</td>\n",
       "      <td>22950465</td>\n",
       "      <td>22950465</td>\n",
       "      <td>22950465</td>\n",
       "      <td>22950465</td>\n",
       "      <td>22950465</td>\n",
       "    </tr>\n",
       "    <tr>\n",
       "      <th>mean</th>\n",
       "      <td>808</td>\n",
       "      <td>40</td>\n",
       "      <td>-73</td>\n",
       "      <td>40</td>\n",
       "      <td>-73</td>\n",
       "      <td>2015</td>\n",
       "      <td>6</td>\n",
       "      <td>15</td>\n",
       "      <td>13</td>\n",
       "      <td>2</td>\n",
       "      <td>1977</td>\n",
       "      <td>1</td>\n",
       "      <td>0</td>\n",
       "    </tr>\n",
       "    <tr>\n",
       "      <th>std</th>\n",
       "      <td>7030</td>\n",
       "      <td>0</td>\n",
       "      <td>0</td>\n",
       "      <td>0</td>\n",
       "      <td>0</td>\n",
       "      <td>0</td>\n",
       "      <td>3</td>\n",
       "      <td>8</td>\n",
       "      <td>4</td>\n",
       "      <td>1</td>\n",
       "      <td>11</td>\n",
       "      <td>0</td>\n",
       "      <td>0</td>\n",
       "    </tr>\n",
       "    <tr>\n",
       "      <th>min</th>\n",
       "      <td>60</td>\n",
       "      <td>0</td>\n",
       "      <td>-74</td>\n",
       "      <td>0</td>\n",
       "      <td>-74</td>\n",
       "      <td>2015</td>\n",
       "      <td>1</td>\n",
       "      <td>1</td>\n",
       "      <td>0</td>\n",
       "      <td>0</td>\n",
       "      <td>1885</td>\n",
       "      <td>0</td>\n",
       "      <td>0</td>\n",
       "    </tr>\n",
       "    <tr>\n",
       "      <th>25%</th>\n",
       "      <td>360</td>\n",
       "      <td>40</td>\n",
       "      <td>-73</td>\n",
       "      <td>40</td>\n",
       "      <td>-73</td>\n",
       "      <td>2015</td>\n",
       "      <td>4</td>\n",
       "      <td>8</td>\n",
       "      <td>9</td>\n",
       "      <td>1</td>\n",
       "      <td>1969</td>\n",
       "      <td>1</td>\n",
       "      <td>0</td>\n",
       "    </tr>\n",
       "    <tr>\n",
       "      <th>50%</th>\n",
       "      <td>574</td>\n",
       "      <td>40</td>\n",
       "      <td>-73</td>\n",
       "      <td>40</td>\n",
       "      <td>-73</td>\n",
       "      <td>2016</td>\n",
       "      <td>7</td>\n",
       "      <td>16</td>\n",
       "      <td>14</td>\n",
       "      <td>3</td>\n",
       "      <td>1980</td>\n",
       "      <td>1</td>\n",
       "      <td>0</td>\n",
       "    </tr>\n",
       "    <tr>\n",
       "      <th>75%</th>\n",
       "      <td>933</td>\n",
       "      <td>40</td>\n",
       "      <td>-73</td>\n",
       "      <td>40</td>\n",
       "      <td>-73</td>\n",
       "      <td>2016</td>\n",
       "      <td>10</td>\n",
       "      <td>23</td>\n",
       "      <td>18</td>\n",
       "      <td>4</td>\n",
       "      <td>1986</td>\n",
       "      <td>1</td>\n",
       "      <td>0</td>\n",
       "    </tr>\n",
       "    <tr>\n",
       "      <th>max</th>\n",
       "      <td>8933552</td>\n",
       "      <td>40</td>\n",
       "      <td>0</td>\n",
       "      <td>40</td>\n",
       "      <td>0</td>\n",
       "      <td>2017</td>\n",
       "      <td>12</td>\n",
       "      <td>31</td>\n",
       "      <td>23</td>\n",
       "      <td>6</td>\n",
       "      <td>2001</td>\n",
       "      <td>2</td>\n",
       "      <td>1</td>\n",
       "    </tr>\n",
       "  </tbody>\n",
       "</table>\n",
       "</div>"
      ],
      "text/plain": [
       "       tripduration  start station latitude  start station longitude  \\\n",
       "count      22950465                22950465                 22950465   \n",
       "mean            808                      40                      -73   \n",
       "std            7030                       0                        0   \n",
       "min              60                       0                      -74   \n",
       "25%             360                      40                      -73   \n",
       "50%             574                      40                      -73   \n",
       "75%             933                      40                      -73   \n",
       "max         8933552                      40                        0   \n",
       "\n",
       "       end station latitude  end station longitude  start_year  start_month  \\\n",
       "count              22950465               22950465    22950465     22950465   \n",
       "mean                     40                    -73        2015            6   \n",
       "std                       0                      0           0            3   \n",
       "min                       0                    -74        2015            1   \n",
       "25%                      40                    -73        2015            4   \n",
       "50%                      40                    -73        2016            7   \n",
       "75%                      40                    -73        2016           10   \n",
       "max                      40                      0        2017           12   \n",
       "\n",
       "       start_day  start_hour  start_dayofweek  birth year    gender  usertype  \n",
       "count   22950465    22950465         22950465    22950465  22950465  22950465  \n",
       "mean          15          13                2        1977         1         0  \n",
       "std            8           4                1          11         0         0  \n",
       "min            1           0                0        1885         0         0  \n",
       "25%            8           9                1        1969         1         0  \n",
       "50%           16          14                3        1980         1         0  \n",
       "75%           23          18                4        1986         1         0  \n",
       "max           31          23                6        2001         2         1  "
      ]
     },
     "execution_count": 5,
     "metadata": {},
     "output_type": "execute_result"
    }
   ],
   "source": [
    "data.describe().astype(int)"
   ]
  },
  {
   "cell_type": "code",
   "execution_count": 6,
   "metadata": {
    "collapsed": true
   },
   "outputs": [],
   "source": [
    "# Create X and y for sklearn\n",
    "X = data[data.columns[:-1]].astype(np.float)\n",
    "y = data['usertype'].astype(np.int)"
   ]
  },
  {
   "cell_type": "code",
   "execution_count": 7,
   "metadata": {},
   "outputs": [
    {
     "data": {
      "text/plain": [
       "(22950465, 12)"
      ]
     },
     "execution_count": 7,
     "metadata": {},
     "output_type": "execute_result"
    }
   ],
   "source": [
    "X.shape"
   ]
  },
  {
   "cell_type": "code",
   "execution_count": 8,
   "metadata": {},
   "outputs": [
    {
     "data": {
      "text/plain": [
       "(22950465,)"
      ]
     },
     "execution_count": 8,
     "metadata": {},
     "output_type": "execute_result"
    }
   ],
   "source": [
    "y.shape"
   ]
  },
  {
   "cell_type": "markdown",
   "metadata": {},
   "source": [
    "# Train on undersampled set, test on regular set (multiple rounds)\n",
    "- Use noise-removed dataset from Tomek Links\n",
    "- First, split the dataset into train and test sets\n",
    "- Randomly undersample the majority on the trainset only\n",
    "- Train the classifier on undersampled set, test on the non-resampled test set"
   ]
  },
  {
   "cell_type": "code",
   "execution_count": 9,
   "metadata": {},
   "outputs": [
    {
     "name": "stdout",
     "output_type": "stream",
     "text": [
      "Average accuracy: 0.865376 +/- 0.000508 (n=5)\n",
      "Average AP Score: 0.169333 +/- 0.002651 (n=5)\n",
      "CPU times: user 4min 43s, sys: 30.7 s, total: 5min 14s\n",
      "Wall time: 3min 4s\n"
     ]
    },
    {
     "data": {
      "image/png": "[encoded data removed]",
      "text/plain": [
       "<matplotlib.figure.Figure at 0x105399438>"
      ]
     },
     "metadata": {},
     "output_type": "display_data"
    }
   ],
   "source": [
    "%%time\n",
    "\n",
    "# Set up basic parameters and data containers\n",
    "n = 5\n",
    "test_size = 0.4\n",
    "accuracies = []\n",
    "aps = []\n",
    "\n",
    "fig, (ax1, ax2) = plt.subplots(1, 2, figsize=(10, 4.5))\n",
    "\n",
    "# Split the sample first\n",
    "X_train, X_test, y_train, y_test = train_test_split(X, y, test_size=test_size)\n",
    "\n",
    "for i in range(n):\n",
    "    \n",
    "    # Undersample the majority for train set only\n",
    "    rus = RandomUnderSampler(ratio='majority')\n",
    "    X_res, y_res = rus.fit_sample(X_train, y_train)\n",
    "    \n",
    "    # Train RandomForest on Undersampled train set\n",
    "    clf = RandomForestClassifier(max_depth=40, n_jobs=4)\n",
    "    clf.fit(X_res, y_res)\n",
    "    \n",
    "    # Predict/score on X_test and y_test\n",
    "    result = msf.score_clf(clf, X_test, y_test, X_train=X_res, y_train=y_res)\n",
    "    accuracies.append(result['scores']['accuracy'])\n",
    "    aps.append(result['scores']['average_precision_score'])\n",
    "    \n",
    "    # Plot ROC curve\n",
    "    fpr = result['scores']['roc_curve'][0]\n",
    "    tpr = result['scores']['roc_curve'][1]\n",
    "    ax1.plot(fpr, tpr)\n",
    "    ax1.set_xlabel('False Positive Rate')\n",
    "    ax1.set_ylabel('True Positive Rate')\n",
    "    ax1.set_title('ROC Curve')\n",
    "    \n",
    "    # Plot Precision-Recall Curve\n",
    "    precision, recall, _ = precision_recall_curve(y_test, clf.predict_proba(X_test)[:, 1])\n",
    "\n",
    "    ax2.plot(recall, precision)\n",
    "    ax2.set_xlabel('Recall')\n",
    "    ax2.set_ylabel('Precision')\n",
    "    ax2.set_title('Precision-Recall')\n",
    "\n",
    "print('Average accuracy: %f +/- %f (n=%d)' % (np.mean(accuracies), np.std(accuracies), n))\n",
    "print('Average AP Score: %f +/- %f (n=%d)' % (np.mean(aps), np.std(aps), n))"
   ]
  },
  {
   "cell_type": "code",
   "execution_count": 10,
   "metadata": {
    "collapsed": true
   },
   "outputs": [],
   "source": [
    "# Get result from the last classifier teseted\n",
    "result = msf.score_clf2(clf, X_test, y_test)"
   ]
  },
  {
   "cell_type": "code",
   "execution_count": 11,
   "metadata": {},
   "outputs": [
    {
     "name": "stdout",
     "output_type": "stream",
     "text": [
      "==== Classifier Metrics on Test Set ====\n",
      "Accuracy: 0.866057\n",
      "Precision: 0.010502\n",
      "Recall: 0.917200\n",
      "F-Score: 0.020766\n",
      "Brier Score: 0.105763\n",
      "Average Precision Score: 0.172670\n",
      "Confusion Matrix:  [[7937522 1228449]\n",
      " [   1177   13038]]\n",
      "--------------- Feature Importances ---------------\n",
      " 1) start_month          0.386977\n",
      " 2) start_year           0.220671\n",
      " 3) start_day            0.048968\n",
      " 4) start_dayofweek      0.046907\n",
      " 5) tripduration         0.046130\n",
      " 6) start station latitude 0.043122\n",
      " 7) end station latitude 0.042423\n",
      " 8) end station longitude 0.040913\n",
      " 9) start station longitude 0.040735\n",
      "10) start_hour           0.040432\n",
      "11) birth year           0.036800\n",
      "12) gender               0.005921\n",
      "\n",
      "\n"
     ]
    }
   ],
   "source": [
    "# Print the result from the last classifier tested\n",
    "feature_labels = data.columns[:-1]\n",
    "msf.print_clf_scores2(result, trainset=False, feature_labels=feature_labels)"
   ]
  },
  {
   "cell_type": "code",
   "execution_count": null,
   "metadata": {
    "collapsed": true
   },
   "outputs": [],
   "source": []
  }
 ],
 "metadata": {
  "kernelspec": {
   "display_name": "Python 3",
   "language": "python",
   "name": "python3"
  },
  "language_info": {
   "codemirror_mode": {
    "name": "ipython",
    "version": 3
   },
   "file_extension": ".py",
   "mimetype": "text/x-python",
   "name": "python",
   "nbconvert_exporter": "python",
   "pygments_lexer": "ipython3",
   "version": "3.6.1"
  }
 },
 "nbformat": 4,
 "nbformat_minor": 2
}
