{
 "cells": [
  {
   "cell_type": "markdown",
   "metadata": {},
   "source": [
    "# Exploratory Data Analysis on the Citibike Data\n",
    "Analyze the (pre-processed) Citibike Data and examine basic ridership pattern. Following things were explored here\n",
    "- Seasonal Patterns\n",
    "- Trip Durations\n",
    "- Age Distribution of the riders\n",
    "- Gender Distribution\n",
    "- Subscribers vs non-subscribers\n",
    "- Hourly Ridership Pattern"
   ]
  },
  {
   "cell_type": "code",
   "execution_count": 1,
   "metadata": {
    "collapsed": true
   },
   "outputs": [],
   "source": [
    "import pandas as pd\n",
    "import numpy as np\n",
    "import matplotlib.pyplot as plt\n",
    "import seaborn as sns\n",
    "import scipy.stats as scs\n",
    "%matplotlib inline"
   ]
  },
  {
   "cell_type": "code",
   "execution_count": 2,
   "metadata": {
    "collapsed": true
   },
   "outputs": [],
   "source": [
    "# Method for printing the result of a normality test\n",
    "def normal_or_not(normality_test_result, siglevel=0.01):\n",
    "    if normality_test_result.pvalue >= siglevel:\n",
    "        return 'Yes'\n",
    "    else:\n",
    "        return 'No'"
   ]
  },
  {
   "cell_type": "code",
   "execution_count": 3,
   "metadata": {
    "collapsed": true
   },
   "outputs": [],
   "source": [
    "# Method for printing the result of a significance test\n",
    "def significantly_different_or_not(test_result, siglevel=0.01):\n",
    "    if test_result.pvalue >= siglevel:\n",
    "        return 'No'\n",
    "    else:\n",
    "        return 'Yes'"
   ]
  },
  {
   "cell_type": "code",
   "execution_count": 4,
   "metadata": {
    "collapsed": true
   },
   "outputs": [],
   "source": [
    "# Import two sets of data separately\n",
    "d1 = pd.read_csv('./data/processed/extended2/p_s_alltime.csv')\n",
    "d2 = pd.read_csv('./data/processed/extended2/p_ns_alltime.csv')"
   ]
  },
  {
   "cell_type": "code",
   "execution_count": 5,
   "metadata": {
    "collapsed": true
   },
   "outputs": [],
   "source": [
    "# Combined the imported data and drop a column\n",
    "daily = pd.concat([d1, d2], axis=0)\n",
    "del daily['Unnamed: 0']"
   ]
  },
  {
   "cell_type": "code",
   "execution_count": 6,
   "metadata": {
    "collapsed": true
   },
   "outputs": [],
   "source": [
    "# Create datetime-related columns\n",
    "daily['datetime'] = pd.to_datetime(daily['date'], format='%Y%m%d')\n",
    "daily['year'] = daily.datetime.dt.year\n",
    "daily['month'] = daily.datetime.dt.month\n",
    "daily['day'] = daily.datetime.dt.day\n",
    "daily['dayofweek'] = daily.datetime.dt.dayofweek"
   ]
  },
  {
   "cell_type": "markdown",
   "metadata": {},
   "source": [
    "<b>Seasonal Patterns</b>"
   ]
  },
  {
   "cell_type": "code",
   "execution_count": 7,
   "metadata": {
    "scrolled": true
   },
   "outputs": [
    {
     "data": {
      "text/html": [
       "<div>\n",
       "<style>\n",
       "    .dataframe thead tr:only-child th {\n",
       "        text-align: right;\n",
       "    }\n",
       "\n",
       "    .dataframe thead th {\n",
       "        text-align: left;\n",
       "    }\n",
       "\n",
       "    .dataframe tbody tr th {\n",
       "        vertical-align: top;\n",
       "    }\n",
       "</style>\n",
       "<table border=\"1\" class=\"dataframe\">\n",
       "  <thead>\n",
       "    <tr style=\"text-align: right;\">\n",
       "      <th></th>\n",
       "      <th></th>\n",
       "      <th>date</th>\n",
       "      <th>pickups</th>\n",
       "      <th>st_id</th>\n",
       "      <th>datetime</th>\n",
       "      <th>day</th>\n",
       "      <th>dayofweek</th>\n",
       "    </tr>\n",
       "    <tr>\n",
       "      <th>year</th>\n",
       "      <th>month</th>\n",
       "      <th></th>\n",
       "      <th></th>\n",
       "      <th></th>\n",
       "      <th></th>\n",
       "      <th></th>\n",
       "      <th></th>\n",
       "    </tr>\n",
       "  </thead>\n",
       "  <tbody>\n",
       "    <tr>\n",
       "      <th rowspan=\"6\" valign=\"top\">2013</th>\n",
       "      <th>7</th>\n",
       "      <td>19828</td>\n",
       "      <td>19828</td>\n",
       "      <td>19828</td>\n",
       "      <td>19828</td>\n",
       "      <td>19828</td>\n",
       "      <td>19828</td>\n",
       "    </tr>\n",
       "    <tr>\n",
       "      <th>8</th>\n",
       "      <td>19303</td>\n",
       "      <td>19303</td>\n",
       "      <td>19303</td>\n",
       "      <td>19303</td>\n",
       "      <td>19303</td>\n",
       "      <td>19303</td>\n",
       "    </tr>\n",
       "    <tr>\n",
       "      <th>9</th>\n",
       "      <td>18817</td>\n",
       "      <td>18817</td>\n",
       "      <td>18817</td>\n",
       "      <td>18817</td>\n",
       "      <td>18817</td>\n",
       "      <td>18817</td>\n",
       "    </tr>\n",
       "    <tr>\n",
       "      <th>10</th>\n",
       "      <td>18915</td>\n",
       "      <td>18915</td>\n",
       "      <td>18915</td>\n",
       "      <td>18915</td>\n",
       "      <td>18915</td>\n",
       "      <td>18915</td>\n",
       "    </tr>\n",
       "    <tr>\n",
       "      <th>11</th>\n",
       "      <td>17033</td>\n",
       "      <td>17033</td>\n",
       "      <td>17033</td>\n",
       "      <td>17033</td>\n",
       "      <td>17033</td>\n",
       "      <td>17033</td>\n",
       "    </tr>\n",
       "    <tr>\n",
       "      <th>12</th>\n",
       "      <td>15490</td>\n",
       "      <td>15490</td>\n",
       "      <td>15490</td>\n",
       "      <td>15490</td>\n",
       "      <td>15490</td>\n",
       "      <td>15490</td>\n",
       "    </tr>\n",
       "    <tr>\n",
       "      <th rowspan=\"12\" valign=\"top\">2014</th>\n",
       "      <th>1</th>\n",
       "      <td>12848</td>\n",
       "      <td>12848</td>\n",
       "      <td>12848</td>\n",
       "      <td>12848</td>\n",
       "      <td>12848</td>\n",
       "      <td>12848</td>\n",
       "    </tr>\n",
       "    <tr>\n",
       "      <th>2</th>\n",
       "      <td>11095</td>\n",
       "      <td>11095</td>\n",
       "      <td>11095</td>\n",
       "      <td>11095</td>\n",
       "      <td>11095</td>\n",
       "      <td>11095</td>\n",
       "    </tr>\n",
       "    <tr>\n",
       "      <th>3</th>\n",
       "      <td>15687</td>\n",
       "      <td>15687</td>\n",
       "      <td>15687</td>\n",
       "      <td>15687</td>\n",
       "      <td>15687</td>\n",
       "      <td>15687</td>\n",
       "    </tr>\n",
       "    <tr>\n",
       "      <th>4</th>\n",
       "      <td>16955</td>\n",
       "      <td>16955</td>\n",
       "      <td>16955</td>\n",
       "      <td>16955</td>\n",
       "      <td>16955</td>\n",
       "      <td>16955</td>\n",
       "    </tr>\n",
       "    <tr>\n",
       "      <th>5</th>\n",
       "      <td>18842</td>\n",
       "      <td>18842</td>\n",
       "      <td>18842</td>\n",
       "      <td>18842</td>\n",
       "      <td>18842</td>\n",
       "      <td>18842</td>\n",
       "    </tr>\n",
       "    <tr>\n",
       "      <th>6</th>\n",
       "      <td>18591</td>\n",
       "      <td>18591</td>\n",
       "      <td>18591</td>\n",
       "      <td>18591</td>\n",
       "      <td>18591</td>\n",
       "      <td>18591</td>\n",
       "    </tr>\n",
       "    <tr>\n",
       "      <th>7</th>\n",
       "      <td>19224</td>\n",
       "      <td>19224</td>\n",
       "      <td>19224</td>\n",
       "      <td>19224</td>\n",
       "      <td>19224</td>\n",
       "      <td>19224</td>\n",
       "    </tr>\n",
       "    <tr>\n",
       "      <th>8</th>\n",
       "      <td>19303</td>\n",
       "      <td>19303</td>\n",
       "      <td>19303</td>\n",
       "      <td>19303</td>\n",
       "      <td>19303</td>\n",
       "      <td>19303</td>\n",
       "    </tr>\n",
       "    <tr>\n",
       "      <th>9</th>\n",
       "      <td>18531</td>\n",
       "      <td>18531</td>\n",
       "      <td>18531</td>\n",
       "      <td>18531</td>\n",
       "      <td>18531</td>\n",
       "      <td>18531</td>\n",
       "    </tr>\n",
       "    <tr>\n",
       "      <th>10</th>\n",
       "      <td>18473</td>\n",
       "      <td>18473</td>\n",
       "      <td>18473</td>\n",
       "      <td>18473</td>\n",
       "      <td>18473</td>\n",
       "      <td>18473</td>\n",
       "    </tr>\n",
       "    <tr>\n",
       "      <th>11</th>\n",
       "      <td>15984</td>\n",
       "      <td>15984</td>\n",
       "      <td>15984</td>\n",
       "      <td>15984</td>\n",
       "      <td>15984</td>\n",
       "      <td>15984</td>\n",
       "    </tr>\n",
       "    <tr>\n",
       "      <th>12</th>\n",
       "      <td>15070</td>\n",
       "      <td>15070</td>\n",
       "      <td>15070</td>\n",
       "      <td>15070</td>\n",
       "      <td>15070</td>\n",
       "      <td>15070</td>\n",
       "    </tr>\n",
       "    <tr>\n",
       "      <th rowspan=\"12\" valign=\"top\">2015</th>\n",
       "      <th>1</th>\n",
       "      <td>12609</td>\n",
       "      <td>12609</td>\n",
       "      <td>12609</td>\n",
       "      <td>12609</td>\n",
       "      <td>12609</td>\n",
       "      <td>12609</td>\n",
       "    </tr>\n",
       "    <tr>\n",
       "      <th>2</th>\n",
       "      <td>10378</td>\n",
       "      <td>10378</td>\n",
       "      <td>10378</td>\n",
       "      <td>10378</td>\n",
       "      <td>10378</td>\n",
       "      <td>10378</td>\n",
       "    </tr>\n",
       "    <tr>\n",
       "      <th>3</th>\n",
       "      <td>14314</td>\n",
       "      <td>14314</td>\n",
       "      <td>14314</td>\n",
       "      <td>14314</td>\n",
       "      <td>14314</td>\n",
       "      <td>14314</td>\n",
       "    </tr>\n",
       "    <tr>\n",
       "      <th>4</th>\n",
       "      <td>17483</td>\n",
       "      <td>17483</td>\n",
       "      <td>17483</td>\n",
       "      <td>17483</td>\n",
       "      <td>17483</td>\n",
       "      <td>17483</td>\n",
       "    </tr>\n",
       "    <tr>\n",
       "      <th>5</th>\n",
       "      <td>19380</td>\n",
       "      <td>19380</td>\n",
       "      <td>19380</td>\n",
       "      <td>19380</td>\n",
       "      <td>19380</td>\n",
       "      <td>19380</td>\n",
       "    </tr>\n",
       "    <tr>\n",
       "      <th>6</th>\n",
       "      <td>18651</td>\n",
       "      <td>18651</td>\n",
       "      <td>18651</td>\n",
       "      <td>18651</td>\n",
       "      <td>18651</td>\n",
       "      <td>18651</td>\n",
       "    </tr>\n",
       "    <tr>\n",
       "      <th>7</th>\n",
       "      <td>19780</td>\n",
       "      <td>19780</td>\n",
       "      <td>19780</td>\n",
       "      <td>19780</td>\n",
       "      <td>19780</td>\n",
       "      <td>19780</td>\n",
       "    </tr>\n",
       "    <tr>\n",
       "      <th>8</th>\n",
       "      <td>21929</td>\n",
       "      <td>21929</td>\n",
       "      <td>21929</td>\n",
       "      <td>21929</td>\n",
       "      <td>21929</td>\n",
       "      <td>21929</td>\n",
       "    </tr>\n",
       "    <tr>\n",
       "      <th>9</th>\n",
       "      <td>25049</td>\n",
       "      <td>25049</td>\n",
       "      <td>25049</td>\n",
       "      <td>25049</td>\n",
       "      <td>25049</td>\n",
       "      <td>25049</td>\n",
       "    </tr>\n",
       "    <tr>\n",
       "      <th>10</th>\n",
       "      <td>26054</td>\n",
       "      <td>26054</td>\n",
       "      <td>26054</td>\n",
       "      <td>26054</td>\n",
       "      <td>26054</td>\n",
       "      <td>26054</td>\n",
       "    </tr>\n",
       "    <tr>\n",
       "      <th>11</th>\n",
       "      <td>25110</td>\n",
       "      <td>25110</td>\n",
       "      <td>25110</td>\n",
       "      <td>25110</td>\n",
       "      <td>25110</td>\n",
       "      <td>25110</td>\n",
       "    </tr>\n",
       "    <tr>\n",
       "      <th>12</th>\n",
       "      <td>24694</td>\n",
       "      <td>24694</td>\n",
       "      <td>24694</td>\n",
       "      <td>24694</td>\n",
       "      <td>24694</td>\n",
       "      <td>24694</td>\n",
       "    </tr>\n",
       "    <tr>\n",
       "      <th rowspan=\"12\" valign=\"top\">2016</th>\n",
       "      <th>1</th>\n",
       "      <td>18597</td>\n",
       "      <td>18597</td>\n",
       "      <td>18597</td>\n",
       "      <td>18597</td>\n",
       "      <td>18597</td>\n",
       "      <td>18597</td>\n",
       "    </tr>\n",
       "    <tr>\n",
       "      <th>2</th>\n",
       "      <td>20092</td>\n",
       "      <td>20092</td>\n",
       "      <td>20092</td>\n",
       "      <td>20092</td>\n",
       "      <td>20092</td>\n",
       "      <td>20092</td>\n",
       "    </tr>\n",
       "    <tr>\n",
       "      <th>3</th>\n",
       "      <td>25693</td>\n",
       "      <td>25693</td>\n",
       "      <td>25693</td>\n",
       "      <td>25693</td>\n",
       "      <td>25693</td>\n",
       "      <td>25693</td>\n",
       "    </tr>\n",
       "    <tr>\n",
       "      <th>4</th>\n",
       "      <td>25414</td>\n",
       "      <td>25414</td>\n",
       "      <td>25414</td>\n",
       "      <td>25414</td>\n",
       "      <td>25414</td>\n",
       "      <td>25414</td>\n",
       "    </tr>\n",
       "    <tr>\n",
       "      <th>5</th>\n",
       "      <td>26887</td>\n",
       "      <td>26887</td>\n",
       "      <td>26887</td>\n",
       "      <td>26887</td>\n",
       "      <td>26887</td>\n",
       "      <td>26887</td>\n",
       "    </tr>\n",
       "    <tr>\n",
       "      <th>6</th>\n",
       "      <td>26118</td>\n",
       "      <td>26118</td>\n",
       "      <td>26118</td>\n",
       "      <td>26118</td>\n",
       "      <td>26118</td>\n",
       "      <td>26118</td>\n",
       "    </tr>\n",
       "    <tr>\n",
       "      <th>7</th>\n",
       "      <td>27732</td>\n",
       "      <td>27732</td>\n",
       "      <td>27732</td>\n",
       "      <td>27732</td>\n",
       "      <td>27732</td>\n",
       "      <td>27732</td>\n",
       "    </tr>\n",
       "    <tr>\n",
       "      <th>8</th>\n",
       "      <td>30325</td>\n",
       "      <td>30325</td>\n",
       "      <td>30325</td>\n",
       "      <td>30325</td>\n",
       "      <td>30325</td>\n",
       "      <td>30325</td>\n",
       "    </tr>\n",
       "    <tr>\n",
       "      <th>9</th>\n",
       "      <td>32457</td>\n",
       "      <td>32457</td>\n",
       "      <td>32457</td>\n",
       "      <td>32457</td>\n",
       "      <td>32457</td>\n",
       "      <td>32457</td>\n",
       "    </tr>\n",
       "    <tr>\n",
       "      <th>10</th>\n",
       "      <td>32936</td>\n",
       "      <td>32936</td>\n",
       "      <td>32936</td>\n",
       "      <td>32936</td>\n",
       "      <td>32936</td>\n",
       "      <td>32936</td>\n",
       "    </tr>\n",
       "    <tr>\n",
       "      <th>11</th>\n",
       "      <td>29166</td>\n",
       "      <td>29166</td>\n",
       "      <td>29166</td>\n",
       "      <td>29166</td>\n",
       "      <td>29166</td>\n",
       "      <td>29166</td>\n",
       "    </tr>\n",
       "    <tr>\n",
       "      <th>12</th>\n",
       "      <td>26590</td>\n",
       "      <td>26590</td>\n",
       "      <td>26590</td>\n",
       "      <td>26590</td>\n",
       "      <td>26590</td>\n",
       "      <td>26590</td>\n",
       "    </tr>\n",
       "    <tr>\n",
       "      <th rowspan=\"3\" valign=\"top\">2017</th>\n",
       "      <th>1</th>\n",
       "      <td>25048</td>\n",
       "      <td>25048</td>\n",
       "      <td>25048</td>\n",
       "      <td>25048</td>\n",
       "      <td>25048</td>\n",
       "      <td>25048</td>\n",
       "    </tr>\n",
       "    <tr>\n",
       "      <th>2</th>\n",
       "      <td>23137</td>\n",
       "      <td>23137</td>\n",
       "      <td>23137</td>\n",
       "      <td>23137</td>\n",
       "      <td>23137</td>\n",
       "      <td>23137</td>\n",
       "    </tr>\n",
       "    <tr>\n",
       "      <th>3</th>\n",
       "      <td>22747</td>\n",
       "      <td>22747</td>\n",
       "      <td>22747</td>\n",
       "      <td>22747</td>\n",
       "      <td>22747</td>\n",
       "      <td>22747</td>\n",
       "    </tr>\n",
       "  </tbody>\n",
       "</table>\n",
       "</div>"
      ],
      "text/plain": [
       "             date  pickups  st_id  datetime    day  dayofweek\n",
       "year month                                                   \n",
       "2013 7      19828    19828  19828     19828  19828      19828\n",
       "     8      19303    19303  19303     19303  19303      19303\n",
       "     9      18817    18817  18817     18817  18817      18817\n",
       "     10     18915    18915  18915     18915  18915      18915\n",
       "     11     17033    17033  17033     17033  17033      17033\n",
       "     12     15490    15490  15490     15490  15490      15490\n",
       "2014 1      12848    12848  12848     12848  12848      12848\n",
       "     2      11095    11095  11095     11095  11095      11095\n",
       "     3      15687    15687  15687     15687  15687      15687\n",
       "     4      16955    16955  16955     16955  16955      16955\n",
       "     5      18842    18842  18842     18842  18842      18842\n",
       "     6      18591    18591  18591     18591  18591      18591\n",
       "     7      19224    19224  19224     19224  19224      19224\n",
       "     8      19303    19303  19303     19303  19303      19303\n",
       "     9      18531    18531  18531     18531  18531      18531\n",
       "     10     18473    18473  18473     18473  18473      18473\n",
       "     11     15984    15984  15984     15984  15984      15984\n",
       "     12     15070    15070  15070     15070  15070      15070\n",
       "2015 1      12609    12609  12609     12609  12609      12609\n",
       "     2      10378    10378  10378     10378  10378      10378\n",
       "     3      14314    14314  14314     14314  14314      14314\n",
       "     4      17483    17483  17483     17483  17483      17483\n",
       "     5      19380    19380  19380     19380  19380      19380\n",
       "     6      18651    18651  18651     18651  18651      18651\n",
       "     7      19780    19780  19780     19780  19780      19780\n",
       "     8      21929    21929  21929     21929  21929      21929\n",
       "     9      25049    25049  25049     25049  25049      25049\n",
       "     10     26054    26054  26054     26054  26054      26054\n",
       "     11     25110    25110  25110     25110  25110      25110\n",
       "     12     24694    24694  24694     24694  24694      24694\n",
       "2016 1      18597    18597  18597     18597  18597      18597\n",
       "     2      20092    20092  20092     20092  20092      20092\n",
       "     3      25693    25693  25693     25693  25693      25693\n",
       "     4      25414    25414  25414     25414  25414      25414\n",
       "     5      26887    26887  26887     26887  26887      26887\n",
       "     6      26118    26118  26118     26118  26118      26118\n",
       "     7      27732    27732  27732     27732  27732      27732\n",
       "     8      30325    30325  30325     30325  30325      30325\n",
       "     9      32457    32457  32457     32457  32457      32457\n",
       "     10     32936    32936  32936     32936  32936      32936\n",
       "     11     29166    29166  29166     29166  29166      29166\n",
       "     12     26590    26590  26590     26590  26590      26590\n",
       "2017 1      25048    25048  25048     25048  25048      25048\n",
       "     2      23137    23137  23137     23137  23137      23137\n",
       "     3      22747    22747  22747     22747  22747      22747"
      ]
     },
     "execution_count": 7,
     "metadata": {},
     "output_type": "execute_result"
    }
   ],
   "source": [
    "# Group the data by year and month\n",
    "daily.groupby(['year', 'month']).count()"
   ]
  },
  {
   "cell_type": "code",
   "execution_count": 8,
   "metadata": {},
   "outputs": [
    {
     "data": {
      "image/png": "[encoded data removed]",
      "text/plain": [
       "<matplotlib.figure.Figure at 0x104927c50>"
      ]
     },
     "metadata": {},
     "output_type": "display_data"
    }
   ],
   "source": [
    "# Plot the monthly usage since the inception\n",
    "usage_by_month = daily.groupby(['year', 'month']).count()\n",
    "plt.figure(figsize=(16, 7))\n",
    "ax = usage_by_month['pickups'].plot(kind='bar')\n",
    "ax.set_xlabel('Year, Month', fontsize=16)\n",
    "ax.set_ylabel('Number of Rides', fontsize=16)\n",
    "ax.set_title('Monthly Ridership since July 2013', fontsize=18)\n",
    "for tick in ax.xaxis.get_major_ticks():\n",
    "    tick.label.set_fontsize(14)\n",
    "for tick in ax.yaxis.get_major_ticks():\n",
    "    tick.label.set_fontsize(14)"
   ]
  },
  {
   "cell_type": "code",
   "execution_count": 9,
   "metadata": {},
   "outputs": [
    {
     "data": {
      "image/png": "[encoded data removed]",
      "text/plain": [
       "<matplotlib.figure.Figure at 0x1049b9518>"
      ]
     },
     "metadata": {},
     "output_type": "display_data"
    }
   ],
   "source": [
    "# Same plot as above but with a different grouping of bars\n",
    "usage_by_month2 = daily.groupby(['year', 'month']).count()['pickups'].unstack('year')\n",
    "\n",
    "sns.set_style(\"darkgrid\")\n",
    "ax2 = usage_by_month2.plot(kind='bar', figsize=(12,6), width=0.8)# colormap='Set3')\n",
    "ax2.legend(loc='upper left', fontsize=14)\n",
    "ax2.set_xlabel('Month', fontsize=16)\n",
    "ax2.set_ylabel('Number of Rides', fontsize=16)\n",
    "ax2.set_title('Monthly Ridership Over the Years', fontsize=18)\n",
    "ax2.set_ylim([0, 38000])\n",
    "for tick in ax2.xaxis.get_major_ticks():\n",
    "    tick.label.set_fontsize(14)\n",
    "for tick in ax2.yaxis.get_major_ticks():\n",
    "    tick.label.set_fontsize(14)"
   ]
  },
  {
   "cell_type": "markdown",
   "metadata": {},
   "source": [
    "<b>Overall Trip Durations</b>"
   ]
  },
  {
   "cell_type": "code",
   "execution_count": 10,
   "metadata": {},
   "outputs": [
    {
     "name": "stderr",
     "output_type": "stream",
     "text": [
      "/Library/Frameworks/Python.framework/Versions/3.6/lib/python3.6/site-packages/IPython/core/interactiveshell.py:2698: DtypeWarning: Columns (10) have mixed types. Specify dtype option on import or set low_memory=False.\n",
      "  interactivity=interactivity, compiler=compiler, result=result)\n"
     ]
    }
   ],
   "source": [
    "# Read in another set of data for trip duration analysis\n",
    "d2013 = pd.read_csv('./data/for_predictions/2013_membership_pred.csv')\n",
    "d2013 = d2013[['tripduration', 'birth year', 'gender', 'usertype', 'start_year', 'start_month', 'start_day', 'start_dayofweek', 'start_hour']]\n",
    "\n",
    "d2014 = pd.read_csv('./data/for_predictions/2014_membership_pred.csv')\n",
    "d2014 = d2014[['tripduration', 'birth year', 'gender', 'usertype', 'start_year', 'start_month', 'start_day', 'start_dayofweek', 'start_hour']]\n",
    "\n",
    "d2015 = pd.read_csv('./data/for_predictions/2015_membership_pred.csv')\n",
    "d2015 = d2015[['tripduration', 'birth year', 'gender', 'usertype', 'start_year', 'start_month', 'start_day', 'start_dayofweek', 'start_hour']]\n",
    "\n",
    "d2016 = pd.read_csv('./data/for_predictions/2016_membership_pred.csv')\n",
    "d2016 = d2016[['tripduration', 'birth year', 'gender', 'usertype', 'start_year', 'start_month', 'start_day', 'start_dayofweek', 'start_hour']]\n",
    "\n",
    "d2017 = pd.read_csv('./data/for_predictions/2017_membership_pred.csv')\n",
    "d2017 = d2017[['tripduration', 'birth year', 'gender', 'usertype', 'start_year', 'start_month', 'start_day', 'start_dayofweek', 'start_hour']]"
   ]
  },
  {
   "cell_type": "code",
   "execution_count": 11,
   "metadata": {
    "collapsed": true
   },
   "outputs": [],
   "source": [
    "# Combine data\n",
    "data = pd.concat([d2013, d2014, d2015, d2016, d2017], axis=0)"
   ]
  },
  {
   "cell_type": "code",
   "execution_count": 12,
   "metadata": {
    "collapsed": true
   },
   "outputs": [],
   "source": [
    "# Convert Trip duration to minutes\n",
    "data['tripduration'] /= 60"
   ]
  },
  {
   "cell_type": "code",
   "execution_count": 13,
   "metadata": {},
   "outputs": [
    {
     "data": {
      "text/html": [
       "<div>\n",
       "<style>\n",
       "    .dataframe thead tr:only-child th {\n",
       "        text-align: right;\n",
       "    }\n",
       "\n",
       "    .dataframe thead th {\n",
       "        text-align: left;\n",
       "    }\n",
       "\n",
       "    .dataframe tbody tr th {\n",
       "        vertical-align: top;\n",
       "    }\n",
       "</style>\n",
       "<table border=\"1\" class=\"dataframe\">\n",
       "  <thead>\n",
       "    <tr style=\"text-align: right;\">\n",
       "      <th></th>\n",
       "      <th>tripduration</th>\n",
       "      <th>birth year</th>\n",
       "      <th>gender</th>\n",
       "      <th>usertype</th>\n",
       "      <th>start_year</th>\n",
       "      <th>start_month</th>\n",
       "      <th>start_day</th>\n",
       "      <th>start_dayofweek</th>\n",
       "      <th>start_hour</th>\n",
       "    </tr>\n",
       "  </thead>\n",
       "  <tbody>\n",
       "    <tr>\n",
       "      <th>0</th>\n",
       "      <td>10.566667</td>\n",
       "      <td>\\N</td>\n",
       "      <td>0</td>\n",
       "      <td>Customer</td>\n",
       "      <td>2013</td>\n",
       "      <td>7</td>\n",
       "      <td>1</td>\n",
       "      <td>0</td>\n",
       "      <td>0</td>\n",
       "    </tr>\n",
       "    <tr>\n",
       "      <th>1</th>\n",
       "      <td>25.783333</td>\n",
       "      <td>\\N</td>\n",
       "      <td>0</td>\n",
       "      <td>Customer</td>\n",
       "      <td>2013</td>\n",
       "      <td>7</td>\n",
       "      <td>1</td>\n",
       "      <td>0</td>\n",
       "      <td>0</td>\n",
       "    </tr>\n",
       "    <tr>\n",
       "      <th>2</th>\n",
       "      <td>2.966667</td>\n",
       "      <td>1980</td>\n",
       "      <td>2</td>\n",
       "      <td>Subscriber</td>\n",
       "      <td>2013</td>\n",
       "      <td>7</td>\n",
       "      <td>1</td>\n",
       "      <td>0</td>\n",
       "      <td>0</td>\n",
       "    </tr>\n",
       "    <tr>\n",
       "      <th>3</th>\n",
       "      <td>26.333333</td>\n",
       "      <td>\\N</td>\n",
       "      <td>0</td>\n",
       "      <td>Customer</td>\n",
       "      <td>2013</td>\n",
       "      <td>7</td>\n",
       "      <td>1</td>\n",
       "      <td>0</td>\n",
       "      <td>0</td>\n",
       "    </tr>\n",
       "    <tr>\n",
       "      <th>4</th>\n",
       "      <td>12.616667</td>\n",
       "      <td>1986</td>\n",
       "      <td>1</td>\n",
       "      <td>Subscriber</td>\n",
       "      <td>2013</td>\n",
       "      <td>7</td>\n",
       "      <td>1</td>\n",
       "      <td>0</td>\n",
       "      <td>0</td>\n",
       "    </tr>\n",
       "  </tbody>\n",
       "</table>\n",
       "</div>"
      ],
      "text/plain": [
       "   tripduration birth year  gender    usertype  start_year  start_month  \\\n",
       "0     10.566667         \\N       0    Customer        2013            7   \n",
       "1     25.783333         \\N       0    Customer        2013            7   \n",
       "2      2.966667       1980       2  Subscriber        2013            7   \n",
       "3     26.333333         \\N       0    Customer        2013            7   \n",
       "4     12.616667       1986       1  Subscriber        2013            7   \n",
       "\n",
       "   start_day  start_dayofweek  start_hour  \n",
       "0          1                0           0  \n",
       "1          1                0           0  \n",
       "2          1                0           0  \n",
       "3          1                0           0  \n",
       "4          1                0           0  "
      ]
     },
     "execution_count": 13,
     "metadata": {},
     "output_type": "execute_result"
    }
   ],
   "source": [
    "data.head()"
   ]
  },
  {
   "cell_type": "code",
   "execution_count": 14,
   "metadata": {},
   "outputs": [
    {
     "data": {
      "text/html": [
       "<div>\n",
       "<style>\n",
       "    .dataframe thead tr:only-child th {\n",
       "        text-align: right;\n",
       "    }\n",
       "\n",
       "    .dataframe thead th {\n",
       "        text-align: left;\n",
       "    }\n",
       "\n",
       "    .dataframe tbody tr th {\n",
       "        vertical-align: top;\n",
       "    }\n",
       "</style>\n",
       "<table border=\"1\" class=\"dataframe\">\n",
       "  <thead>\n",
       "    <tr style=\"text-align: right;\">\n",
       "      <th></th>\n",
       "      <th>tripduration</th>\n",
       "      <th>gender</th>\n",
       "      <th>start_year</th>\n",
       "      <th>start_month</th>\n",
       "      <th>start_day</th>\n",
       "      <th>start_dayofweek</th>\n",
       "      <th>start_hour</th>\n",
       "    </tr>\n",
       "  </thead>\n",
       "  <tbody>\n",
       "    <tr>\n",
       "      <th>count</th>\n",
       "      <td>35873893</td>\n",
       "      <td>35873893</td>\n",
       "      <td>35873893</td>\n",
       "      <td>35873893</td>\n",
       "      <td>35873893</td>\n",
       "      <td>35873893</td>\n",
       "      <td>35873893</td>\n",
       "    </tr>\n",
       "    <tr>\n",
       "      <th>mean</th>\n",
       "      <td>13</td>\n",
       "      <td>1</td>\n",
       "      <td>2014</td>\n",
       "      <td>7</td>\n",
       "      <td>15</td>\n",
       "      <td>2</td>\n",
       "      <td>13</td>\n",
       "    </tr>\n",
       "    <tr>\n",
       "      <th>std</th>\n",
       "      <td>100</td>\n",
       "      <td>0</td>\n",
       "      <td>1</td>\n",
       "      <td>3</td>\n",
       "      <td>8</td>\n",
       "      <td>1</td>\n",
       "      <td>4</td>\n",
       "    </tr>\n",
       "    <tr>\n",
       "      <th>min</th>\n",
       "      <td>1</td>\n",
       "      <td>0</td>\n",
       "      <td>2013</td>\n",
       "      <td>1</td>\n",
       "      <td>1</td>\n",
       "      <td>0</td>\n",
       "      <td>0</td>\n",
       "    </tr>\n",
       "    <tr>\n",
       "      <th>25%</th>\n",
       "      <td>6</td>\n",
       "      <td>1</td>\n",
       "      <td>2014</td>\n",
       "      <td>5</td>\n",
       "      <td>8</td>\n",
       "      <td>1</td>\n",
       "      <td>10</td>\n",
       "    </tr>\n",
       "    <tr>\n",
       "      <th>50%</th>\n",
       "      <td>9</td>\n",
       "      <td>1</td>\n",
       "      <td>2015</td>\n",
       "      <td>8</td>\n",
       "      <td>16</td>\n",
       "      <td>3</td>\n",
       "      <td>15</td>\n",
       "    </tr>\n",
       "    <tr>\n",
       "      <th>75%</th>\n",
       "      <td>16</td>\n",
       "      <td>1</td>\n",
       "      <td>2016</td>\n",
       "      <td>10</td>\n",
       "      <td>23</td>\n",
       "      <td>4</td>\n",
       "      <td>18</td>\n",
       "    </tr>\n",
       "    <tr>\n",
       "      <th>95%</th>\n",
       "      <td>30</td>\n",
       "      <td>2</td>\n",
       "      <td>2017</td>\n",
       "      <td>12</td>\n",
       "      <td>29</td>\n",
       "      <td>6</td>\n",
       "      <td>21</td>\n",
       "    </tr>\n",
       "    <tr>\n",
       "      <th>99%</th>\n",
       "      <td>46</td>\n",
       "      <td>2</td>\n",
       "      <td>2017</td>\n",
       "      <td>12</td>\n",
       "      <td>31</td>\n",
       "      <td>6</td>\n",
       "      <td>23</td>\n",
       "    </tr>\n",
       "    <tr>\n",
       "      <th>99.9%</th>\n",
       "      <td>238</td>\n",
       "      <td>2</td>\n",
       "      <td>2017</td>\n",
       "      <td>12</td>\n",
       "      <td>31</td>\n",
       "      <td>6</td>\n",
       "      <td>23</td>\n",
       "    </tr>\n",
       "    <tr>\n",
       "      <th>99.99%</th>\n",
       "      <td>1663</td>\n",
       "      <td>2</td>\n",
       "      <td>2017</td>\n",
       "      <td>12</td>\n",
       "      <td>31</td>\n",
       "      <td>6</td>\n",
       "      <td>23</td>\n",
       "    </tr>\n",
       "    <tr>\n",
       "      <th>max</th>\n",
       "      <td>148892</td>\n",
       "      <td>2</td>\n",
       "      <td>2017</td>\n",
       "      <td>12</td>\n",
       "      <td>31</td>\n",
       "      <td>6</td>\n",
       "      <td>23</td>\n",
       "    </tr>\n",
       "  </tbody>\n",
       "</table>\n",
       "</div>"
      ],
      "text/plain": [
       "        tripduration    gender  start_year  start_month  start_day  \\\n",
       "count       35873893  35873893    35873893     35873893   35873893   \n",
       "mean              13         1        2014            7         15   \n",
       "std              100         0           1            3          8   \n",
       "min                1         0        2013            1          1   \n",
       "25%                6         1        2014            5          8   \n",
       "50%                9         1        2015            8         16   \n",
       "75%               16         1        2016           10         23   \n",
       "95%               30         2        2017           12         29   \n",
       "99%               46         2        2017           12         31   \n",
       "99.9%            238         2        2017           12         31   \n",
       "99.99%          1663         2        2017           12         31   \n",
       "max           148892         2        2017           12         31   \n",
       "\n",
       "        start_dayofweek  start_hour  \n",
       "count          35873893    35873893  \n",
       "mean                  2          13  \n",
       "std                   1           4  \n",
       "min                   0           0  \n",
       "25%                   1          10  \n",
       "50%                   3          15  \n",
       "75%                   4          18  \n",
       "95%                   6          21  \n",
       "99%                   6          23  \n",
       "99.9%                 6          23  \n",
       "99.99%                6          23  \n",
       "max                   6          23  "
      ]
     },
     "execution_count": 14,
     "metadata": {},
     "output_type": "execute_result"
    }
   ],
   "source": [
    "data.describe(percentiles=[0.25, 0.5, 0.75, 0.95, 0.99, 0.999, 0.9999]).astype(int)"
   ]
  },
  {
   "cell_type": "code",
   "execution_count": 15,
   "metadata": {},
   "outputs": [
    {
     "name": "stdout",
     "output_type": "stream",
     "text": [
      "CPU times: user 6min 39s, sys: 6.04 s, total: 6min 45s\n",
      "Wall time: 6min 45s\n"
     ]
    },
    {
     "data": {
      "image/png": "[encoded data removed]",
      "text/plain": [
       "<matplotlib.figure.Figure at 0x1f289b4e0>"
      ]
     },
     "metadata": {},
     "output_type": "display_data"
    }
   ],
   "source": [
    "%%time\n",
    "# Plot frequency distribution of trip duration\n",
    "# Based on the above, remove any entry with duration more than 2hours. This would easily cover 99% of the rides\n",
    "duration = data[data.tripduration <= 2* 60]['tripduration']\n",
    "ax3 = duration.plot(kind='hist', bins=120, figsize=(8,8))\n",
    "ax3.set_title('Distribution of Trip Duration', fontsize=18)\n",
    "ax3.set_xlabel('Trip Duration (minutes)', fontsize=16)\n",
    "ax3.set_ylabel('Number of rides', fontsize=16)\n",
    "for tick in ax3.xaxis.get_major_ticks():\n",
    "    tick.label.set_fontsize(14)\n",
    "for tick in ax3.yaxis.get_major_ticks():\n",
    "    tick.label.set_fontsize(14)"
   ]
  },
  {
   "cell_type": "code",
   "execution_count": 16,
   "metadata": {},
   "outputs": [
    {
     "data": {
      "image/png": "[encoded data removed]",
      "text/plain": [
       "<matplotlib.figure.Figure at 0x1f2907a58>"
      ]
     },
     "metadata": {},
     "output_type": "display_data"
    }
   ],
   "source": [
    "# Boxplot the same thing\n",
    "ax3_1 = duration.plot(kind='box', figsize=(4,8))\n",
    "ax3_1.set_title('Distribution of Trip Duration', fontsize=18)\n",
    "ax3_1.set_xlabel('Trip Duration (minutes)', fontsize=16)\n",
    "ax3_1.set_ylabel('Number of rides', fontsize=16)\n",
    "ax3_1.set_ylim([-5, 40])\n",
    "for tick in ax3_1.xaxis.get_major_ticks():\n",
    "    tick.label.set_fontsize(14)\n",
    "for tick in ax3_1.yaxis.get_major_ticks():\n",
    "    tick.label.set_fontsize(14)"
   ]
  },
  {
   "cell_type": "code",
   "execution_count": 17,
   "metadata": {},
   "outputs": [
    {
     "name": "stdout",
     "output_type": "stream",
     "text": [
      "----- Test for normality for trip duration distribution -----\n",
      "Is the trip duration normally distributed?: No (p-value=0.000000)\n"
     ]
    }
   ],
   "source": [
    "# Normality test here\n",
    "duration_normaltest_ressult = scs.normaltest(duration)\n",
    "\n",
    "print('----- Test for normality for trip duration distribution -----')\n",
    "print('Is the trip duration normally distributed?: %s (p-value=%f)'\\\n",
    "      % (normal_or_not(duration_normaltest_ressult), duration_normaltest_ressult.pvalue))"
   ]
  },
  {
   "cell_type": "code",
   "execution_count": null,
   "metadata": {
    "collapsed": true
   },
   "outputs": [],
   "source": []
  },
  {
   "cell_type": "markdown",
   "metadata": {},
   "source": [
    "<b>Age Distributions</b>"
   ]
  },
  {
   "cell_type": "code",
   "execution_count": 18,
   "metadata": {
    "collapsed": true
   },
   "outputs": [],
   "source": [
    "# Drop entries with invalid 'birth year' field\n",
    "age = data[data['birth year'] != '\\\\N']"
   ]
  },
  {
   "cell_type": "code",
   "execution_count": 19,
   "metadata": {},
   "outputs": [
    {
     "name": "stderr",
     "output_type": "stream",
     "text": [
      "/Library/Frameworks/Python.framework/Versions/3.6/lib/python3.6/site-packages/ipykernel_launcher.py:1: SettingWithCopyWarning: \n",
      "A value is trying to be set on a copy of a slice from a DataFrame.\n",
      "Try using .loc[row_indexer,col_indexer] = value instead\n",
      "\n",
      "See the caveats in the documentation: http://pandas.pydata.org/pandas-docs/stable/indexing.html#indexing-view-versus-copy\n",
      "  \"\"\"Entry point for launching an IPython kernel.\n",
      "/Library/Frameworks/Python.framework/Versions/3.6/lib/python3.6/site-packages/ipykernel_launcher.py:2: SettingWithCopyWarning: \n",
      "A value is trying to be set on a copy of a slice from a DataFrame.\n",
      "Try using .loc[row_indexer,col_indexer] = value instead\n",
      "\n",
      "See the caveats in the documentation: http://pandas.pydata.org/pandas-docs/stable/indexing.html#indexing-view-versus-copy\n",
      "  \n",
      "/Library/Frameworks/Python.framework/Versions/3.6/lib/python3.6/site-packages/ipykernel_launcher.py:3: SettingWithCopyWarning: \n",
      "A value is trying to be set on a copy of a slice from a DataFrame.\n",
      "Try using .loc[row_indexer,col_indexer] = value instead\n",
      "\n",
      "See the caveats in the documentation: http://pandas.pydata.org/pandas-docs/stable/indexing.html#indexing-view-versus-copy\n",
      "  This is separate from the ipykernel package so we can avoid doing imports until\n"
     ]
    }
   ],
   "source": [
    "# Calculate the age of the rider\n",
    "age['birth year'] = age['birth year'].astype(float).astype(int)\n",
    "age['start_year'] = age['start_year'].astype(int)\n",
    "age['age'] = age['start_year'] - age['birth year']"
   ]
  },
  {
   "cell_type": "code",
   "execution_count": 20,
   "metadata": {},
   "outputs": [
    {
     "data": {
      "text/html": [
       "<div>\n",
       "<style>\n",
       "    .dataframe thead tr:only-child th {\n",
       "        text-align: right;\n",
       "    }\n",
       "\n",
       "    .dataframe thead th {\n",
       "        text-align: left;\n",
       "    }\n",
       "\n",
       "    .dataframe tbody tr th {\n",
       "        vertical-align: top;\n",
       "    }\n",
       "</style>\n",
       "<table border=\"1\" class=\"dataframe\">\n",
       "  <thead>\n",
       "    <tr style=\"text-align: right;\">\n",
       "      <th></th>\n",
       "      <th>tripduration</th>\n",
       "      <th>birth year</th>\n",
       "      <th>gender</th>\n",
       "      <th>usertype</th>\n",
       "      <th>start_year</th>\n",
       "      <th>start_month</th>\n",
       "      <th>start_day</th>\n",
       "      <th>start_dayofweek</th>\n",
       "      <th>start_hour</th>\n",
       "      <th>age</th>\n",
       "    </tr>\n",
       "  </thead>\n",
       "  <tbody>\n",
       "    <tr>\n",
       "      <th>2</th>\n",
       "      <td>2.966667</td>\n",
       "      <td>1980</td>\n",
       "      <td>2</td>\n",
       "      <td>Subscriber</td>\n",
       "      <td>2013</td>\n",
       "      <td>7</td>\n",
       "      <td>1</td>\n",
       "      <td>0</td>\n",
       "      <td>0</td>\n",
       "      <td>33</td>\n",
       "    </tr>\n",
       "    <tr>\n",
       "      <th>4</th>\n",
       "      <td>12.616667</td>\n",
       "      <td>1986</td>\n",
       "      <td>1</td>\n",
       "      <td>Subscriber</td>\n",
       "      <td>2013</td>\n",
       "      <td>7</td>\n",
       "      <td>1</td>\n",
       "      <td>0</td>\n",
       "      <td>0</td>\n",
       "      <td>27</td>\n",
       "    </tr>\n",
       "    <tr>\n",
       "      <th>5</th>\n",
       "      <td>14.350000</td>\n",
       "      <td>1988</td>\n",
       "      <td>1</td>\n",
       "      <td>Subscriber</td>\n",
       "      <td>2013</td>\n",
       "      <td>7</td>\n",
       "      <td>1</td>\n",
       "      <td>0</td>\n",
       "      <td>0</td>\n",
       "      <td>25</td>\n",
       "    </tr>\n",
       "    <tr>\n",
       "      <th>7</th>\n",
       "      <td>4.800000</td>\n",
       "      <td>1985</td>\n",
       "      <td>2</td>\n",
       "      <td>Subscriber</td>\n",
       "      <td>2013</td>\n",
       "      <td>7</td>\n",
       "      <td>1</td>\n",
       "      <td>0</td>\n",
       "      <td>0</td>\n",
       "      <td>28</td>\n",
       "    </tr>\n",
       "    <tr>\n",
       "      <th>8</th>\n",
       "      <td>12.766667</td>\n",
       "      <td>1980</td>\n",
       "      <td>2</td>\n",
       "      <td>Subscriber</td>\n",
       "      <td>2013</td>\n",
       "      <td>7</td>\n",
       "      <td>1</td>\n",
       "      <td>0</td>\n",
       "      <td>0</td>\n",
       "      <td>33</td>\n",
       "    </tr>\n",
       "  </tbody>\n",
       "</table>\n",
       "</div>"
      ],
      "text/plain": [
       "   tripduration  birth year  gender    usertype  start_year  start_month  \\\n",
       "2      2.966667        1980       2  Subscriber        2013            7   \n",
       "4     12.616667        1986       1  Subscriber        2013            7   \n",
       "5     14.350000        1988       1  Subscriber        2013            7   \n",
       "7      4.800000        1985       2  Subscriber        2013            7   \n",
       "8     12.766667        1980       2  Subscriber        2013            7   \n",
       "\n",
       "   start_day  start_dayofweek  start_hour  age  \n",
       "2          1                0           0   33  \n",
       "4          1                0           0   27  \n",
       "5          1                0           0   25  \n",
       "7          1                0           0   28  \n",
       "8          1                0           0   33  "
      ]
     },
     "execution_count": 20,
     "metadata": {},
     "output_type": "execute_result"
    }
   ],
   "source": [
    "age.head()"
   ]
  },
  {
   "cell_type": "code",
   "execution_count": 21,
   "metadata": {},
   "outputs": [
    {
     "data": {
      "text/plain": [
       "count     34626249\n",
       "mean          1976\n",
       "std             11\n",
       "min           1885\n",
       "25%           1969\n",
       "50%           1979\n",
       "75%           1986\n",
       "95%           1992\n",
       "99%           1995\n",
       "99.9%         1999\n",
       "99.99%        2000\n",
       "max           2001\n",
       "Name: birth year, dtype: int64"
      ]
     },
     "execution_count": 21,
     "metadata": {},
     "output_type": "execute_result"
    }
   ],
   "source": [
    "age['birth year'].describe(percentiles=[0.25, 0.5, 0.75, 0.95, 0.99, 0.999, 0.9999]).astype(int)"
   ]
  },
  {
   "cell_type": "code",
   "execution_count": 22,
   "metadata": {},
   "outputs": [
    {
     "data": {
      "text/plain": [
       "count     34626249\n",
       "mean            38\n",
       "std             11\n",
       "min             16\n",
       "25%             29\n",
       "50%             36\n",
       "75%             46\n",
       "95%             59\n",
       "99%             67\n",
       "99.9%           77\n",
       "99.99%         116\n",
       "max            132\n",
       "Name: age, dtype: int64"
      ]
     },
     "execution_count": 22,
     "metadata": {},
     "output_type": "execute_result"
    }
   ],
   "source": [
    "age['age'].describe(percentiles=[0.25, 0.5, 0.75, 0.95, 0.99, 0.999, 0.9999]).astype(int)"
   ]
  },
  {
   "cell_type": "code",
   "execution_count": 23,
   "metadata": {},
   "outputs": [
    {
     "name": "stdout",
     "output_type": "stream",
     "text": [
      "# Rides by people above 100 years old 13496 ???!!!!\n"
     ]
    }
   ],
   "source": [
    "# Check how many rider were made by people above \"100\" years old\n",
    "print('# Rides by people above 100 years old %d ???!!!!' % len(age[age.age > 100]))"
   ]
  },
  {
   "cell_type": "code",
   "execution_count": 24,
   "metadata": {},
   "outputs": [
    {
     "name": "stdout",
     "output_type": "stream",
     "text": [
      "CPU times: user 6min 36s, sys: 9.53 s, total: 6min 45s\n",
      "Wall time: 6min 46s\n"
     ]
    },
    {
     "data": {
      "image/png": "[encoded data removed]",
      "text/plain": [
       "<matplotlib.figure.Figure at 0x3284661d0>"
      ]
     },
     "metadata": {},
     "output_type": "display_data"
    }
   ],
   "source": [
    "%%time\n",
    "# Plot age distribution of riders. Only include ones whose age is less than or equal to 100\n",
    "# Based on the above, remove any entry with duration more than 4hours. This would cover 99.9% of the rides\n",
    "age_distribution = age[age.age <= 100]['age']\n",
    "ax4 = age_distribution.plot(kind='hist', bins=28, figsize=(8,8))\n",
    "ax4.set_title('Distribution of Rider\\'s Age', fontsize=18)\n",
    "ax4.set_xlabel('Rider\\'s Age', fontsize=16)\n",
    "ax4.set_ylabel('Number of rides', fontsize=16)\n",
    "for tick in ax4.xaxis.get_major_ticks():\n",
    "    tick.label.set_fontsize(14)\n",
    "for tick in ax4.yaxis.get_major_ticks():\n",
    "    tick.label.set_fontsize(14)"
   ]
  },
  {
   "cell_type": "code",
   "execution_count": 25,
   "metadata": {},
   "outputs": [
    {
     "data": {
      "image/png": "[encoded data removed]",
      "text/plain": [
       "<matplotlib.figure.Figure at 0x3672ac630>"
      ]
     },
     "metadata": {},
     "output_type": "display_data"
    }
   ],
   "source": [
    "# Same thing plotted in boxplot\n",
    "ax4_1 = age_distribution.plot(kind='box', figsize=(6,8))\n",
    "ax4_1.set_title('Distribution of Rider\\'s Age', fontsize=18)\n",
    "ax4_1.set_xlabel('Rider\\'s Age', fontsize=16)\n",
    "ax4_1.set_ylabel('Number of rides', fontsize=16)\n",
    "for tick in ax4_1.xaxis.get_major_ticks():\n",
    "    tick.label.set_fontsize(14)\n",
    "for tick in ax4_1.yaxis.get_major_ticks():\n",
    "    tick.label.set_fontsize(14)"
   ]
  },
  {
   "cell_type": "code",
   "execution_count": 26,
   "metadata": {},
   "outputs": [
    {
     "name": "stdout",
     "output_type": "stream",
     "text": [
      "----- Test for normality for age distribution -----\n",
      "Is the rider age normally distributed?: No (p-value=0.000000)\n"
     ]
    }
   ],
   "source": [
    "# Normality test here\n",
    "age_normaltest_ressult = scs.normaltest(age_distribution)\n",
    "\n",
    "print('----- Test for normality for age distribution -----')\n",
    "print('Is the rider age normally distributed?: %s (p-value=%f)'\\\n",
    "      % (normal_or_not(age_normaltest_ressult), age_normaltest_ressult.pvalue))"
   ]
  },
  {
   "cell_type": "code",
   "execution_count": null,
   "metadata": {
    "collapsed": true
   },
   "outputs": [],
   "source": []
  },
  {
   "cell_type": "markdown",
   "metadata": {},
   "source": [
    "<b>Gender Distribution</b>"
   ]
  },
  {
   "cell_type": "code",
   "execution_count": 27,
   "metadata": {},
   "outputs": [
    {
     "name": "stdout",
     "output_type": "stream",
     "text": [
      "0: Unknown, 1: Male, 2: Female\n"
     ]
    },
    {
     "data": {
      "text/plain": [
       "gender\n",
       "0     1302575\n",
       "1    26433121\n",
       "2     8138197\n",
       "dtype: int64"
      ]
     },
     "execution_count": 27,
     "metadata": {},
     "output_type": "execute_result"
    }
   ],
   "source": [
    "# Check the gender size\n",
    "print('0: Unknown, 1: Male, 2: Female')\n",
    "data.groupby('gender').size()"
   ]
  },
  {
   "cell_type": "code",
   "execution_count": 28,
   "metadata": {},
   "outputs": [
    {
     "name": "stdout",
     "output_type": "stream",
     "text": [
      "Male: 73.7%\n",
      "Female: 22.7%\n",
      "Gender Unknown: 3.6%\n"
     ]
    }
   ],
   "source": [
    "# Convert into percentage\n",
    "total_rider = len(data)\n",
    "unknowns, num_males, num_females = data.groupby('gender').size()\n",
    "print('Male: %.1f%%' % (100 * num_males / total_rider))\n",
    "print('Female: %.1f%%' % (100 * num_females / total_rider))\n",
    "print('Gender Unknown: %.1f%%' % (100 * unknowns / total_rider))"
   ]
  },
  {
   "cell_type": "code",
   "execution_count": 29,
   "metadata": {
    "collapsed": true
   },
   "outputs": [],
   "source": [
    "# Create separate datasets for males and females\n",
    "males = data[data.gender == 1]\n",
    "females = data[data.gender == 2]"
   ]
  },
  {
   "cell_type": "code",
   "execution_count": 30,
   "metadata": {
    "collapsed": true
   },
   "outputs": [],
   "source": [
    "# Get trip durations\n",
    "m_dur = males[males.tripduration <= 120]['tripduration']\n",
    "f_dur = females[females.tripduration <= 120]['tripduration']"
   ]
  },
  {
   "cell_type": "code",
   "execution_count": 31,
   "metadata": {},
   "outputs": [
    {
     "data": {
      "image/png": "[encoded data removed]",
      "text/plain": [
       "<matplotlib.figure.Figure at 0x329b39860>"
      ]
     },
     "metadata": {},
     "output_type": "display_data"
    }
   ],
   "source": [
    "# Plot trip duration distribution for males and females\n",
    "fig, (ax5, ax6) = plt.subplots(1, 2, figsize=(15, 7), sharey=False, sharex=True)\n",
    "ax5.hist(m_dur, bins=120, color='b', alpha=0.4)\n",
    "ax5.set_title('Distribution of Trip Duration: Males', fontsize=18)\n",
    "ax5.set_xlabel('Trip Duration (minutes)', fontsize=16)\n",
    "ax5.set_ylabel('Number of rides', fontsize=16)\n",
    "for tick in ax5.xaxis.get_major_ticks():\n",
    "    tick.label.set_fontsize(14)\n",
    "for tick in ax5.yaxis.get_major_ticks():\n",
    "    tick.label.set_fontsize(14)\n",
    "    \n",
    "ax6.hist(f_dur, bins=120, color='r', alpha=0.3)\n",
    "ax6.set_title('Distribution of Trip Duration: Females', fontsize=18)\n",
    "ax6.set_xlabel('Trip Duration (minutes)', fontsize=16)\n",
    "ax6.set_ylabel('Number of rides', fontsize=16)\n",
    "for tick in ax6.xaxis.get_major_ticks():\n",
    "    tick.label.set_fontsize(14)\n",
    "for tick in ax6.yaxis.get_major_ticks():\n",
    "    tick.label.set_fontsize(14)"
   ]
  },
  {
   "cell_type": "code",
   "execution_count": 32,
   "metadata": {},
   "outputs": [
    {
     "data": {
      "text/plain": [
       "(0, 60)"
      ]
     },
     "execution_count": 32,
     "metadata": {},
     "output_type": "execute_result"
    },
    {
     "data": {
      "image/png": "[encoded data removed]",
      "text/plain": [
       "<matplotlib.figure.Figure at 0x28e842a20>"
      ]
     },
     "metadata": {},
     "output_type": "display_data"
    }
   ],
   "source": [
    "# This time, plot them on the same graph after normalization\n",
    "plt.figure(figsize=(7, 7))\n",
    "plt.hist(m_dur, bins=120, normed=True, label='Male', color='b', alpha=0.4)\n",
    "plt.hist(f_dur, bins=120, normed=True, label='Female', color='r', alpha=0.3)\n",
    "plt.title('Distribution of Trip Duration: Males vs Females (Normalized)', fontsize=18)\n",
    "plt.xlabel('Trip Duration (minutes)', fontsize=16)\n",
    "plt.ylabel('Fraction of total rides', fontsize=16)\n",
    "plt.xticks(fontsize=14)\n",
    "plt.yticks(fontsize=14)\n",
    "plt.legend(loc='upper right', fontsize=16)\n",
    "plt.xlim([0, 60])"
   ]
  },
  {
   "cell_type": "code",
   "execution_count": 62,
   "metadata": {},
   "outputs": [
    {
     "data": {
      "text/plain": [
       "(-5, 40)"
      ]
     },
     "execution_count": 62,
     "metadata": {},
     "output_type": "execute_result"
    },
    {
     "data": {
      "image/png": "[encoded data removed]",
      "text/plain": [
       "<matplotlib.figure.Figure at 0x12522ab38>"
      ]
     },
     "metadata": {},
     "output_type": "display_data"
    }
   ],
   "source": [
    "# Plot the above with boxplot\n",
    "plt.figure(figsize=(6, 7))\n",
    "\n",
    "m_f = [m_dur, f_dur]\n",
    "plt.boxplot(m_f)\n",
    "plt.title('Distribution of Trip Duration: Males & Females', fontsize=18)\n",
    "#plt.xlabel('Trip Duration (minutes)', fontsize=16)\n",
    "plt.ylabel('Number of rides', fontsize=16)\n",
    "plt.xticks([1, 2], ['Male', 'Female'], fontsize=16)\n",
    "plt.yticks(fontsize=14)\n",
    "plt.ylim([-5, 40])"
   ]
  },
  {
   "cell_type": "code",
   "execution_count": 34,
   "metadata": {},
   "outputs": [
    {
     "data": {
      "text/plain": [
       "count    26392521\n",
       "mean           11\n",
       "std             8\n",
       "min             1\n",
       "25%             5\n",
       "50%             9\n",
       "75%            14\n",
       "max           120\n",
       "Name: tripduration, dtype: int64"
      ]
     },
     "execution_count": 34,
     "metadata": {},
     "output_type": "execute_result"
    }
   ],
   "source": [
    "m_dur.describe().astype(int)"
   ]
  },
  {
   "cell_type": "code",
   "execution_count": 35,
   "metadata": {},
   "outputs": [
    {
     "data": {
      "text/plain": [
       "count    8119883\n",
       "mean          13\n",
       "std            9\n",
       "min            1\n",
       "25%            6\n",
       "50%           10\n",
       "75%           17\n",
       "max          120\n",
       "Name: tripduration, dtype: int64"
      ]
     },
     "execution_count": 35,
     "metadata": {},
     "output_type": "execute_result"
    }
   ],
   "source": [
    "f_dur.describe().astype(int)"
   ]
  },
  {
   "cell_type": "code",
   "execution_count": 36,
   "metadata": {},
   "outputs": [
    {
     "name": "stdout",
     "output_type": "stream",
     "text": [
      "----- Test for normality and test for differences between subs and non-subs -----\n",
      "Is male trip duration normally distributed?: No (p-value=0.000000)\n",
      "Is female trip duration normally distributed?: No (p-value=0.000000)\n",
      "----- Are male and femal trip duration pattern different? -----\n",
      "Mann-Whitney U test: Yes (p-value=0.000000)\n",
      "T test: Yes (p-value=0.000000)\n"
     ]
    }
   ],
   "source": [
    "# Normality Test & Test for significant difference\n",
    "male_normaltest_ressult = scs.normaltest(m_dur)\n",
    "female_normaltest_ressult = scs.normaltest(f_dur)\n",
    "\n",
    "gender_MWtest_result = scs.mannwhitneyu(m_dur, f_dur)\n",
    "gender_Ttest_result = scs.ttest_ind(m_dur, f_dur)\n",
    "\n",
    "print('----- Test for normality and test for differences between subs and non-subs -----')\n",
    "print('Is male trip duration normally distributed?: %s (p-value=%f)'\\\n",
    "      % (normal_or_not(male_normaltest_ressult), male_normaltest_ressult.pvalue))\n",
    "print('Is female trip duration normally distributed?: %s (p-value=%f)'\\\n",
    "      % (normal_or_not(female_normaltest_ressult), female_normaltest_ressult.pvalue))\n",
    "print('----- Are male and femal trip duration pattern different? -----')\n",
    "print('Mann-Whitney U test: %s (p-value=%f)'\\\n",
    "                  % (significantly_different_or_not(gender_MWtest_result), gender_MWtest_result.pvalue))\n",
    "print('T test: %s (p-value=%f)'\\\n",
    "                  % (significantly_different_or_not(gender_Ttest_result), gender_Ttest_result.pvalue))"
   ]
  },
  {
   "cell_type": "code",
   "execution_count": null,
   "metadata": {
    "collapsed": true
   },
   "outputs": [],
   "source": []
  },
  {
   "cell_type": "markdown",
   "metadata": {},
   "source": [
    "<b>Subscribers vs non-subscribers</b>"
   ]
  },
  {
   "cell_type": "code",
   "execution_count": 37,
   "metadata": {},
   "outputs": [
    {
     "data": {
      "text/plain": [
       "Index(['tripduration', 'birth year', 'gender', 'usertype', 'start_year',\n",
       "       'start_month', 'start_day', 'start_dayofweek', 'start_hour'],\n",
       "      dtype='object')"
      ]
     },
     "execution_count": 37,
     "metadata": {},
     "output_type": "execute_result"
    }
   ],
   "source": [
    "data.columns"
   ]
  },
  {
   "cell_type": "code",
   "execution_count": 38,
   "metadata": {
    "collapsed": true
   },
   "outputs": [],
   "source": [
    "# Get subscriber and non-subscriber data\n",
    "daily_subs = data[data['usertype'] == 'Subscriber']\n",
    "daily_nonsubs = data[data['usertype'] == 'Customer']"
   ]
  },
  {
   "cell_type": "code",
   "execution_count": 39,
   "metadata": {
    "collapsed": true
   },
   "outputs": [],
   "source": [
    "# Trip durations data\n",
    "daily_subs_dur = daily_subs[daily_subs.tripduration <=120]['tripduration']\n",
    "daily_nonsubs_dur = daily_nonsubs[daily_nonsubs.tripduration <=120]['tripduration']"
   ]
  },
  {
   "cell_type": "code",
   "execution_count": 40,
   "metadata": {},
   "outputs": [
    {
     "data": {
      "image/png": "[encoded data removed]",
      "text/plain": [
       "<matplotlib.figure.Figure at 0x1251bccf8>"
      ]
     },
     "metadata": {},
     "output_type": "display_data"
    }
   ],
   "source": [
    "# Histograms for Tripdurations\n",
    "fig, (ax7, ax8) = plt.subplots(1, 2, figsize=(15, 7), sharey=False, sharex=True)\n",
    "ax7.hist(daily_subs_dur, bins=120, color='aqua', alpha=0.5)\n",
    "ax7.set_title('Distribution of Trip Duration: Subscribers', fontsize=18)\n",
    "ax7.set_xlabel('Trip Duration (minutes)', fontsize=16)\n",
    "ax7.set_ylabel('Number of rides', fontsize=16)\n",
    "for tick in ax7.xaxis.get_major_ticks():\n",
    "    tick.label.set_fontsize(14)\n",
    "for tick in ax7.yaxis.get_major_ticks():\n",
    "    tick.label.set_fontsize(14)\n",
    "    \n",
    "ax8.hist(daily_nonsubs_dur, bins=120, color='yellowgreen', alpha=0.5)\n",
    "ax8.set_title('Distribution of Trip Duration: Non-Subscribers', fontsize=18)\n",
    "ax8.set_xlabel('Trip Duration (minutes)', fontsize=16)\n",
    "ax8.set_ylabel('Number of rides', fontsize=16)\n",
    "for tick in ax8.xaxis.get_major_ticks():\n",
    "    tick.label.set_fontsize(14)\n",
    "for tick in ax8.yaxis.get_major_ticks():\n",
    "    tick.label.set_fontsize(14)"
   ]
  },
  {
   "cell_type": "code",
   "execution_count": 67,
   "metadata": {},
   "outputs": [
    {
     "data": {
      "text/plain": [
       "<matplotlib.legend.Legend at 0x12f4f4c88>"
      ]
     },
     "execution_count": 67,
     "metadata": {},
     "output_type": "execute_result"
    },
    {
     "data": {
      "image/png": "[encoded data removed]",
      "text/plain": [
       "<matplotlib.figure.Figure at 0x120a79e80>"
      ]
     },
     "metadata": {},
     "output_type": "display_data"
    }
   ],
   "source": [
    "# This time normalized\n",
    "plt.figure(figsize=(7, 7))\n",
    "plt.hist(daily_subs_dur, bins=120, normed=True, color='aqua', alpha=0.5, label='Subscribers')\n",
    "plt.hist(daily_nonsubs_dur, bins=120, normed=True, color='yellowgreen', alpha=0.5, label='Non-subscribers')\n",
    "plt.title('Distribution of Trip Duration:\\n Subscribers vs Non-subscribers (Normalized)', fontsize=18)\n",
    "plt.xlabel('Trip Duration (minutes)', fontsize=16)\n",
    "plt.ylabel('Fraction of total rides', fontsize=16)\n",
    "plt.xticks(fontsize=14)\n",
    "plt.yticks(fontsize=14)\n",
    "plt.legend(loc='upper right', fontsize=16)\n",
    "plt.xlim([-2, 80])\n",
    "plt.ylim([0, 0.1])\n",
    "plt.legend(loc='upper left', fontsize=14)"
   ]
  },
  {
   "cell_type": "code",
   "execution_count": 42,
   "metadata": {},
   "outputs": [
    {
     "name": "stdout",
     "output_type": "stream",
     "text": [
      "----- Test for normality and test for differences between subs and non-subs -----\n",
      "Is subscriber trip duration normally distributed?: No (p-value=0.000000)\n",
      "Is non-subscriber trip duration normally distributed?: No (p-value=0.000000)\n",
      "----- Are subscriber and non-subscriber trip duration patterns different? -----\n",
      "Mann-Whitney U test: Yes (p-value=0.000000)\n",
      "T test: Yes (p-value=0.000000)\n"
     ]
    }
   ],
   "source": [
    "# Normality Test & Test for significant difference\n",
    "subs_normaltest_ressult = scs.normaltest(daily_subs_dur)\n",
    "nonsubs_normaltest_ressult = scs.normaltest(daily_nonsubs_dur)\n",
    "\n",
    "type_MWtest_result = scs.mannwhitneyu(daily_subs_dur, daily_nonsubs_dur)\n",
    "type_Ttest_result = scs.ttest_ind(daily_subs_dur, daily_nonsubs_dur)\n",
    "\n",
    "print('----- Test for normality and test for differences between subs and non-subs -----')\n",
    "print('Is subscriber trip duration normally distributed?: %s (p-value=%f)'\\\n",
    "      % (normal_or_not(subs_normaltest_ressult), subs_normaltest_ressult.pvalue))\n",
    "print('Is non-subscriber trip duration normally distributed?: %s (p-value=%f)'\\\n",
    "      % (normal_or_not(nonsubs_normaltest_ressult), nonsubs_normaltest_ressult.pvalue))\n",
    "\n",
    "print('----- Are subscriber and non-subscriber trip duration patterns different? -----')\n",
    "print('Mann-Whitney U test: %s (p-value=%f)'\\\n",
    "                  % (significantly_different_or_not(type_MWtest_result), type_MWtest_result.pvalue))\n",
    "print('T test: %s (p-value=%f)'\\\n",
    "                  % (significantly_different_or_not(type_Ttest_result), type_Ttest_result.pvalue))"
   ]
  },
  {
   "cell_type": "code",
   "execution_count": 43,
   "metadata": {
    "collapsed": true
   },
   "outputs": [],
   "source": [
    "# Usage by the day of the week\n",
    "subs_dayofweek = daily_subs.groupby(['start_year', 'start_month', 'start_day', 'start_dayofweek', 'usertype'])\\\n",
    "                                                    .size().unstack('start_dayofweek')\n",
    "nonsubs_dayofweek = daily_nonsubs.groupby(['start_year', 'start_month', 'start_day', 'start_dayofweek', 'usertype'])\\\n",
    "                                                                 .size().unstack('start_dayofweek')\n",
    "    \n",
    "subs_dayofweek.columns = ['Mon', 'Tue', 'Wed', 'Thu', 'Fri', 'Sat', 'Sun']\n",
    "nonsubs_dayofweek.columns = ['Mon', 'Tue', 'Wed', 'Thu', 'Fri', 'Sat', 'Sun']"
   ]
  },
  {
   "cell_type": "code",
   "execution_count": 44,
   "metadata": {},
   "outputs": [
    {
     "data": {
      "text/html": [
       "<div>\n",
       "<style>\n",
       "    .dataframe thead tr:only-child th {\n",
       "        text-align: right;\n",
       "    }\n",
       "\n",
       "    .dataframe thead th {\n",
       "        text-align: left;\n",
       "    }\n",
       "\n",
       "    .dataframe tbody tr th {\n",
       "        vertical-align: top;\n",
       "    }\n",
       "</style>\n",
       "<table border=\"1\" class=\"dataframe\">\n",
       "  <thead>\n",
       "    <tr style=\"text-align: right;\">\n",
       "      <th></th>\n",
       "      <th>Mon</th>\n",
       "      <th>Tue</th>\n",
       "      <th>Wed</th>\n",
       "      <th>Thu</th>\n",
       "      <th>Fri</th>\n",
       "      <th>Sat</th>\n",
       "      <th>Sun</th>\n",
       "    </tr>\n",
       "  </thead>\n",
       "  <tbody>\n",
       "    <tr>\n",
       "      <th>count</th>\n",
       "      <td>195</td>\n",
       "      <td>194</td>\n",
       "      <td>195</td>\n",
       "      <td>194</td>\n",
       "      <td>196</td>\n",
       "      <td>194</td>\n",
       "      <td>194</td>\n",
       "    </tr>\n",
       "    <tr>\n",
       "      <th>mean</th>\n",
       "      <td>26501</td>\n",
       "      <td>28438</td>\n",
       "      <td>29731</td>\n",
       "      <td>28911</td>\n",
       "      <td>26914</td>\n",
       "      <td>18914</td>\n",
       "      <td>18325</td>\n",
       "    </tr>\n",
       "    <tr>\n",
       "      <th>std</th>\n",
       "      <td>11563</td>\n",
       "      <td>12942</td>\n",
       "      <td>13292</td>\n",
       "      <td>13019</td>\n",
       "      <td>12189</td>\n",
       "      <td>8554</td>\n",
       "      <td>7791</td>\n",
       "    </tr>\n",
       "    <tr>\n",
       "      <th>min</th>\n",
       "      <td>1449</td>\n",
       "      <td>1185</td>\n",
       "      <td>2423</td>\n",
       "      <td>873</td>\n",
       "      <td>1123</td>\n",
       "      <td>1096</td>\n",
       "      <td>1768</td>\n",
       "    </tr>\n",
       "    <tr>\n",
       "      <th>25%</th>\n",
       "      <td>17644</td>\n",
       "      <td>18390</td>\n",
       "      <td>20918</td>\n",
       "      <td>19961</td>\n",
       "      <td>17471</td>\n",
       "      <td>12371</td>\n",
       "      <td>12855</td>\n",
       "    </tr>\n",
       "    <tr>\n",
       "      <th>50%</th>\n",
       "      <td>27696</td>\n",
       "      <td>29608</td>\n",
       "      <td>31463</td>\n",
       "      <td>29525</td>\n",
       "      <td>28864</td>\n",
       "      <td>20229</td>\n",
       "      <td>19142</td>\n",
       "    </tr>\n",
       "    <tr>\n",
       "      <th>75%</th>\n",
       "      <td>32309</td>\n",
       "      <td>35137</td>\n",
       "      <td>36726</td>\n",
       "      <td>36654</td>\n",
       "      <td>33759</td>\n",
       "      <td>24139</td>\n",
       "      <td>22935</td>\n",
       "    </tr>\n",
       "    <tr>\n",
       "      <th>95%</th>\n",
       "      <td>46103</td>\n",
       "      <td>51483</td>\n",
       "      <td>51879</td>\n",
       "      <td>50009</td>\n",
       "      <td>46543</td>\n",
       "      <td>32129</td>\n",
       "      <td>30969</td>\n",
       "    </tr>\n",
       "    <tr>\n",
       "      <th>99%</th>\n",
       "      <td>54426</td>\n",
       "      <td>59174</td>\n",
       "      <td>59729</td>\n",
       "      <td>61139</td>\n",
       "      <td>57699</td>\n",
       "      <td>39489</td>\n",
       "      <td>39699</td>\n",
       "    </tr>\n",
       "    <tr>\n",
       "      <th>max</th>\n",
       "      <td>56001</td>\n",
       "      <td>61217</td>\n",
       "      <td>62131</td>\n",
       "      <td>61518</td>\n",
       "      <td>58278</td>\n",
       "      <td>44147</td>\n",
       "      <td>40586</td>\n",
       "    </tr>\n",
       "  </tbody>\n",
       "</table>\n",
       "</div>"
      ],
      "text/plain": [
       "         Mon    Tue    Wed    Thu    Fri    Sat    Sun\n",
       "count    195    194    195    194    196    194    194\n",
       "mean   26501  28438  29731  28911  26914  18914  18325\n",
       "std    11563  12942  13292  13019  12189   8554   7791\n",
       "min     1449   1185   2423    873   1123   1096   1768\n",
       "25%    17644  18390  20918  19961  17471  12371  12855\n",
       "50%    27696  29608  31463  29525  28864  20229  19142\n",
       "75%    32309  35137  36726  36654  33759  24139  22935\n",
       "95%    46103  51483  51879  50009  46543  32129  30969\n",
       "99%    54426  59174  59729  61139  57699  39489  39699\n",
       "max    56001  61217  62131  61518  58278  44147  40586"
      ]
     },
     "execution_count": 44,
     "metadata": {},
     "output_type": "execute_result"
    }
   ],
   "source": [
    "subs_dayofweek.describe(percentiles=[0.25, 0.5, 0.75, 0.95, 0.99]).astype(int)"
   ]
  },
  {
   "cell_type": "code",
   "execution_count": 45,
   "metadata": {},
   "outputs": [
    {
     "data": {
      "text/html": [
       "<div>\n",
       "<style>\n",
       "    .dataframe thead tr:only-child th {\n",
       "        text-align: right;\n",
       "    }\n",
       "\n",
       "    .dataframe thead th {\n",
       "        text-align: left;\n",
       "    }\n",
       "\n",
       "    .dataframe tbody tr th {\n",
       "        vertical-align: top;\n",
       "    }\n",
       "</style>\n",
       "<table border=\"1\" class=\"dataframe\">\n",
       "  <thead>\n",
       "    <tr style=\"text-align: right;\">\n",
       "      <th></th>\n",
       "      <th>Mon</th>\n",
       "      <th>Tue</th>\n",
       "      <th>Wed</th>\n",
       "      <th>Thu</th>\n",
       "      <th>Fri</th>\n",
       "      <th>Sat</th>\n",
       "      <th>Sun</th>\n",
       "    </tr>\n",
       "  </thead>\n",
       "  <tbody>\n",
       "    <tr>\n",
       "      <th>count</th>\n",
       "      <td>90</td>\n",
       "      <td>86</td>\n",
       "      <td>92</td>\n",
       "      <td>91</td>\n",
       "      <td>91</td>\n",
       "      <td>91</td>\n",
       "      <td>89</td>\n",
       "    </tr>\n",
       "    <tr>\n",
       "      <th>mean</th>\n",
       "      <td>1617</td>\n",
       "      <td>1447</td>\n",
       "      <td>1325</td>\n",
       "      <td>1359</td>\n",
       "      <td>1664</td>\n",
       "      <td>3552</td>\n",
       "      <td>3283</td>\n",
       "    </tr>\n",
       "    <tr>\n",
       "      <th>std</th>\n",
       "      <td>1792</td>\n",
       "      <td>1507</td>\n",
       "      <td>1500</td>\n",
       "      <td>1677</td>\n",
       "      <td>1855</td>\n",
       "      <td>3674</td>\n",
       "      <td>3426</td>\n",
       "    </tr>\n",
       "    <tr>\n",
       "      <th>min</th>\n",
       "      <td>1</td>\n",
       "      <td>1</td>\n",
       "      <td>1</td>\n",
       "      <td>1</td>\n",
       "      <td>1</td>\n",
       "      <td>1</td>\n",
       "      <td>1</td>\n",
       "    </tr>\n",
       "    <tr>\n",
       "      <th>25%</th>\n",
       "      <td>105</td>\n",
       "      <td>95</td>\n",
       "      <td>49</td>\n",
       "      <td>107</td>\n",
       "      <td>97</td>\n",
       "      <td>89</td>\n",
       "      <td>174</td>\n",
       "    </tr>\n",
       "    <tr>\n",
       "      <th>50%</th>\n",
       "      <td>600</td>\n",
       "      <td>592</td>\n",
       "      <td>475</td>\n",
       "      <td>557</td>\n",
       "      <td>782</td>\n",
       "      <td>2146</td>\n",
       "      <td>1441</td>\n",
       "    </tr>\n",
       "    <tr>\n",
       "      <th>75%</th>\n",
       "      <td>2983</td>\n",
       "      <td>2780</td>\n",
       "      <td>2593</td>\n",
       "      <td>2422</td>\n",
       "      <td>3390</td>\n",
       "      <td>6601</td>\n",
       "      <td>6354</td>\n",
       "    </tr>\n",
       "    <tr>\n",
       "      <th>95%</th>\n",
       "      <td>4509</td>\n",
       "      <td>4050</td>\n",
       "      <td>4138</td>\n",
       "      <td>3672</td>\n",
       "      <td>4892</td>\n",
       "      <td>9736</td>\n",
       "      <td>9436</td>\n",
       "    </tr>\n",
       "    <tr>\n",
       "      <th>99%</th>\n",
       "      <td>6346</td>\n",
       "      <td>5135</td>\n",
       "      <td>4951</td>\n",
       "      <td>5499</td>\n",
       "      <td>6008</td>\n",
       "      <td>13557</td>\n",
       "      <td>11361</td>\n",
       "    </tr>\n",
       "    <tr>\n",
       "      <th>max</th>\n",
       "      <td>8287</td>\n",
       "      <td>5367</td>\n",
       "      <td>4964</td>\n",
       "      <td>10773</td>\n",
       "      <td>8175</td>\n",
       "      <td>13648</td>\n",
       "      <td>12243</td>\n",
       "    </tr>\n",
       "  </tbody>\n",
       "</table>\n",
       "</div>"
      ],
      "text/plain": [
       "        Mon   Tue   Wed    Thu   Fri    Sat    Sun\n",
       "count    90    86    92     91    91     91     89\n",
       "mean   1617  1447  1325   1359  1664   3552   3283\n",
       "std    1792  1507  1500   1677  1855   3674   3426\n",
       "min       1     1     1      1     1      1      1\n",
       "25%     105    95    49    107    97     89    174\n",
       "50%     600   592   475    557   782   2146   1441\n",
       "75%    2983  2780  2593   2422  3390   6601   6354\n",
       "95%    4509  4050  4138   3672  4892   9736   9436\n",
       "99%    6346  5135  4951   5499  6008  13557  11361\n",
       "max    8287  5367  4964  10773  8175  13648  12243"
      ]
     },
     "execution_count": 45,
     "metadata": {},
     "output_type": "execute_result"
    }
   ],
   "source": [
    "nonsubs_dayofweek.describe(percentiles=[0.25, 0.5, 0.75, 0.95, 0.99]).astype(int)"
   ]
  },
  {
   "cell_type": "code",
   "execution_count": 46,
   "metadata": {},
   "outputs": [
    {
     "data": {
      "image/png": "[encoded data removed]",
      "text/plain": [
       "<matplotlib.figure.Figure at 0x12052dcc0>"
      ]
     },
     "metadata": {},
     "output_type": "display_data"
    }
   ],
   "source": [
    "# Plot the weekly usage distribution for subscribers\n",
    "ax9 = subs_dayofweek.plot(kind='box',  figsize=(12, 6))\n",
    "ax9.set_title('Usage Distribution By Day : Subscribers', fontsize=18)\n",
    "ax9.set_ylabel('Number of rides', fontsize=16)\n",
    "for tick in ax9.xaxis.get_major_ticks():\n",
    "    tick.label.set_fontsize(14)\n",
    "for tick in ax9.yaxis.get_major_ticks():\n",
    "    tick.label.set_fontsize(14)"
   ]
  },
  {
   "cell_type": "code",
   "execution_count": 47,
   "metadata": {},
   "outputs": [
    {
     "data": {
      "image/png": "[encoded data removed]",
      "text/plain": [
       "<matplotlib.figure.Figure at 0x11f42aa90>"
      ]
     },
     "metadata": {},
     "output_type": "display_data"
    }
   ],
   "source": [
    "# Plot the weekly usage distribution for non-subscribers\n",
    "ax10 = nonsubs_dayofweek.plot(kind='box',  figsize=(12, 6))\n",
    "ax10.set_title('Usage Distribution By Day : Non-Subscribers', fontsize=18)\n",
    "ax10.set_ylabel('Number of rides', fontsize=16)\n",
    "for tick in ax10.xaxis.get_major_ticks():\n",
    "    tick.label.set_fontsize(14)\n",
    "for tick in ax10.yaxis.get_major_ticks():\n",
    "    tick.label.set_fontsize(14)"
   ]
  },
  {
   "cell_type": "code",
   "execution_count": 48,
   "metadata": {
    "collapsed": true
   },
   "outputs": [],
   "source": [
    "# Test for different between days for each user type\n",
    "subs_dayofweek_usage = subs_dayofweek.reset_index()[['Mon', 'Tue', 'Wed', 'Thu', 'Fri', 'Sat', 'Sun']]\n",
    "nonsubs_dayofweek_usage = nonsubs_dayofweek.reset_index()[['Mon', 'Tue', 'Wed', 'Thu', 'Fri', 'Sat', 'Sun']]"
   ]
  },
  {
   "cell_type": "code",
   "execution_count": 49,
   "metadata": {
    "collapsed": true
   },
   "outputs": [],
   "source": [
    "# Prepare data for pair-wise statistical test\n",
    "sdayofweek_usage = []\n",
    "nsdayofweek_usage = []\n",
    "\n",
    "# Create lists containing weekly usage data by iterating over days of the week\n",
    "# Each element in a row is a vector containing usage data for each day of the week\n",
    "for i in range(7):\n",
    "    s_usage = np.array(subs_dayofweek_usage.iloc[:, i].dropna()).reshape(-1,1)\n",
    "    ns_usage = np.array(nonsubs_dayofweek_usage.iloc[:, i].dropna()).reshape(-1,1)\n",
    "    \n",
    "    sdayofweek_usage.append(s_usage)\n",
    "    nsdayofweek_usage.append(ns_usage)"
   ]
  },
  {
   "cell_type": "code",
   "execution_count": 50,
   "metadata": {
    "collapsed": true
   },
   "outputs": [],
   "source": [
    "# Create tables to store pair-wise statistical test results\n",
    "daysofweek = ['Monday', 'Tuesday', 'Wednesday', 'Thursday', 'Friday','Saturday', 'Sunday']\n",
    "\n",
    "subs_MWtest_table_pvalues = pd.DataFrame(columns=daysofweek)\n",
    "subs_MWtest_table_pvalues['days'] = daysofweek\n",
    "subs_MWtest_table_pvalues = subs_MWtest_table_pvalues[['days', 'Monday', 'Tuesday', 'Wednesday', 'Thursday', 'Friday','Saturday', 'Sunday']]\n",
    "subs_MWtest_table_significance =subs_MWtest_table_pvalues.copy()\n",
    "\n",
    "nonsubs_MWtest_table_pvalues = subs_MWtest_table_pvalues.copy()\n",
    "nonsubs_MWtest_table_significance = subs_MWtest_table_pvalues.copy()"
   ]
  },
  {
   "cell_type": "code",
   "execution_count": 51,
   "metadata": {
    "collapsed": true
   },
   "outputs": [],
   "source": [
    "# Conduct pair-wise Mann-Whitney U test to assesse ridership difference between days of the week\n",
    "for i in range(7):\n",
    "    for j in range(7):\n",
    "        subs_result = scs.mannwhitneyu(sdayofweek_usage[i], sdayofweek_usage[j])\n",
    "        subs_MWtest_table_pvalues.iloc[i, j+1] = subs_result.pvalue.round(4)\n",
    "        if subs_result.pvalue < 0.01:\n",
    "            subs_MWtest_table_significance.iloc[i, j+1] = '*'\n",
    "        else:\n",
    "            subs_MWtest_table_significance.iloc[i, j+1] = ''\n",
    "        \n",
    "        nonsubs_result = scs.mannwhitneyu(nsdayofweek_usage[i], nsdayofweek_usage[j])\n",
    "        nonsubs_MWtest_table_pvalues.iloc[i, j+1] = nonsubs_result.pvalue.round(4)\n",
    "        if nonsubs_result.pvalue < 0.01:\n",
    "            nonsubs_MWtest_table_significance.iloc[i, j+1] = '*'\n",
    "        else:\n",
    "            nonsubs_MWtest_table_significance.iloc[i, j+1] = ''\n",
    "        "
   ]
  },
  {
   "cell_type": "code",
   "execution_count": 52,
   "metadata": {},
   "outputs": [
    {
     "data": {
      "text/html": [
       "<div>\n",
       "<style>\n",
       "    .dataframe thead tr:only-child th {\n",
       "        text-align: right;\n",
       "    }\n",
       "\n",
       "    .dataframe thead th {\n",
       "        text-align: left;\n",
       "    }\n",
       "\n",
       "    .dataframe tbody tr th {\n",
       "        vertical-align: top;\n",
       "    }\n",
       "</style>\n",
       "<table border=\"1\" class=\"dataframe\">\n",
       "  <thead>\n",
       "    <tr style=\"text-align: right;\">\n",
       "      <th></th>\n",
       "      <th>Monday</th>\n",
       "      <th>Tuesday</th>\n",
       "      <th>Wednesday</th>\n",
       "      <th>Thursday</th>\n",
       "      <th>Friday</th>\n",
       "      <th>Saturday</th>\n",
       "      <th>Sunday</th>\n",
       "    </tr>\n",
       "    <tr>\n",
       "      <th>days</th>\n",
       "      <th></th>\n",
       "      <th></th>\n",
       "      <th></th>\n",
       "      <th></th>\n",
       "      <th></th>\n",
       "      <th></th>\n",
       "      <th></th>\n",
       "    </tr>\n",
       "  </thead>\n",
       "  <tbody>\n",
       "    <tr>\n",
       "      <th>Monday</th>\n",
       "      <td>0.4998</td>\n",
       "      <td>0.0594</td>\n",
       "      <td>0.0022</td>\n",
       "      <td>0.0302</td>\n",
       "      <td>0.2687</td>\n",
       "      <td>0</td>\n",
       "      <td>0</td>\n",
       "    </tr>\n",
       "    <tr>\n",
       "      <th>Tuesday</th>\n",
       "      <td>0.0594</td>\n",
       "      <td>0.4998</td>\n",
       "      <td>0.1026</td>\n",
       "      <td>0.3382</td>\n",
       "      <td>0.1556</td>\n",
       "      <td>0</td>\n",
       "      <td>0</td>\n",
       "    </tr>\n",
       "    <tr>\n",
       "      <th>Wednesday</th>\n",
       "      <td>0.0022</td>\n",
       "      <td>0.1026</td>\n",
       "      <td>0.4998</td>\n",
       "      <td>0.2048</td>\n",
       "      <td>0.0106</td>\n",
       "      <td>0</td>\n",
       "      <td>0</td>\n",
       "    </tr>\n",
       "    <tr>\n",
       "      <th>Thursday</th>\n",
       "      <td>0.0302</td>\n",
       "      <td>0.3382</td>\n",
       "      <td>0.2048</td>\n",
       "      <td>0.4998</td>\n",
       "      <td>0.074</td>\n",
       "      <td>0</td>\n",
       "      <td>0</td>\n",
       "    </tr>\n",
       "    <tr>\n",
       "      <th>Friday</th>\n",
       "      <td>0.2687</td>\n",
       "      <td>0.1556</td>\n",
       "      <td>0.0106</td>\n",
       "      <td>0.074</td>\n",
       "      <td>0.4998</td>\n",
       "      <td>0</td>\n",
       "      <td>0</td>\n",
       "    </tr>\n",
       "    <tr>\n",
       "      <th>Saturday</th>\n",
       "      <td>0</td>\n",
       "      <td>0</td>\n",
       "      <td>0</td>\n",
       "      <td>0</td>\n",
       "      <td>0</td>\n",
       "      <td>0.4998</td>\n",
       "      <td>0.1737</td>\n",
       "    </tr>\n",
       "    <tr>\n",
       "      <th>Sunday</th>\n",
       "      <td>0</td>\n",
       "      <td>0</td>\n",
       "      <td>0</td>\n",
       "      <td>0</td>\n",
       "      <td>0</td>\n",
       "      <td>0.1737</td>\n",
       "      <td>0.4998</td>\n",
       "    </tr>\n",
       "  </tbody>\n",
       "</table>\n",
       "</div>"
      ],
      "text/plain": [
       "           Monday Tuesday Wednesday Thursday  Friday Saturday  Sunday\n",
       "days                                                                 \n",
       "Monday     0.4998  0.0594    0.0022   0.0302  0.2687        0       0\n",
       "Tuesday    0.0594  0.4998    0.1026   0.3382  0.1556        0       0\n",
       "Wednesday  0.0022  0.1026    0.4998   0.2048  0.0106        0       0\n",
       "Thursday   0.0302  0.3382    0.2048   0.4998   0.074        0       0\n",
       "Friday     0.2687  0.1556    0.0106    0.074  0.4998        0       0\n",
       "Saturday        0       0         0        0       0   0.4998  0.1737\n",
       "Sunday          0       0         0        0       0   0.1737  0.4998"
      ]
     },
     "execution_count": 52,
     "metadata": {},
     "output_type": "execute_result"
    }
   ],
   "source": [
    "# P-values for subscribers\n",
    "subs_MWtest_table_pvalues.set_index('days')"
   ]
  },
  {
   "cell_type": "code",
   "execution_count": 53,
   "metadata": {},
   "outputs": [
    {
     "data": {
      "text/html": [
       "<div>\n",
       "<style>\n",
       "    .dataframe thead tr:only-child th {\n",
       "        text-align: right;\n",
       "    }\n",
       "\n",
       "    .dataframe thead th {\n",
       "        text-align: left;\n",
       "    }\n",
       "\n",
       "    .dataframe tbody tr th {\n",
       "        vertical-align: top;\n",
       "    }\n",
       "</style>\n",
       "<table border=\"1\" class=\"dataframe\">\n",
       "  <thead>\n",
       "    <tr style=\"text-align: right;\">\n",
       "      <th></th>\n",
       "      <th>Monday</th>\n",
       "      <th>Tuesday</th>\n",
       "      <th>Wednesday</th>\n",
       "      <th>Thursday</th>\n",
       "      <th>Friday</th>\n",
       "      <th>Saturday</th>\n",
       "      <th>Sunday</th>\n",
       "    </tr>\n",
       "    <tr>\n",
       "      <th>days</th>\n",
       "      <th></th>\n",
       "      <th></th>\n",
       "      <th></th>\n",
       "      <th></th>\n",
       "      <th></th>\n",
       "      <th></th>\n",
       "      <th></th>\n",
       "    </tr>\n",
       "  </thead>\n",
       "  <tbody>\n",
       "    <tr>\n",
       "      <th>Monday</th>\n",
       "      <td></td>\n",
       "      <td></td>\n",
       "      <td>*</td>\n",
       "      <td></td>\n",
       "      <td></td>\n",
       "      <td>*</td>\n",
       "      <td>*</td>\n",
       "    </tr>\n",
       "    <tr>\n",
       "      <th>Tuesday</th>\n",
       "      <td></td>\n",
       "      <td></td>\n",
       "      <td></td>\n",
       "      <td></td>\n",
       "      <td></td>\n",
       "      <td>*</td>\n",
       "      <td>*</td>\n",
       "    </tr>\n",
       "    <tr>\n",
       "      <th>Wednesday</th>\n",
       "      <td>*</td>\n",
       "      <td></td>\n",
       "      <td></td>\n",
       "      <td></td>\n",
       "      <td></td>\n",
       "      <td>*</td>\n",
       "      <td>*</td>\n",
       "    </tr>\n",
       "    <tr>\n",
       "      <th>Thursday</th>\n",
       "      <td></td>\n",
       "      <td></td>\n",
       "      <td></td>\n",
       "      <td></td>\n",
       "      <td></td>\n",
       "      <td>*</td>\n",
       "      <td>*</td>\n",
       "    </tr>\n",
       "    <tr>\n",
       "      <th>Friday</th>\n",
       "      <td></td>\n",
       "      <td></td>\n",
       "      <td></td>\n",
       "      <td></td>\n",
       "      <td></td>\n",
       "      <td>*</td>\n",
       "      <td>*</td>\n",
       "    </tr>\n",
       "    <tr>\n",
       "      <th>Saturday</th>\n",
       "      <td>*</td>\n",
       "      <td>*</td>\n",
       "      <td>*</td>\n",
       "      <td>*</td>\n",
       "      <td>*</td>\n",
       "      <td></td>\n",
       "      <td></td>\n",
       "    </tr>\n",
       "    <tr>\n",
       "      <th>Sunday</th>\n",
       "      <td>*</td>\n",
       "      <td>*</td>\n",
       "      <td>*</td>\n",
       "      <td>*</td>\n",
       "      <td>*</td>\n",
       "      <td></td>\n",
       "      <td></td>\n",
       "    </tr>\n",
       "  </tbody>\n",
       "</table>\n",
       "</div>"
      ],
      "text/plain": [
       "          Monday Tuesday Wednesday Thursday Friday Saturday Sunday\n",
       "days                                                              \n",
       "Monday                           *                        *      *\n",
       "Tuesday                                                   *      *\n",
       "Wednesday      *                                          *      *\n",
       "Thursday                                                  *      *\n",
       "Friday                                                    *      *\n",
       "Saturday       *       *         *        *      *                \n",
       "Sunday         *       *         *        *      *                "
      ]
     },
     "execution_count": 53,
     "metadata": {},
     "output_type": "execute_result"
    }
   ],
   "source": [
    "# subscribers: Significance indicated as *\n",
    "subs_MWtest_table_significance.set_index('days')"
   ]
  },
  {
   "cell_type": "code",
   "execution_count": 54,
   "metadata": {},
   "outputs": [
    {
     "data": {
      "text/html": [
       "<div>\n",
       "<style>\n",
       "    .dataframe thead tr:only-child th {\n",
       "        text-align: right;\n",
       "    }\n",
       "\n",
       "    .dataframe thead th {\n",
       "        text-align: left;\n",
       "    }\n",
       "\n",
       "    .dataframe tbody tr th {\n",
       "        vertical-align: top;\n",
       "    }\n",
       "</style>\n",
       "<table border=\"1\" class=\"dataframe\">\n",
       "  <thead>\n",
       "    <tr style=\"text-align: right;\">\n",
       "      <th></th>\n",
       "      <th>Monday</th>\n",
       "      <th>Tuesday</th>\n",
       "      <th>Wednesday</th>\n",
       "      <th>Thursday</th>\n",
       "      <th>Friday</th>\n",
       "      <th>Saturday</th>\n",
       "      <th>Sunday</th>\n",
       "    </tr>\n",
       "    <tr>\n",
       "      <th>days</th>\n",
       "      <th></th>\n",
       "      <th></th>\n",
       "      <th></th>\n",
       "      <th></th>\n",
       "      <th></th>\n",
       "      <th></th>\n",
       "      <th></th>\n",
       "    </tr>\n",
       "  </thead>\n",
       "  <tbody>\n",
       "    <tr>\n",
       "      <th>Monday</th>\n",
       "      <td>0.4994</td>\n",
       "      <td>0.3724</td>\n",
       "      <td>0.1575</td>\n",
       "      <td>0.1872</td>\n",
       "      <td>0.37</td>\n",
       "      <td>0.0016</td>\n",
       "      <td>0.0024</td>\n",
       "    </tr>\n",
       "    <tr>\n",
       "      <th>Tuesday</th>\n",
       "      <td>0.3724</td>\n",
       "      <td>0.4994</td>\n",
       "      <td>0.2272</td>\n",
       "      <td>0.2597</td>\n",
       "      <td>0.3073</td>\n",
       "      <td>0.0009</td>\n",
       "      <td>0.0017</td>\n",
       "    </tr>\n",
       "    <tr>\n",
       "      <th>Wednesday</th>\n",
       "      <td>0.1575</td>\n",
       "      <td>0.2272</td>\n",
       "      <td>0.4994</td>\n",
       "      <td>0.4716</td>\n",
       "      <td>0.133</td>\n",
       "      <td>0.0001</td>\n",
       "      <td>0.0002</td>\n",
       "    </tr>\n",
       "    <tr>\n",
       "      <th>Thursday</th>\n",
       "      <td>0.1872</td>\n",
       "      <td>0.2597</td>\n",
       "      <td>0.4716</td>\n",
       "      <td>0.4994</td>\n",
       "      <td>0.1499</td>\n",
       "      <td>0.0003</td>\n",
       "      <td>0.0005</td>\n",
       "    </tr>\n",
       "    <tr>\n",
       "      <th>Friday</th>\n",
       "      <td>0.37</td>\n",
       "      <td>0.3073</td>\n",
       "      <td>0.133</td>\n",
       "      <td>0.1499</td>\n",
       "      <td>0.4994</td>\n",
       "      <td>0.0019</td>\n",
       "      <td>0.0026</td>\n",
       "    </tr>\n",
       "    <tr>\n",
       "      <th>Saturday</th>\n",
       "      <td>0.0016</td>\n",
       "      <td>0.0009</td>\n",
       "      <td>0.0001</td>\n",
       "      <td>0.0003</td>\n",
       "      <td>0.0019</td>\n",
       "      <td>0.4994</td>\n",
       "      <td>0.3781</td>\n",
       "    </tr>\n",
       "    <tr>\n",
       "      <th>Sunday</th>\n",
       "      <td>0.0024</td>\n",
       "      <td>0.0017</td>\n",
       "      <td>0.0002</td>\n",
       "      <td>0.0005</td>\n",
       "      <td>0.0026</td>\n",
       "      <td>0.3781</td>\n",
       "      <td>0.4994</td>\n",
       "    </tr>\n",
       "  </tbody>\n",
       "</table>\n",
       "</div>"
      ],
      "text/plain": [
       "           Monday Tuesday Wednesday Thursday  Friday Saturday  Sunday\n",
       "days                                                                 \n",
       "Monday     0.4994  0.3724    0.1575   0.1872    0.37   0.0016  0.0024\n",
       "Tuesday    0.3724  0.4994    0.2272   0.2597  0.3073   0.0009  0.0017\n",
       "Wednesday  0.1575  0.2272    0.4994   0.4716   0.133   0.0001  0.0002\n",
       "Thursday   0.1872  0.2597    0.4716   0.4994  0.1499   0.0003  0.0005\n",
       "Friday       0.37  0.3073     0.133   0.1499  0.4994   0.0019  0.0026\n",
       "Saturday   0.0016  0.0009    0.0001   0.0003  0.0019   0.4994  0.3781\n",
       "Sunday     0.0024  0.0017    0.0002   0.0005  0.0026   0.3781  0.4994"
      ]
     },
     "execution_count": 54,
     "metadata": {},
     "output_type": "execute_result"
    }
   ],
   "source": [
    "# P-values for non-subscribers\n",
    "nonsubs_MWtest_table_pvalues.set_index('days')"
   ]
  },
  {
   "cell_type": "code",
   "execution_count": 55,
   "metadata": {},
   "outputs": [
    {
     "data": {
      "text/html": [
       "<div>\n",
       "<style>\n",
       "    .dataframe thead tr:only-child th {\n",
       "        text-align: right;\n",
       "    }\n",
       "\n",
       "    .dataframe thead th {\n",
       "        text-align: left;\n",
       "    }\n",
       "\n",
       "    .dataframe tbody tr th {\n",
       "        vertical-align: top;\n",
       "    }\n",
       "</style>\n",
       "<table border=\"1\" class=\"dataframe\">\n",
       "  <thead>\n",
       "    <tr style=\"text-align: right;\">\n",
       "      <th></th>\n",
       "      <th>Monday</th>\n",
       "      <th>Tuesday</th>\n",
       "      <th>Wednesday</th>\n",
       "      <th>Thursday</th>\n",
       "      <th>Friday</th>\n",
       "      <th>Saturday</th>\n",
       "      <th>Sunday</th>\n",
       "    </tr>\n",
       "    <tr>\n",
       "      <th>days</th>\n",
       "      <th></th>\n",
       "      <th></th>\n",
       "      <th></th>\n",
       "      <th></th>\n",
       "      <th></th>\n",
       "      <th></th>\n",
       "      <th></th>\n",
       "    </tr>\n",
       "  </thead>\n",
       "  <tbody>\n",
       "    <tr>\n",
       "      <th>Monday</th>\n",
       "      <td></td>\n",
       "      <td></td>\n",
       "      <td></td>\n",
       "      <td></td>\n",
       "      <td></td>\n",
       "      <td>*</td>\n",
       "      <td>*</td>\n",
       "    </tr>\n",
       "    <tr>\n",
       "      <th>Tuesday</th>\n",
       "      <td></td>\n",
       "      <td></td>\n",
       "      <td></td>\n",
       "      <td></td>\n",
       "      <td></td>\n",
       "      <td>*</td>\n",
       "      <td>*</td>\n",
       "    </tr>\n",
       "    <tr>\n",
       "      <th>Wednesday</th>\n",
       "      <td></td>\n",
       "      <td></td>\n",
       "      <td></td>\n",
       "      <td></td>\n",
       "      <td></td>\n",
       "      <td>*</td>\n",
       "      <td>*</td>\n",
       "    </tr>\n",
       "    <tr>\n",
       "      <th>Thursday</th>\n",
       "      <td></td>\n",
       "      <td></td>\n",
       "      <td></td>\n",
       "      <td></td>\n",
       "      <td></td>\n",
       "      <td>*</td>\n",
       "      <td>*</td>\n",
       "    </tr>\n",
       "    <tr>\n",
       "      <th>Friday</th>\n",
       "      <td></td>\n",
       "      <td></td>\n",
       "      <td></td>\n",
       "      <td></td>\n",
       "      <td></td>\n",
       "      <td>*</td>\n",
       "      <td>*</td>\n",
       "    </tr>\n",
       "    <tr>\n",
       "      <th>Saturday</th>\n",
       "      <td>*</td>\n",
       "      <td>*</td>\n",
       "      <td>*</td>\n",
       "      <td>*</td>\n",
       "      <td>*</td>\n",
       "      <td></td>\n",
       "      <td></td>\n",
       "    </tr>\n",
       "    <tr>\n",
       "      <th>Sunday</th>\n",
       "      <td>*</td>\n",
       "      <td>*</td>\n",
       "      <td>*</td>\n",
       "      <td>*</td>\n",
       "      <td>*</td>\n",
       "      <td></td>\n",
       "      <td></td>\n",
       "    </tr>\n",
       "  </tbody>\n",
       "</table>\n",
       "</div>"
      ],
      "text/plain": [
       "          Monday Tuesday Wednesday Thursday Friday Saturday Sunday\n",
       "days                                                              \n",
       "Monday                                                    *      *\n",
       "Tuesday                                                   *      *\n",
       "Wednesday                                                 *      *\n",
       "Thursday                                                  *      *\n",
       "Friday                                                    *      *\n",
       "Saturday       *       *         *        *      *                \n",
       "Sunday         *       *         *        *      *                "
      ]
     },
     "execution_count": 55,
     "metadata": {},
     "output_type": "execute_result"
    }
   ],
   "source": [
    "# non-subscribers: Significance indicated as *\n",
    "nonsubs_MWtest_table_significance.set_index('days')"
   ]
  },
  {
   "cell_type": "markdown",
   "metadata": {},
   "source": [
    "<b>Hourly Usage pattern: subscribers vs non-subscribers</b>"
   ]
  },
  {
   "cell_type": "code",
   "execution_count": 56,
   "metadata": {},
   "outputs": [
    {
     "data": {
      "image/png": "[encoded data removed]",
      "text/plain": [
       "<matplotlib.figure.Figure at 0x1250e2278>"
      ]
     },
     "metadata": {},
     "output_type": "display_data"
    }
   ],
   "source": [
    "# Group the subscriber and non-subscriber date by the hour of the day of the ride\n",
    "# Plot frequency distribution for each set\n",
    "usage_by_hour_usertype = data.groupby(['start_hour','usertype']).size().unstack('usertype')\n",
    "fig, (ax11, ax12) = plt.subplots(1, 2, figsize=(15, 7), sharey=False, sharex=True)\n",
    "ax11.bar(usage_by_hour_usertype.index, usage_by_hour_usertype['Subscriber'], color='aqua', alpha=0.4)\n",
    "ax11.set_title('Hourly Rides by Subscribers', fontsize=18)\n",
    "ax11.set_xlabel('Hour of the day', fontsize=16)\n",
    "ax11.set_ylabel('Number of rides', fontsize=16)\n",
    "for tick in ax11.xaxis.get_major_ticks():\n",
    "    tick.label.set_fontsize(14)\n",
    "for tick in ax11.yaxis.get_major_ticks():\n",
    "    tick.label.set_fontsize(14)\n",
    "    \n",
    "ax12.bar(usage_by_hour_usertype.index, usage_by_hour_usertype['Customer'], color='yellowgreen', alpha=0.5)\n",
    "ax12.set_title('Hourly Rides by Non-subscribers', fontsize=18)\n",
    "ax12.set_xlabel('Hour of the day', fontsize=16)\n",
    "ax12.set_ylabel('Number of rides', fontsize=16)\n",
    "for tick in ax12.xaxis.get_major_ticks():\n",
    "    tick.label.set_fontsize(14)\n",
    "for tick in ax12.yaxis.get_major_ticks():\n",
    "    tick.label.set_fontsize(14)"
   ]
  },
  {
   "cell_type": "code",
   "execution_count": 57,
   "metadata": {
    "collapsed": true
   },
   "outputs": [],
   "source": [
    "# Prepare datasets for plotting differently\n",
    "hourly_subs = data[data.usertype == 'Subscriber']['start_hour']\n",
    "hourly_nonsubs = data[data.usertype == 'Customer']['start_hour']"
   ]
  },
  {
   "cell_type": "code",
   "execution_count": 58,
   "metadata": {},
   "outputs": [
    {
     "data": {
      "text/plain": [
       "<matplotlib.legend.Legend at 0x120792b00>"
      ]
     },
     "execution_count": 58,
     "metadata": {},
     "output_type": "execute_result"
    },
    {
     "data": {
      "image/png": "[encoded data removed]",
      "text/plain": [
       "<matplotlib.figure.Figure at 0x126959e48>"
      ]
     },
     "metadata": {},
     "output_type": "display_data"
    }
   ],
   "source": [
    "# This time normalized frequency distribution plotted\n",
    "plt.figure(figsize=(7, 7))\n",
    "plt.hist(hourly_subs, bins=24, normed=True, color='aqua', alpha=0.5, label='Subscribers')\n",
    "plt.hist(hourly_nonsubs, bins=24, normed=True, color='yellowgreen', alpha=0.5, label='Non-subscribers')\n",
    "plt.title('Usage by hour: Subscribers vs Non-subscribers', fontsize=18)\n",
    "plt.xlabel('Hour of the day', fontsize=16)\n",
    "plt.ylabel('Fraction of total rides', fontsize=16)\n",
    "plt.xticks(fontsize=14)\n",
    "plt.yticks(fontsize=14)\n",
    "plt.legend(loc='upper right', fontsize=16)\n",
    "plt.xlim([-0.5, 23.5])\n",
    "plt.ylim([0, 0.12])\n",
    "plt.legend(loc='upper left', fontsize=14)"
   ]
  },
  {
   "cell_type": "code",
   "execution_count": 59,
   "metadata": {},
   "outputs": [
    {
     "name": "stdout",
     "output_type": "stream",
     "text": [
      "----- Test for normality and test for differences between subs and non-subs -----\n",
      "Is subscriber trip duration normally distributed?: No (p-value=0.000000)\n",
      "Is non-subscriber trip duration normally distributed?: No (p-value=0.000000)\n",
      "----- Are subscriber and non-subscriber trip duration patterns different? -----\n",
      "Mann-Whitney U test: Yes (p-value=0.000000)\n",
      "T test: Yes (p-value=0.000000)\n"
     ]
    }
   ],
   "source": [
    "# Normality Test & Test for significant difference\n",
    "hourly_subs_normaltest_ressult = scs.normaltest(hourly_subs)\n",
    "hourly_nonsubs_normaltest_ressult = scs.normaltest(hourly_nonsubs)\n",
    "\n",
    "hourly_type_MWtest_result = scs.mannwhitneyu(hourly_subs, hourly_nonsubs)\n",
    "hourly_type_Ttest_result = scs.ttest_ind(hourly_subs, hourly_nonsubs)\n",
    "\n",
    "print('----- Test for normality and test for differences between subs and non-subs -----')\n",
    "print('Is subscriber trip duration normally distributed?: %s (p-value=%f)'\\\n",
    "      % (normal_or_not(hourly_subs_normaltest_ressult), hourly_subs_normaltest_ressult.pvalue))\n",
    "print('Is non-subscriber trip duration normally distributed?: %s (p-value=%f)'\\\n",
    "      % (normal_or_not(hourly_nonsubs_normaltest_ressult), hourly_nonsubs_normaltest_ressult.pvalue))\n",
    "\n",
    "print('----- Are subscriber and non-subscriber trip duration patterns different? -----')\n",
    "print('Mann-Whitney U test: %s (p-value=%f)'\\\n",
    "                  % (significantly_different_or_not(hourly_type_MWtest_result), hourly_type_MWtest_result.pvalue))\n",
    "print('T test: %s (p-value=%f)'\\\n",
    "                  % (significantly_different_or_not(hourly_type_Ttest_result), hourly_type_Ttest_result.pvalue))"
   ]
  },
  {
   "cell_type": "code",
   "execution_count": 60,
   "metadata": {},
   "outputs": [
    {
     "data": {
      "text/plain": [
       "count    34591106\n",
       "mean           13\n",
       "std             4\n",
       "min             0\n",
       "25%             9\n",
       "50%            15\n",
       "75%            18\n",
       "max            23\n",
       "Name: start_hour, dtype: int64"
      ]
     },
     "execution_count": 60,
     "metadata": {},
     "output_type": "execute_result"
    }
   ],
   "source": [
    "hourly_subs.describe().astype(int)"
   ]
  },
  {
   "cell_type": "code",
   "execution_count": 61,
   "metadata": {},
   "outputs": [
    {
     "data": {
      "text/plain": [
       "count    1282787\n",
       "mean          14\n",
       "std            4\n",
       "min            0\n",
       "25%           12\n",
       "50%           15\n",
       "75%           18\n",
       "max           23\n",
       "Name: start_hour, dtype: int64"
      ]
     },
     "execution_count": 61,
     "metadata": {},
     "output_type": "execute_result"
    }
   ],
   "source": [
    "hourly_nonsubs.describe().astype(int)"
   ]
  },
  {
   "cell_type": "code",
   "execution_count": null,
   "metadata": {
    "collapsed": true
   },
   "outputs": [],
   "source": []
  }
 ],
 "metadata": {
  "kernelspec": {
   "display_name": "Python 3",
   "language": "python",
   "name": "python3"
  },
  "language_info": {
   "codemirror_mode": {
    "name": "ipython",
    "version": 3
   },
   "file_extension": ".py",
   "mimetype": "text/x-python",
   "name": "python",
   "nbconvert_exporter": "python",
   "pygments_lexer": "ipython3",
   "version": "3.6.1"
  }
 },
 "nbformat": 4,
 "nbformat_minor": 2
}
