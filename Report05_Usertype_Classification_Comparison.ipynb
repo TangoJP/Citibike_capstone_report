{
 "cells": [
  {
   "cell_type": "markdown",
   "metadata": {},
   "source": [
    "<a id='sec0'></a>\n",
    "# UserType Classification without Resampling\n",
    "- Test with Multinomial Naive Bayes, Decision Tree, and Random Forest classifiers\n",
    "- Compare their performance by various metrics"
   ]
  },
  {
   "cell_type": "code",
   "execution_count": 1,
   "metadata": {
    "collapsed": true
   },
   "outputs": [],
   "source": [
    "import numpy as np\n",
    "import pandas as pd\n",
    "import matplotlib.pyplot as plt\n",
    "from sklearn.model_selection import train_test_split#, GridSearchCV\n",
    "from sklearn.naive_bayes import MultinomialNB\n",
    "from sklearn.tree import DecisionTreeClassifier\n",
    "from sklearn.ensemble import RandomForestClassifier\n",
    "#from imblearn.under_sampling import TomekLinks, RandomUnderSampler\n",
    "from collections import Counter\n",
    "\n",
    "import my_scoring_functions as msf\n",
    "\n",
    "%matplotlib inline"
   ]
  },
  {
   "cell_type": "markdown",
   "metadata": {},
   "source": [
    "# Setting up Data (This time tried to label subscriber as 0)"
   ]
  },
  {
   "cell_type": "code",
   "execution_count": 2,
   "metadata": {
    "collapsed": true
   },
   "outputs": [],
   "source": [
    "d2013 = pd.read_csv('../data/for_predictions/2013_membership_pred.csv')\n",
    "d2014 = pd.read_csv('../data/for_predictions/2014_membership_pred.csv')\n",
    "d2015 = pd.read_csv('../data/for_predictions/2015_membership_pred.csv')\n",
    "d2016 = pd.read_csv('../data/for_predictions/2016_membership_pred.csv')\n",
    "d2017 = pd.read_csv('../data/for_predictions/2017_membership_pred.csv')"
   ]
  },
  {
   "cell_type": "code",
   "execution_count": 6,
   "metadata": {
    "collapsed": true
   },
   "outputs": [],
   "source": [
    "# Create dataset for the  classification\n",
    "data = pd.concat([d2013, d2014, d2015, d2016, d2017], axis=0)\n",
    "data = data.dropna()\n",
    "del data['gender']"
   ]
  },
  {
   "cell_type": "code",
   "execution_count": 7,
   "metadata": {},
   "outputs": [
    {
     "data": {
      "text/plain": [
       "Index(['tripduration', 'start station latitude', 'start station longitude',\n",
       "       'end station latitude', 'end station longitude', 'start_year',\n",
       "       'start_month', 'start_day', 'start_hour', 'start_dayofweek',\n",
       "       'usertype'],\n",
       "      dtype='object')"
      ]
     },
     "execution_count": 7,
     "metadata": {},
     "output_type": "execute_result"
    }
   ],
   "source": [
    "data.columns"
   ]
  },
  {
   "cell_type": "code",
   "execution_count": 8,
   "metadata": {},
   "outputs": [
    {
     "data": {
      "text/html": [
       "<div>\n",
       "<style>\n",
       "    .dataframe thead tr:only-child th {\n",
       "        text-align: right;\n",
       "    }\n",
       "\n",
       "    .dataframe thead th {\n",
       "        text-align: left;\n",
       "    }\n",
       "\n",
       "    .dataframe tbody tr th {\n",
       "        vertical-align: top;\n",
       "    }\n",
       "</style>\n",
       "<table border=\"1\" class=\"dataframe\">\n",
       "  <thead>\n",
       "    <tr style=\"text-align: right;\">\n",
       "      <th></th>\n",
       "      <th>tripduration</th>\n",
       "      <th>start station latitude</th>\n",
       "      <th>start station longitude</th>\n",
       "      <th>end station latitude</th>\n",
       "      <th>end station longitude</th>\n",
       "      <th>start_year</th>\n",
       "      <th>start_month</th>\n",
       "      <th>start_day</th>\n",
       "      <th>start_hour</th>\n",
       "      <th>start_dayofweek</th>\n",
       "      <th>usertype</th>\n",
       "    </tr>\n",
       "  </thead>\n",
       "  <tbody>\n",
       "    <tr>\n",
       "      <th>0</th>\n",
       "      <td>634</td>\n",
       "      <td>40.753231</td>\n",
       "      <td>-73.970325</td>\n",
       "      <td>40.732219</td>\n",
       "      <td>-73.981656</td>\n",
       "      <td>2013</td>\n",
       "      <td>7</td>\n",
       "      <td>1</td>\n",
       "      <td>0</td>\n",
       "      <td>0</td>\n",
       "      <td>Customer</td>\n",
       "    </tr>\n",
       "    <tr>\n",
       "      <th>1</th>\n",
       "      <td>1547</td>\n",
       "      <td>40.749718</td>\n",
       "      <td>-74.002950</td>\n",
       "      <td>40.746745</td>\n",
       "      <td>-74.007756</td>\n",
       "      <td>2013</td>\n",
       "      <td>7</td>\n",
       "      <td>1</td>\n",
       "      <td>0</td>\n",
       "      <td>0</td>\n",
       "      <td>Customer</td>\n",
       "    </tr>\n",
       "    <tr>\n",
       "      <th>2</th>\n",
       "      <td>178</td>\n",
       "      <td>40.730287</td>\n",
       "      <td>-73.990765</td>\n",
       "      <td>40.730473</td>\n",
       "      <td>-73.986724</td>\n",
       "      <td>2013</td>\n",
       "      <td>7</td>\n",
       "      <td>1</td>\n",
       "      <td>0</td>\n",
       "      <td>0</td>\n",
       "      <td>Subscriber</td>\n",
       "    </tr>\n",
       "    <tr>\n",
       "      <th>3</th>\n",
       "      <td>1580</td>\n",
       "      <td>40.718939</td>\n",
       "      <td>-73.992663</td>\n",
       "      <td>40.769155</td>\n",
       "      <td>-73.981918</td>\n",
       "      <td>2013</td>\n",
       "      <td>7</td>\n",
       "      <td>1</td>\n",
       "      <td>0</td>\n",
       "      <td>0</td>\n",
       "      <td>Customer</td>\n",
       "    </tr>\n",
       "    <tr>\n",
       "      <th>4</th>\n",
       "      <td>757</td>\n",
       "      <td>40.734927</td>\n",
       "      <td>-73.992005</td>\n",
       "      <td>40.720664</td>\n",
       "      <td>-73.985180</td>\n",
       "      <td>2013</td>\n",
       "      <td>7</td>\n",
       "      <td>1</td>\n",
       "      <td>0</td>\n",
       "      <td>0</td>\n",
       "      <td>Subscriber</td>\n",
       "    </tr>\n",
       "  </tbody>\n",
       "</table>\n",
       "</div>"
      ],
      "text/plain": [
       "   tripduration  start station latitude  start station longitude  \\\n",
       "0           634               40.753231               -73.970325   \n",
       "1          1547               40.749718               -74.002950   \n",
       "2           178               40.730287               -73.990765   \n",
       "3          1580               40.718939               -73.992663   \n",
       "4           757               40.734927               -73.992005   \n",
       "\n",
       "   end station latitude  end station longitude  start_year  start_month  \\\n",
       "0             40.732219             -73.981656        2013            7   \n",
       "1             40.746745             -74.007756        2013            7   \n",
       "2             40.730473             -73.986724        2013            7   \n",
       "3             40.769155             -73.981918        2013            7   \n",
       "4             40.720664             -73.985180        2013            7   \n",
       "\n",
       "   start_day  start_hour  start_dayofweek    usertype  \n",
       "0          1           0                0    Customer  \n",
       "1          1           0                0    Customer  \n",
       "2          1           0                0  Subscriber  \n",
       "3          1           0                0    Customer  \n",
       "4          1           0                0  Subscriber  "
      ]
     },
     "execution_count": 8,
     "metadata": {},
     "output_type": "execute_result"
    }
   ],
   "source": [
    "data.head()"
   ]
  },
  {
   "cell_type": "code",
   "execution_count": 9,
   "metadata": {
    "scrolled": true
   },
   "outputs": [
    {
     "data": {
      "text/html": [
       "<div>\n",
       "<style>\n",
       "    .dataframe thead tr:only-child th {\n",
       "        text-align: right;\n",
       "    }\n",
       "\n",
       "    .dataframe thead th {\n",
       "        text-align: left;\n",
       "    }\n",
       "\n",
       "    .dataframe tbody tr th {\n",
       "        vertical-align: top;\n",
       "    }\n",
       "</style>\n",
       "<table border=\"1\" class=\"dataframe\">\n",
       "  <thead>\n",
       "    <tr style=\"text-align: right;\">\n",
       "      <th></th>\n",
       "      <th>tripduration</th>\n",
       "      <th>start station latitude</th>\n",
       "      <th>start station longitude</th>\n",
       "      <th>end station latitude</th>\n",
       "      <th>end station longitude</th>\n",
       "      <th>start_year</th>\n",
       "      <th>start_month</th>\n",
       "      <th>start_day</th>\n",
       "      <th>start_hour</th>\n",
       "      <th>start_dayofweek</th>\n",
       "    </tr>\n",
       "  </thead>\n",
       "  <tbody>\n",
       "    <tr>\n",
       "      <th>count</th>\n",
       "      <td>39096233.0</td>\n",
       "      <td>39096233.0</td>\n",
       "      <td>39096233.0</td>\n",
       "      <td>39096233.0</td>\n",
       "      <td>39096233.0</td>\n",
       "      <td>39096233.0</td>\n",
       "      <td>39096233.0</td>\n",
       "      <td>39096233.0</td>\n",
       "      <td>39096233.0</td>\n",
       "      <td>39096233.0</td>\n",
       "    </tr>\n",
       "    <tr>\n",
       "      <th>mean</th>\n",
       "      <td>920.0</td>\n",
       "      <td>41.0</td>\n",
       "      <td>-74.0</td>\n",
       "      <td>41.0</td>\n",
       "      <td>-74.0</td>\n",
       "      <td>2015.0</td>\n",
       "      <td>7.0</td>\n",
       "      <td>16.0</td>\n",
       "      <td>14.0</td>\n",
       "      <td>3.0</td>\n",
       "    </tr>\n",
       "    <tr>\n",
       "      <th>std</th>\n",
       "      <td>7616.0</td>\n",
       "      <td>0.0</td>\n",
       "      <td>0.0</td>\n",
       "      <td>0.0</td>\n",
       "      <td>0.0</td>\n",
       "      <td>1.0</td>\n",
       "      <td>3.0</td>\n",
       "      <td>9.0</td>\n",
       "      <td>5.0</td>\n",
       "      <td>2.0</td>\n",
       "    </tr>\n",
       "    <tr>\n",
       "      <th>min</th>\n",
       "      <td>60.0</td>\n",
       "      <td>0.0</td>\n",
       "      <td>-74.0</td>\n",
       "      <td>0.0</td>\n",
       "      <td>-74.0</td>\n",
       "      <td>2013.0</td>\n",
       "      <td>1.0</td>\n",
       "      <td>1.0</td>\n",
       "      <td>0.0</td>\n",
       "      <td>0.0</td>\n",
       "    </tr>\n",
       "    <tr>\n",
       "      <th>25%</th>\n",
       "      <td>385.0</td>\n",
       "      <td>41.0</td>\n",
       "      <td>-74.0</td>\n",
       "      <td>41.0</td>\n",
       "      <td>-74.0</td>\n",
       "      <td>2014.0</td>\n",
       "      <td>5.0</td>\n",
       "      <td>8.0</td>\n",
       "      <td>10.0</td>\n",
       "      <td>1.0</td>\n",
       "    </tr>\n",
       "    <tr>\n",
       "      <th>50%</th>\n",
       "      <td>623.0</td>\n",
       "      <td>41.0</td>\n",
       "      <td>-74.0</td>\n",
       "      <td>41.0</td>\n",
       "      <td>-74.0</td>\n",
       "      <td>2015.0</td>\n",
       "      <td>8.0</td>\n",
       "      <td>16.0</td>\n",
       "      <td>15.0</td>\n",
       "      <td>3.0</td>\n",
       "    </tr>\n",
       "    <tr>\n",
       "      <th>75%</th>\n",
       "      <td>1042.0</td>\n",
       "      <td>41.0</td>\n",
       "      <td>-74.0</td>\n",
       "      <td>41.0</td>\n",
       "      <td>-74.0</td>\n",
       "      <td>2016.0</td>\n",
       "      <td>10.0</td>\n",
       "      <td>23.0</td>\n",
       "      <td>18.0</td>\n",
       "      <td>4.0</td>\n",
       "    </tr>\n",
       "    <tr>\n",
       "      <th>max</th>\n",
       "      <td>8933552.0</td>\n",
       "      <td>41.0</td>\n",
       "      <td>0.0</td>\n",
       "      <td>41.0</td>\n",
       "      <td>0.0</td>\n",
       "      <td>2017.0</td>\n",
       "      <td>12.0</td>\n",
       "      <td>31.0</td>\n",
       "      <td>23.0</td>\n",
       "      <td>6.0</td>\n",
       "    </tr>\n",
       "  </tbody>\n",
       "</table>\n",
       "</div>"
      ],
      "text/plain": [
       "       tripduration  start station latitude  start station longitude  \\\n",
       "count    39096233.0              39096233.0               39096233.0   \n",
       "mean          920.0                    41.0                    -74.0   \n",
       "std          7616.0                     0.0                      0.0   \n",
       "min            60.0                     0.0                    -74.0   \n",
       "25%           385.0                    41.0                    -74.0   \n",
       "50%           623.0                    41.0                    -74.0   \n",
       "75%          1042.0                    41.0                    -74.0   \n",
       "max       8933552.0                    41.0                      0.0   \n",
       "\n",
       "       end station latitude  end station longitude  start_year  start_month  \\\n",
       "count            39096233.0             39096233.0  39096233.0   39096233.0   \n",
       "mean                   41.0                  -74.0      2015.0          7.0   \n",
       "std                     0.0                    0.0         1.0          3.0   \n",
       "min                     0.0                  -74.0      2013.0          1.0   \n",
       "25%                    41.0                  -74.0      2014.0          5.0   \n",
       "50%                    41.0                  -74.0      2015.0          8.0   \n",
       "75%                    41.0                  -74.0      2016.0         10.0   \n",
       "max                    41.0                    0.0      2017.0         12.0   \n",
       "\n",
       "        start_day  start_hour  start_dayofweek  \n",
       "count  39096233.0  39096233.0       39096233.0  \n",
       "mean         16.0        14.0              3.0  \n",
       "std           9.0         5.0              2.0  \n",
       "min           1.0         0.0              0.0  \n",
       "25%           8.0        10.0              1.0  \n",
       "50%          16.0        15.0              3.0  \n",
       "75%          23.0        18.0              4.0  \n",
       "max          31.0        23.0              6.0  "
      ]
     },
     "execution_count": 9,
     "metadata": {},
     "output_type": "execute_result"
    }
   ],
   "source": [
    "data.describe().round(0)"
   ]
  },
  {
   "cell_type": "code",
   "execution_count": 10,
   "metadata": {
    "collapsed": true
   },
   "outputs": [],
   "source": [
    "# Store name of the features for later use\n",
    "feature_labels = data.columns[:-1]"
   ]
  },
  {
   "cell_type": "code",
   "execution_count": 11,
   "metadata": {
    "collapsed": true
   },
   "outputs": [],
   "source": [
    "# Create X and y for sklearn (non-subscribers will be given class=1)\n",
    "X = data[data.columns[:-1]].astype(np.float)\n",
    "y = (data['usertype'] == 'Customer').values.astype(np.int)"
   ]
  },
  {
   "cell_type": "code",
   "execution_count": 12,
   "metadata": {
    "collapsed": true
   },
   "outputs": [],
   "source": [
    "# Clear memory\n",
    "data = None"
   ]
  },
  {
   "cell_type": "markdown",
   "metadata": {},
   "source": [
    "<b>Class frequency in the original dataset</b>"
   ]
  },
  {
   "cell_type": "code",
   "execution_count": 13,
   "metadata": {},
   "outputs": [
    {
     "name": "stdout",
     "output_type": "stream",
     "text": [
      "==== Original Dataset ====\n",
      "Total number of Rides: 39096233\n",
      "Total number of Rides by Subscribers: 34723683 (88.82% of total rides)\n",
      "Total number of Rides by Non-subscribers: 4372550 (11.18% of total rides)\n"
     ]
    }
   ],
   "source": [
    "print('==== Original Dataset ====')\n",
    "total_number_rides = len(y)\n",
    "total_number_subscribers = Counter(y)[0]\n",
    "total_number_nonsubscribers = Counter(y)[1]\n",
    "subs_perc = 100*total_number_subscribers / total_number_rides\n",
    "nonsubs_perc = 100*total_number_nonsubscribers / total_number_rides\n",
    "original_stats = {'total': total_number_rides, \n",
    "                              'numbers': [total_number_subscribers, total_number_nonsubscribers],\n",
    "                              'percentages': [subs_perc, nonsubs_perc]}\n",
    "print('Total number of Rides: %d' % total_number_rides)\n",
    "print('Total number of Rides by Subscribers: %d (%.2f%% of total rides)' % (total_number_subscribers, subs_perc))\n",
    "print('Total number of Rides by Non-subscribers: %d (%.2f%% of total rides)' % (total_number_nonsubscribers, nonsubs_perc))"
   ]
  },
  {
   "cell_type": "markdown",
   "metadata": {},
   "source": [
    "# Initial classification with NaiveBayes, DecisionTree, and RandomForest"
   ]
  },
  {
   "cell_type": "code",
   "execution_count": 14,
   "metadata": {
    "collapsed": true
   },
   "outputs": [],
   "source": [
    "# Split the data into train and test sets\n",
    "X_train, X_test, y_train, y_test = train_test_split(X, y, test_size=0.4)"
   ]
  },
  {
   "cell_type": "code",
   "execution_count": 15,
   "metadata": {},
   "outputs": [
    {
     "name": "stdout",
     "output_type": "stream",
     "text": [
      "CPU times: user 6.76 s, sys: 6.4 s, total: 13.2 s\n",
      "Wall time: 15.4 s\n"
     ]
    }
   ],
   "source": [
    "%%time\n",
    "# Train Naive Bayes\n",
    "Xnbc_train = X_train.copy()\n",
    "Xnbc_test = X_test.copy()\n",
    "Xnbc_train.iloc[:, [2, 4]] = np.abs(Xnbc_train.iloc[:, [2, 4]])\n",
    "Xnbc_test.iloc[:, [2, 4]] = np.abs(Xnbc_test.iloc[:, [2, 4]])\n",
    "\n",
    "nbc = MultinomialNB()\n",
    "nbc.fit(Xnbc_train, y_train)"
   ]
  },
  {
   "cell_type": "code",
   "execution_count": 16,
   "metadata": {},
   "outputs": [
    {
     "name": "stdout",
     "output_type": "stream",
     "text": [
      "CPU times: user 10min 37s, sys: 2.41 s, total: 10min 39s\n",
      "Wall time: 10min 40s\n"
     ]
    }
   ],
   "source": [
    "%%time\n",
    "# Train Decision Tree\n",
    "dtc = DecisionTreeClassifier()\n",
    "dtc.fit(X_train, y_train)"
   ]
  },
  {
   "cell_type": "code",
   "execution_count": 17,
   "metadata": {},
   "outputs": [
    {
     "name": "stdout",
     "output_type": "stream",
     "text": [
      "CPU times: user 52min 32s, sys: 32.3 s, total: 53min 4s\n",
      "Wall time: 15min 44s\n"
     ]
    }
   ],
   "source": [
    "%%time\n",
    "# Train Random Forest\n",
    "rfc = RandomForestClassifier(n_jobs=4)\n",
    "rfc.fit(X_train, y_train)"
   ]
  },
  {
   "cell_type": "code",
   "execution_count": 18,
   "metadata": {},
   "outputs": [
    {
     "name": "stdout",
     "output_type": "stream",
     "text": [
      "CPU times: user 1min 52s, sys: 27.1 s, total: 2min 19s\n",
      "Wall time: 2min 8s\n"
     ]
    }
   ],
   "source": [
    "%%time\n",
    "# Test Naive Bayes\n",
    "nbc_results = msf.score_clf2(nbc, Xnbc_test, y_test, X_train=Xnbc_train, y_train=y_train)"
   ]
  },
  {
   "cell_type": "code",
   "execution_count": 19,
   "metadata": {},
   "outputs": [
    {
     "name": "stdout",
     "output_type": "stream",
     "text": [
      "CPU times: user 2min 8s, sys: 18.7 s, total: 2min 26s\n",
      "Wall time: 3min 15s\n"
     ]
    }
   ],
   "source": [
    "%%time\n",
    "# Test Decision Tree\n",
    "dtc_results = msf.score_clf2(dtc, X_test, y_test, X_train=X_train, y_train=y_train)"
   ]
  },
  {
   "cell_type": "code",
   "execution_count": 20,
   "metadata": {},
   "outputs": [
    {
     "name": "stdout",
     "output_type": "stream",
     "text": [
      "CPU times: user 13min 42s, sys: 34.2 s, total: 14min 17s\n",
      "Wall time: 5min 19s\n"
     ]
    }
   ],
   "source": [
    "%%time\n",
    "# Test Random Forest\n",
    "rfc_results = msf.score_clf2(rfc, X_test, y_test, X_train=X_train, y_train=y_train)"
   ]
  },
  {
   "cell_type": "code",
   "execution_count": 21,
   "metadata": {
    "scrolled": false
   },
   "outputs": [
    {
     "name": "stdout",
     "output_type": "stream",
     "text": [
      "==== Naive Bayes Metrics on Test Set ====\n",
      "Accuracy: 0.818655\n",
      "Precision: 0.307429\n",
      "Recall: 0.497085\n",
      "F-Score: 0.379903\n",
      "Brier Score: 0.180811\n",
      "Average Precision Score: 0.425955\n",
      "Confusion Matrix:  [[11933801  1957051]\n",
      " [  878915   868727]]\n",
      "==== Naive Bayes Metrics on Train Set ====\n",
      "Accuracy: 0.818597\n",
      "Precision: 0.307728\n",
      "Recall: 0.497054\n",
      "F-Score: 0.380121\n",
      "Brier Score: 0.180879\n",
      "Average Precision Score: 0.426036\n",
      "Confusion Matrix:  [[17897706  2935125]\n",
      " [ 1320188  1304720]]\n",
      "\n",
      "\n",
      "==== Decision Tree Metrics on Test Set ====\n",
      "Accuracy: 0.880348\n",
      "Precision: 0.468571\n",
      "Recall: 0.526915\n",
      "F-Score: 0.496034\n",
      "Brier Score: 0.119649\n",
      "Average Precision Score: 0.524185\n",
      "Confusion Matrix:  [[12846463  1044389]\n",
      " [  826783   920859]]\n",
      "==== Decision Tree Metrics on Train Set ====\n",
      "Accuracy: 0.999963\n",
      "Precision: 0.999999\n",
      "Recall: 0.999674\n",
      "F-Score: 0.999836\n",
      "Brier Score: 0.000018\n",
      "Average Precision Score: 1.000000\n",
      "Confusion Matrix:  [[20832829        2]\n",
      " [     857  2624051]]\n",
      "--------------- Feature Importances ---------------\n",
      " 1) tripduration         0.278036\n",
      " 2) start station latitude 0.107912\n",
      " 3) end station latitude 0.101772\n",
      " 4) start station longitude 0.094961\n",
      " 5) start_day            0.094460\n",
      " 6) end station longitude 0.090613\n",
      " 7) start_hour           0.087048\n",
      " 8) start_dayofweek      0.067510\n",
      " 9) start_month          0.050639\n",
      "10) start_year           0.027049\n",
      "\n",
      "\n",
      "\n",
      "\n",
      "==== Random Forest Metrics on Test Set ====\n",
      "Accuracy: 0.923392\n",
      "Precision: 0.770295\n",
      "Recall: 0.448119\n",
      "F-Score: 0.566612\n",
      "Brier Score: 0.062643\n",
      "Average Precision Score: 0.645064\n",
      "Confusion Matrix:  [[13657313   233539]\n",
      " [  964490   783152]]\n",
      "==== Random Forest Metrics on Train Set ====\n",
      "Accuracy: 0.991417\n",
      "Precision: 0.996929\n",
      "Recall: 0.926152\n",
      "F-Score: 0.960238\n",
      "Brier Score: 0.011373\n",
      "Average Precision Score: 0.998263\n",
      "Confusion Matrix:  [[20825341     7490]\n",
      " [  193844  2431064]]\n",
      "--------------- Feature Importances ---------------\n",
      " 1) tripduration         0.259968\n",
      " 2) start station latitude 0.110526\n",
      " 3) end station latitude 0.109148\n",
      " 4) start station longitude 0.102813\n",
      " 5) end station longitude 0.100655\n",
      " 6) start_day            0.089388\n",
      " 7) start_hour           0.083783\n",
      " 8) start_dayofweek      0.062278\n",
      " 9) start_month          0.053361\n",
      "10) start_year           0.028080\n",
      "\n",
      "\n",
      "\n",
      "\n"
     ]
    },
    {
     "data": {
      "text/plain": [
       "<matplotlib.legend.Legend at 0x10ca0fe48>"
      ]
     },
     "execution_count": 21,
     "metadata": {},
     "output_type": "execute_result"
    },
    {
     "data": {
      "image/png": "[encoded data removed]",
      "text/plain": [
       "<matplotlib.figure.Figure at 0x10c871ef0>"
      ]
     },
     "metadata": {},
     "output_type": "display_data"
    }
   ],
   "source": [
    "# print and plot test results with cutsom functions (see my_scoring_functions.py)\n",
    "clf_names = ['Naive Bayes', 'Decision Tree', 'Random Forest']\n",
    "results = [nbc_results, dtc_results, rfc_results]\n",
    "\n",
    "fig, (ax1, ax2) = plt.subplots(1, 2, figsize=(11, 5))\n",
    "\n",
    "for i in range(len(clf_names)):\n",
    "    if clf_names[i] == 'Naive Bayes':\n",
    "        msf.print_clf_scores2(results[i], trainset=True, clf_name=clf_names[i])\n",
    "    else:\n",
    "        msf.print_clf_scores2(results[i], trainset=True, clf_name=clf_names[i], feature_labels=feature_labels)\n",
    "    print('\\n')\n",
    "                               \n",
    "    fpr = results[i]['scores']['roc_curve'][0]\n",
    "    tpr = results[i]['scores']['roc_curve'][1]\n",
    "    roc_auc = results[i]['scores']['roc_auc']\n",
    "    ax1.plot(fpr, tpr, ls='-', label='%s (ROC AUC = %0.2f)' % (clf_names[i], roc_auc))\n",
    "    \n",
    "    # Precision-Recall Curve to be implemented here\n",
    "    prec = results[i]['scores']['pr_curve'][0]\n",
    "    rec = results[i]['scores']['pr_curve'][1]      \n",
    "    ax2.plot(prec, rec, label='%s' % clf_names[i])\n",
    "\n",
    "x = np.linspace(0, 1, 10)\n",
    "y = np.linspace(0, 1, 10)                               \n",
    "ax1.plot(x, y, ls='--')\n",
    "ax1.set_title('ROC Curves', fontsize=16)\n",
    "ax1.set_xlabel('False Positive Rate', fontsize=14)\n",
    "ax1.set_ylabel('True Positive Rate', fontsize=14)\n",
    "ax1.legend(loc='lower right')\n",
    "\n",
    "ax2.set_title('Precision-Recall Curve', fontsize=16)\n",
    "ax2.set_xlabel('Precision', fontsize=14)\n",
    "ax2.set_ylabel('Recall', fontsize=14)\n",
    "ax2.legend(loc='lower left')                             "
   ]
  },
  {
   "cell_type": "code",
   "execution_count": 22,
   "metadata": {
    "collapsed": true
   },
   "outputs": [],
   "source": [
    "# Create a table fo summarize the results\n",
    "data_summary = [nbc_results['scores_train'], nbc_results['scores'], \n",
    "                                dtc_results['scores_train'], dtc_results['scores'], \n",
    "                                rfc_results['scores_train'], rfc_results['scores']]\n",
    "summary = pd.DataFrame(data_summary)\n",
    "summary['Classifier'] = ['Multinomial Naive Bayes', 'Multinomial Naive Bayes',\n",
    "                                           'Decision Tree', 'Decision Tree',\n",
    "                                           'Rando Forest', 'Rando Forest']\n",
    "summary['dataset type'] = ['train', 'test', 'train', 'test', 'train', 'test',]\n",
    "summary = summary[['Classifier', 'dataset type', 'accuracy', 'precision', 'recall', 'f1', \n",
    "                                               'average_precision_score', 'brier']]"
   ]
  },
  {
   "cell_type": "code",
   "execution_count": 23,
   "metadata": {},
   "outputs": [
    {
     "name": "stdout",
     "output_type": "stream",
     "text": [
      "==== Performance of Classifiers ====\n"
     ]
    },
    {
     "data": {
      "text/html": [
       "<div>\n",
       "<style>\n",
       "    .dataframe thead tr:only-child th {\n",
       "        text-align: right;\n",
       "    }\n",
       "\n",
       "    .dataframe thead th {\n",
       "        text-align: left;\n",
       "    }\n",
       "\n",
       "    .dataframe tbody tr th {\n",
       "        vertical-align: top;\n",
       "    }\n",
       "</style>\n",
       "<table border=\"1\" class=\"dataframe\">\n",
       "  <thead>\n",
       "    <tr style=\"text-align: right;\">\n",
       "      <th></th>\n",
       "      <th>Classifier</th>\n",
       "      <th>dataset type</th>\n",
       "      <th>accuracy</th>\n",
       "      <th>precision</th>\n",
       "      <th>recall</th>\n",
       "      <th>f1</th>\n",
       "      <th>average_precision_score</th>\n",
       "      <th>brier</th>\n",
       "    </tr>\n",
       "  </thead>\n",
       "  <tbody>\n",
       "    <tr>\n",
       "      <th>0</th>\n",
       "      <td>Multinomial Naive Bayes</td>\n",
       "      <td>train</td>\n",
       "      <td>0.818597</td>\n",
       "      <td>0.307728</td>\n",
       "      <td>0.497054</td>\n",
       "      <td>0.380121</td>\n",
       "      <td>0.426036</td>\n",
       "      <td>0.180879</td>\n",
       "    </tr>\n",
       "    <tr>\n",
       "      <th>1</th>\n",
       "      <td>Multinomial Naive Bayes</td>\n",
       "      <td>test</td>\n",
       "      <td>0.818655</td>\n",
       "      <td>0.307429</td>\n",
       "      <td>0.497085</td>\n",
       "      <td>0.379903</td>\n",
       "      <td>0.425955</td>\n",
       "      <td>0.180811</td>\n",
       "    </tr>\n",
       "    <tr>\n",
       "      <th>2</th>\n",
       "      <td>Decision Tree</td>\n",
       "      <td>train</td>\n",
       "      <td>0.999963</td>\n",
       "      <td>0.999999</td>\n",
       "      <td>0.999674</td>\n",
       "      <td>0.999836</td>\n",
       "      <td>1.000000</td>\n",
       "      <td>0.000018</td>\n",
       "    </tr>\n",
       "    <tr>\n",
       "      <th>3</th>\n",
       "      <td>Decision Tree</td>\n",
       "      <td>test</td>\n",
       "      <td>0.880348</td>\n",
       "      <td>0.468571</td>\n",
       "      <td>0.526915</td>\n",
       "      <td>0.496034</td>\n",
       "      <td>0.524185</td>\n",
       "      <td>0.119649</td>\n",
       "    </tr>\n",
       "    <tr>\n",
       "      <th>4</th>\n",
       "      <td>Rando Forest</td>\n",
       "      <td>train</td>\n",
       "      <td>0.991417</td>\n",
       "      <td>0.996929</td>\n",
       "      <td>0.926152</td>\n",
       "      <td>0.960238</td>\n",
       "      <td>0.998263</td>\n",
       "      <td>0.011373</td>\n",
       "    </tr>\n",
       "    <tr>\n",
       "      <th>5</th>\n",
       "      <td>Rando Forest</td>\n",
       "      <td>test</td>\n",
       "      <td>0.923392</td>\n",
       "      <td>0.770295</td>\n",
       "      <td>0.448119</td>\n",
       "      <td>0.566612</td>\n",
       "      <td>0.645064</td>\n",
       "      <td>0.062643</td>\n",
       "    </tr>\n",
       "  </tbody>\n",
       "</table>\n",
       "</div>"
      ],
      "text/plain": [
       "                Classifier dataset type  accuracy  precision    recall  \\\n",
       "0  Multinomial Naive Bayes        train  0.818597   0.307728  0.497054   \n",
       "1  Multinomial Naive Bayes         test  0.818655   0.307429  0.497085   \n",
       "2            Decision Tree        train  0.999963   0.999999  0.999674   \n",
       "3            Decision Tree         test  0.880348   0.468571  0.526915   \n",
       "4             Rando Forest        train  0.991417   0.996929  0.926152   \n",
       "5             Rando Forest         test  0.923392   0.770295  0.448119   \n",
       "\n",
       "         f1  average_precision_score     brier  \n",
       "0  0.380121                 0.426036  0.180879  \n",
       "1  0.379903                 0.425955  0.180811  \n",
       "2  0.999836                 1.000000  0.000018  \n",
       "3  0.496034                 0.524185  0.119649  \n",
       "4  0.960238                 0.998263  0.011373  \n",
       "5  0.566612                 0.645064  0.062643  "
      ]
     },
     "execution_count": 23,
     "metadata": {},
     "output_type": "execute_result"
    }
   ],
   "source": [
    "# Print the table\n",
    "print('==== Performance of Classifiers ====')\n",
    "summary"
   ]
  },
  {
   "cell_type": "code",
   "execution_count": null,
   "metadata": {
    "collapsed": true
   },
   "outputs": [],
   "source": []
  },
  {
   "cell_type": "code",
   "execution_count": null,
   "metadata": {
    "collapsed": true
   },
   "outputs": [],
   "source": []
  }
 ],
 "metadata": {
  "kernelspec": {
   "display_name": "Python 3",
   "language": "python",
   "name": "python3"
  },
  "language_info": {
   "codemirror_mode": {
    "name": "ipython",
    "version": 3
   },
   "file_extension": ".py",
   "mimetype": "text/x-python",
   "name": "python",
   "nbconvert_exporter": "python",
   "pygments_lexer": "ipython3",
   "version": "3.6.1"
  }
 },
 "nbformat": 4,
 "nbformat_minor": 2
}
