{
 "cells": [
  {
   "cell_type": "code",
   "execution_count": 1,
   "metadata": {
    "collapsed": true
   },
   "outputs": [],
   "source": [
    "import numpy as np\n",
    "import pandas as pd"
   ]
  },
  {
   "cell_type": "markdown",
   "metadata": {},
   "source": [
    "# Creating Data Files for Membership (User Type) and Gender Classifications"
   ]
  },
  {
   "cell_type": "code",
   "execution_count": 2,
   "metadata": {},
   "outputs": [
    {
     "name": "stderr",
     "output_type": "stream",
     "text": [
      "/Library/Frameworks/Python.framework/Versions/3.6/lib/python3.6/site-packages/IPython/core/interactiveshell.py:2698: DtypeWarning: Columns (14) have mixed types. Specify dtype option on import or set low_memory=False.\n",
      "  interactivity=interactivity, compiler=compiler, result=result)\n"
     ]
    }
   ],
   "source": [
    "d2014_1 = pd.read_csv('./data/processed/yearly/2014_1stHalf_data.csv')\n",
    "d2014_2 = pd.read_csv('./data/processed/yearly/2014_2ndHalf_data.csv')"
   ]
  },
  {
   "cell_type": "code",
   "execution_count": 3,
   "metadata": {
    "collapsed": true
   },
   "outputs": [],
   "source": [
    "d2014 = pd.concat([d2014_1, d2014_2], axis=0)"
   ]
  },
  {
   "cell_type": "code",
   "execution_count": 4,
   "metadata": {},
   "outputs": [
    {
     "name": "stdout",
     "output_type": "stream",
     "text": [
      "30\n"
     ]
    },
    {
     "data": {
      "text/plain": [
       "Index(['Unnamed: 0', 'tripduration', 'starttime', 'stoptime',\n",
       "       'start station id', 'start station name', 'start station latitude',\n",
       "       'start station longitude', 'end station id', 'end station name',\n",
       "       'end station latitude', 'end station longitude', 'bikeid', 'usertype',\n",
       "       'birth year', 'gender', 'start_date', 'start_date_hour', 'start_year',\n",
       "       'start_month', 'start_day', 'start_hour', 'start_dayofweek', 'end_date',\n",
       "       'end_date_hour', 'end_year', 'end_month', 'end_day', 'end_hour',\n",
       "       'end_dayofweek'],\n",
       "      dtype='object')"
      ]
     },
     "execution_count": 4,
     "metadata": {},
     "output_type": "execute_result"
    }
   ],
   "source": [
    "print(len(d2014.columns))\n",
    "d2014.columns"
   ]
  },
  {
   "cell_type": "code",
   "execution_count": 5,
   "metadata": {
    "collapsed": true
   },
   "outputs": [],
   "source": [
    "# Birth year had to be removed from usertype analysis because 2015 data contained no birth year data for 'Customer' category (all NaN)\n",
    "sel_membership_pred = ['tripduration', \n",
    "                                             'start station latitude', 'start station longitude', \n",
    "                                              'end station latitude', 'end station longitude',\n",
    "                                             'start_year', 'start_month', 'start_day', 'start_hour', 'start_dayofweek',\n",
    "                                             'gender',\n",
    "                                             'usertype']\n",
    "\n",
    "sel_gender_pred = ['tripduration', \n",
    "                                    'start station latitude', 'start station longitude', \n",
    "                                   'end station latitude', 'end station longitude',\n",
    "                                   'start_year', 'start_month', 'start_day', 'start_hour', 'start_dayofweek',\n",
    "                                   'birth year', 'usertype',\n",
    "                                   'gender']"
   ]
  },
  {
   "cell_type": "code",
   "execution_count": 6,
   "metadata": {
    "collapsed": true
   },
   "outputs": [],
   "source": [
    "dataset_2014_membership_pred = d2014[sel_membership_pred].dropna()\n",
    "dataset_2014_gender_pred = d2014[sel_gender_pred].dropna()"
   ]
  },
  {
   "cell_type": "code",
   "execution_count": 7,
   "metadata": {
    "collapsed": true
   },
   "outputs": [],
   "source": [
    "dataset_2014_membership_pred.to_csv('./data/for_predictions/2014_membership_pred.csv', index=False)\n",
    "dataset_2014_gender_pred.to_csv('./data/for_predictions/2014_gender_pred.csv', index=False)"
   ]
  },
  {
   "cell_type": "code",
   "execution_count": 8,
   "metadata": {
    "collapsed": true
   },
   "outputs": [],
   "source": [
    "d2014 = None"
   ]
  },
  {
   "cell_type": "markdown",
   "metadata": {},
   "source": [
    "2015"
   ]
  },
  {
   "cell_type": "code",
   "execution_count": 9,
   "metadata": {
    "collapsed": true
   },
   "outputs": [],
   "source": [
    "d2015_1 = pd.read_csv('./data/processed/yearly/2015_1stHalf_data.csv')\n",
    "d2015_2 = pd.read_csv('./data/processed/yearly/2015_2ndHalf_data.csv')"
   ]
  },
  {
   "cell_type": "code",
   "execution_count": 10,
   "metadata": {
    "collapsed": true
   },
   "outputs": [],
   "source": [
    "d2015 = pd.concat([d2015_1, d2015_2], axis=0)"
   ]
  },
  {
   "cell_type": "code",
   "execution_count": 11,
   "metadata": {},
   "outputs": [
    {
     "name": "stdout",
     "output_type": "stream",
     "text": [
      "30\n"
     ]
    },
    {
     "data": {
      "text/plain": [
       "Index(['Unnamed: 0', 'tripduration', 'starttime', 'stoptime',\n",
       "       'start station id', 'start station name', 'start station latitude',\n",
       "       'start station longitude', 'end station id', 'end station name',\n",
       "       'end station latitude', 'end station longitude', 'bikeid', 'usertype',\n",
       "       'birth year', 'gender', 'start_date', 'start_date_hour', 'start_year',\n",
       "       'start_month', 'start_day', 'start_hour', 'start_dayofweek', 'end_date',\n",
       "       'end_date_hour', 'end_year', 'end_month', 'end_day', 'end_hour',\n",
       "       'end_dayofweek'],\n",
       "      dtype='object')"
      ]
     },
     "execution_count": 11,
     "metadata": {},
     "output_type": "execute_result"
    }
   ],
   "source": [
    "print(len(d2015.columns))\n",
    "d2015.columns"
   ]
  },
  {
   "cell_type": "code",
   "execution_count": 12,
   "metadata": {
    "collapsed": true
   },
   "outputs": [],
   "source": [
    "dataset_2015_membership_pred = d2015[sel_membership_pred].dropna()\n",
    "dataset_2015_gender_pred = d2015[sel_gender_pred].dropna()"
   ]
  },
  {
   "cell_type": "code",
   "execution_count": 13,
   "metadata": {
    "collapsed": true
   },
   "outputs": [],
   "source": [
    "dataset_2015_membership_pred.to_csv('./data/for_predictions/2015_membership_pred.csv', index=False)\n",
    "dataset_2015_gender_pred.to_csv('./data/for_predictions/2015_gender_pred.csv', index=False)"
   ]
  },
  {
   "cell_type": "code",
   "execution_count": 14,
   "metadata": {
    "collapsed": true
   },
   "outputs": [],
   "source": [
    "d2015 = None"
   ]
  },
  {
   "cell_type": "markdown",
   "metadata": {},
   "source": [
    "2016"
   ]
  },
  {
   "cell_type": "code",
   "execution_count": 15,
   "metadata": {
    "collapsed": true
   },
   "outputs": [],
   "source": [
    "d2016_1 = pd.read_csv('./data/processed/yearly/2016_1stHalf_data.csv')\n",
    "d2016_2 = pd.read_csv('./data/processed/yearly/2016_2ndHalf_data.csv')"
   ]
  },
  {
   "cell_type": "code",
   "execution_count": 16,
   "metadata": {
    "collapsed": true
   },
   "outputs": [],
   "source": [
    "d2016 = pd.concat([d2016_1, d2016_2], axis=0)"
   ]
  },
  {
   "cell_type": "code",
   "execution_count": 17,
   "metadata": {},
   "outputs": [
    {
     "name": "stdout",
     "output_type": "stream",
     "text": [
      "30\n"
     ]
    },
    {
     "data": {
      "text/plain": [
       "Index(['Unnamed: 0', 'tripduration', 'starttime', 'stoptime',\n",
       "       'start station id', 'start station name', 'start station latitude',\n",
       "       'start station longitude', 'end station id', 'end station name',\n",
       "       'end station latitude', 'end station longitude', 'bikeid', 'usertype',\n",
       "       'birth year', 'gender', 'start_date', 'start_date_hour', 'start_year',\n",
       "       'start_month', 'start_day', 'start_hour', 'start_dayofweek', 'end_date',\n",
       "       'end_date_hour', 'end_year', 'end_month', 'end_day', 'end_hour',\n",
       "       'end_dayofweek'],\n",
       "      dtype='object')"
      ]
     },
     "execution_count": 17,
     "metadata": {},
     "output_type": "execute_result"
    }
   ],
   "source": [
    "print(len(d2016.columns))\n",
    "d2016.columns"
   ]
  },
  {
   "cell_type": "code",
   "execution_count": 18,
   "metadata": {
    "collapsed": true
   },
   "outputs": [],
   "source": [
    "dataset_2016_membership_pred = d2016[sel_membership_pred].dropna()\n",
    "dataset_2016_gender_pred = d2016[sel_gender_pred].dropna()"
   ]
  },
  {
   "cell_type": "code",
   "execution_count": 19,
   "metadata": {
    "collapsed": true
   },
   "outputs": [],
   "source": [
    "dataset_2016_membership_pred.to_csv('./data/for_predictions/2016_membership_pred.csv', index=False)\n",
    "dataset_2016_gender_pred.to_csv('./data/for_predictions/2016_gender_pred.csv', index=False)"
   ]
  },
  {
   "cell_type": "code",
   "execution_count": 20,
   "metadata": {
    "collapsed": true
   },
   "outputs": [],
   "source": [
    "d2016 = None"
   ]
  },
  {
   "cell_type": "markdown",
   "metadata": {},
   "source": [
    "2013 & 2017"
   ]
  },
  {
   "cell_type": "code",
   "execution_count": 21,
   "metadata": {
    "collapsed": true
   },
   "outputs": [],
   "source": [
    "d2017 = pd.read_csv('./data/processed/yearly/2017_1stHalf_data.csv')\n",
    "d2013 = pd.read_csv('./data/processed/yearly/2013_2ndHalf_data.csv')"
   ]
  },
  {
   "cell_type": "code",
   "execution_count": 22,
   "metadata": {},
   "outputs": [
    {
     "name": "stdout",
     "output_type": "stream",
     "text": [
      "30\n"
     ]
    },
    {
     "data": {
      "text/plain": [
       "Index(['Unnamed: 0', 'tripduration', 'starttime', 'stoptime',\n",
       "       'start station id', 'start station name', 'start station latitude',\n",
       "       'start station longitude', 'end station id', 'end station name',\n",
       "       'end station latitude', 'end station longitude', 'bikeid', 'usertype',\n",
       "       'birth year', 'gender', 'start_date', 'start_date_hour', 'start_year',\n",
       "       'start_month', 'start_day', 'start_hour', 'start_dayofweek', 'end_date',\n",
       "       'end_date_hour', 'end_year', 'end_month', 'end_day', 'end_hour',\n",
       "       'end_dayofweek'],\n",
       "      dtype='object')"
      ]
     },
     "execution_count": 22,
     "metadata": {},
     "output_type": "execute_result"
    }
   ],
   "source": [
    "print(len(d2013.columns))\n",
    "d2013.columns"
   ]
  },
  {
   "cell_type": "code",
   "execution_count": 23,
   "metadata": {},
   "outputs": [
    {
     "name": "stdout",
     "output_type": "stream",
     "text": [
      "30\n"
     ]
    },
    {
     "data": {
      "text/plain": [
       "Index(['Unnamed: 0', 'tripduration', 'starttime', 'stoptime',\n",
       "       'start station id', 'start station name', 'start station latitude',\n",
       "       'start station longitude', 'end station id', 'end station name',\n",
       "       'end station latitude', 'end station longitude', 'bikeid', 'usertype',\n",
       "       'birth year', 'gender', 'start_date', 'start_date_hour', 'start_year',\n",
       "       'start_month', 'start_day', 'start_hour', 'start_dayofweek', 'end_date',\n",
       "       'end_date_hour', 'end_year', 'end_month', 'end_day', 'end_hour',\n",
       "       'end_dayofweek'],\n",
       "      dtype='object')"
      ]
     },
     "execution_count": 23,
     "metadata": {},
     "output_type": "execute_result"
    }
   ],
   "source": [
    "print(len(d2017.columns))\n",
    "d2017.columns"
   ]
  },
  {
   "cell_type": "code",
   "execution_count": 24,
   "metadata": {
    "collapsed": true
   },
   "outputs": [],
   "source": [
    "dataset_2013_membership_pred = d2013[sel_membership_pred].dropna()\n",
    "dataset_2013_gender_pred = d2013[sel_gender_pred].dropna()\n",
    "\n",
    "dataset_2017_membership_pred = d2017[sel_membership_pred].dropna()\n",
    "dataset_2017_gender_pred = d2017[sel_gender_pred].dropna()"
   ]
  },
  {
   "cell_type": "code",
   "execution_count": 25,
   "metadata": {
    "collapsed": true
   },
   "outputs": [],
   "source": [
    "dataset_2013_membership_pred.to_csv('./data/for_predictions/2013_membership_pred.csv', index=False)\n",
    "dataset_2013_gender_pred.to_csv('./data/for_predictions/2013_gender_pred.csv', index=False)\n",
    "\n",
    "dataset_2017_membership_pred.to_csv('./data/for_predictions/2017_membership_pred.csv', index=False)\n",
    "dataset_2017_gender_pred.to_csv('./data/for_predictions/2017_gender_pred.csv', index=False)"
   ]
  },
  {
   "cell_type": "code",
   "execution_count": 26,
   "metadata": {
    "collapsed": true
   },
   "outputs": [],
   "source": [
    "d2013 = None\n",
    "d2017 = None"
   ]
  }
 ],
 "metadata": {
  "kernelspec": {
   "display_name": "Python 3",
   "language": "python",
   "name": "python3"
  },
  "language_info": {
   "codemirror_mode": {
    "name": "ipython",
    "version": 3
   },
   "file_extension": ".py",
   "mimetype": "text/x-python",
   "name": "python",
   "nbconvert_exporter": "python",
   "pygments_lexer": "ipython3",
   "version": "3.6.1"
  }
 },
 "nbformat": 4,
 "nbformat_minor": 2
}
